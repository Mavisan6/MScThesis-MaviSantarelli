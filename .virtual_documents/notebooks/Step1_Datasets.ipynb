


# Import libraries
import pandas as pd
import numpy as np
import matplotlib.pyplot as plt
import seaborn as sns
from sklearn.preprocessing import StandardScaler
from sklearn.decomposition import PCA
from sklearn.cluster import KMeans





# Species trait data
species_traits = {
    'Species': ['Bufo bufo', 'Lissotriton helveticus', 'Lissotriton vulgaris', 
                'Rana temporaria', 'Triturus cristatus', 'Ichtyosaura alpestris'],
    'Body_Size_mm': [77.28, 77.24, 84.23, 70.14, 140.05, 95.06],
    'Metamorphosis_Size_mm': [11.75, 35, 39.67, 13.75, 61.25, 47.86],
    'Parental_Care': [0, 0, 0, 0, 0, 0],
    'Eggs_Number': [10000, 460, 300, 4000, 400, 260],
    'Juvenile_Diet': ['Mixed', 'Mixed', 'Mixed', 'Herbivores', 'Carnivorous', 'Insectivorous'],
    'Displacement_Mode': ['Terrestrial Vertical', 'Aquatic & Terrestrial', 
                          'Aquatic & Terrestrial', 'Terrestrial & Aquatic', 
                          'Aquatic & Terrestrial', 'Aquatic']
}

df = pd.DataFrame(species_traits)
df






# Convert categorical data using one-hot encoding
df_encoded = pd.get_dummies(df, columns=['Juvenile_Diet', 'Displacement_Mode'], drop_first=True)

# Separate features (excluding 'Species' column for the analysis)
features = df_encoded.drop('Species', axis=1)

# Standardize the features before PCA
scaler = StandardScaler()
features_scaled = scaler.fit_transform(features)

# Display the standardized features
pd.DataFrame(features_scaled, columns=features.columns)





from sklearn.decomposition import PCA

# Perform PCA
pca = PCA(n_components=2)
principal_components = pca.fit_transform(features_scaled)

# Create a DataFrame for the principal components
pca_df = pd.DataFrame(data=principal_components, columns=['PC1', 'PC2'])
pca_df['Species'] = df['Species']

# Display the explained variance
explained_variance = pca.explained_variance_ratio_
explained_variance






import matplotlib.pyplot as plt

# Plot the PCA result
plt.figure(figsize=(8,6))
for i, species in enumerate(pca_df['Species']):
    plt.scatter(pca_df['PC1'][i], pca_df['PC2'][i], label=species)

plt.title('PCA of Species Trait Data')
plt.xlabel(f'PC1 ({explained_variance[0]*100:.2f}% variance)')
plt.ylabel(f'PC2 ({explained_variance[1]*100:.2f}% variance)')
plt.axhline(0, color='grey', linestyle='--', linewidth=0.5)
plt.axvline(0, color='grey', linestyle='--', linewidth=0.5)

# Add species labels
for i, txt in enumerate(pca_df['Species']):
    plt.annotate(txt, (pca_df['PC1'][i], pca_df['PC2'][i]), fontsize=10)

plt.grid(True)
plt.legend(loc='best', bbox_to_anchor=(1, 1))
plt.show()






# Performing K-means clustering
kmeans = KMeans(n_clusters=2)
pca_df['Cluster'] = kmeans.fit_predict(principal_components)

# Plotting K-means clusters with cluster centroids
plt.figure(figsize=(10, 8))
sns.scatterplot(x='PC1', y='PC2', hue='Cluster', data=pca_df, palette='coolwarm', s=100)

# Plotting centroids
centroids = kmeans.cluster_centers_
plt.scatter(centroids[:, 0], centroids[:, 1], c='black', s=300, alpha=0.6, label='Centroids')

plt.title('K-means Clustering of Species Traits')
plt.xlabel(f'PC1 ({explained_variance[0]*100:.2f}% of variance explained)')
plt.ylabel(f'PC2 ({explained_variance[1]*100:.2f}% of variance explained)')
plt.legend()
plt.grid(True)
plt.show()
















