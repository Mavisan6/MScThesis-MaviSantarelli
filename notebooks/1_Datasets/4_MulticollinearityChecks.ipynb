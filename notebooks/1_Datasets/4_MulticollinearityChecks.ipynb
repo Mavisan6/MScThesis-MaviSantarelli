{
 "cells": [
  {
   "cell_type": "markdown",
   "id": "f58b4775-d8ef-4047-a9f3-41694a1116ec",
   "metadata": {},
   "source": [
    "# Multicollinearity Analysis for Environmental Modelling\n",
    "\n",
    "## 1. DTM and Slope \n",
    "\n",
    "In environmental modelling, multicollinearity between predictor variables can introduce redundancy and distort the results of statistical analyses and machine learning models. Slope and Digital Terrain Model (DTM) elevation data are often derived from the same terrain source, which can result in a high degree of correlation. This analysis aims to determine the extent of multicollinearity between these two variables to guide their inclusion in species distribution models (SDMs).\n",
    "\n",
    "The analysis calculates the Pearson correlation coefficient to assess the linear relationship between the two variables and uses the Variance Inflation Factor (VIF) to quantify multicollinearity. These metrics inform whether both predictors should be retained or if one should be excluded from the model to ensure robustness.\n"
   ]
  },
  {
   "cell_type": "code",
   "execution_count": 1,
   "id": "1ff996d6-70e5-4559-83b4-b59055be62f5",
   "metadata": {},
   "outputs": [
    {
     "name": "stdout",
     "output_type": "stream",
     "text": [
      "Loading raster data...\n",
      "Cleaning data...\n",
      "Pearson correlation coefficient between DTM and Slope: 0.73\n",
      "\n",
      "Variance Inflation Factor (VIF):\n",
      "  Variable       VIF\n",
      "0      DTM  2.766431\n",
      "1    Slope  2.766439\n",
      "\n",
      "High multicollinearity detected. Consider including only one variable (either DTM or Slope) in the model.\n"
     ]
    }
   ],
   "source": [
    "import rasterio\n",
    "import numpy as np\n",
    "import pandas as pd\n",
    "from sklearn.linear_model import LinearRegression\n",
    "from statsmodels.stats.outliers_influence import variance_inflation_factor\n",
    "\n",
    "# Define file paths for the DTM and slope rasters\n",
    "dtm_path = \"C:/GIS_Course/MScThesis-MaviSantarelli/data/Predictors/DTM/DTM_30.tif\"\n",
    "slope_path = \"C:/GIS_Course/MScThesis-MaviSantarelli/data/Predictors/Slope/Slope_30.tif\"\n",
    "\n",
    "# Function to read raster data and return flattened array of values\n",
    "def read_raster_as_array(raster_path):\n",
    "    with rasterio.open(raster_path) as src:\n",
    "        data = src.read(1)  # Read the first band\n",
    "        data[data == src.nodata] = np.nan  # Replace nodata values with NaN\n",
    "    return data.flatten()\n",
    "\n",
    "# Load raster data\n",
    "print(\"Loading raster data...\")\n",
    "dtm_values = read_raster_as_array(dtm_path)\n",
    "slope_values = read_raster_as_array(slope_path)\n",
    "\n",
    "# Remove NaN values from both arrays\n",
    "print(\"Cleaning data...\")\n",
    "valid_mask = ~np.isnan(dtm_values) & ~np.isnan(slope_values)\n",
    "dtm_clean = dtm_values[valid_mask]\n",
    "slope_clean = slope_values[valid_mask]\n",
    "\n",
    "# Combine into a DataFrame for analysis\n",
    "data = pd.DataFrame({\n",
    "    \"DTM\": dtm_clean,\n",
    "    \"Slope\": slope_clean\n",
    "})\n",
    "\n",
    "# Calculate Pearson correlation coefficient\n",
    "correlation = data.corr().loc[\"DTM\", \"Slope\"]\n",
    "print(f\"Pearson correlation coefficient between DTM and Slope: {correlation:.2f}\")\n",
    "\n",
    "# Calculate Variance Inflation Factor (VIF)\n",
    "def calculate_vif(df):\n",
    "    X = df.values\n",
    "    vif_data = pd.DataFrame()\n",
    "    vif_data[\"Variable\"] = df.columns\n",
    "    vif_data[\"VIF\"] = [variance_inflation_factor(X, i) for i in range(X.shape[1])]\n",
    "    return vif_data\n",
    "\n",
    "vif = calculate_vif(data)\n",
    "print(\"\\nVariance Inflation Factor (VIF):\")\n",
    "print(vif)\n",
    "\n",
    "# Interpretation\n",
    "if abs(correlation) > 0.7 or vif[\"VIF\"].max() > 5:\n",
    "    print(\"\\nHigh multicollinearity detected. Consider including only one variable (either DTM or Slope) in the model.\")\n",
    "else:\n",
    "    print(\"\\nLow multicollinearity detected. Both variables (DTM and Slope) can be included in the model.\")"
   ]
  },
  {
   "cell_type": "markdown",
   "id": "44c3d486-7c45-4dfb-bf34-7b820aaa7ce0",
   "metadata": {},
   "source": [
    "\n",
    "### **Results**\n",
    "\n",
    "### Pearson Correlation Coefficient\n",
    "The Pearson correlation coefficient between DTM and Slope was calculated as **0.73**. This indicates a strong positive linear relationship between the two variables. This result is expected since slope is mathematically derived from elevation data, leading to inherent correlation.\n",
    "\n",
    "### Variance Inflation Factor (VIF)\n",
    "The calculated VIF values for both variables are:\n",
    "- **DTM:** 2.77\n",
    "- **Slope:** 2.77\n",
    "\n",
    "Although these values are below the common threshold of 5, they are notable and suggest some level of redundancy. High VIF values typically indicate that one variable can be predicted from the other, leading to multicollinearity.\n",
    "\n",
    "### **Interpretation**\n",
    "The strong correlation and VIF values suggest that retaining both variables in the model may not significantly improve its predictive power. Including both could introduce redundancy, complicate model interpretation, and potentially inflate standard errors. \n",
    "\n",
    "### Why This Analysis is Interesting\n",
    "Applying multicollinearity analysis to slope and DTM is particularly relevant because:\n",
    "1. Both are derived from the same terrain data, making their relationship highly intuitive yet impactful on model performance.\n",
    "2. Environmental predictors in SDMs benefit from being orthogonal (uncorrelated), as this improves model stability and interpretability.\n",
    "3. Determining whether to include slope, DTM, or both ensures a streamlined model with reduced computational complexity and a focus on predictors that add unique explanatory value.\n",
    "\n",
    "This analysis underscores the importance of evaluating predictor variables for multicollinearity to enhance the reliability of species distribution models."
   ]
  },
  {
   "cell_type": "code",
   "execution_count": null,
   "id": "baaaa84b-4ae3-4ad8-b54b-24d63dd7d996",
   "metadata": {},
   "outputs": [],
   "source": []
  }
 ],
 "metadata": {
  "kernelspec": {
   "display_name": "Python (MscThesis)",
   "language": "python",
   "name": "mscthesis"
  },
  "language_info": {
   "codemirror_mode": {
    "name": "ipython",
    "version": 3
   },
   "file_extension": ".py",
   "mimetype": "text/x-python",
   "name": "python",
   "nbconvert_exporter": "python",
   "pygments_lexer": "ipython3",
   "version": "3.9.19"
  }
 },
 "nbformat": 4,
 "nbformat_minor": 5
}
