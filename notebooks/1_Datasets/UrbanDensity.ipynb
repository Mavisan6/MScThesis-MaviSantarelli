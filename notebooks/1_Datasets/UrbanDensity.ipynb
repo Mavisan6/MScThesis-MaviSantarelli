{
 "cells": [
  {
   "cell_type": "markdown",
   "id": "d5c34b6b-8c15-4a95-abdb-4530c0c01c18",
   "metadata": {},
   "source": [
    "# Buffer-Based Density Calculation\n",
    "This method involves counting the number of points (buildings) within a 250m neighbourhood radius for each raster cell.\n",
    "### 1. Create a Fishnet/Grid Over the Study Area"
   ]
  },
  {
   "cell_type": "code",
   "execution_count": 1,
   "id": "444cd29e-d589-433e-8099-e1ba8d9616d6",
   "metadata": {},
   "outputs": [],
   "source": [
    "import geopandas as gpd\n",
    "import numpy as np\n",
    "from shapely.geometry import box\n",
    "\n",
    "# Load your point layer\n",
    "buildings = gpd.read_file(\"C:/GIS_Course/MScThesis-MaviSantarelli/data/Predictors/UrbanDensity/Buildings_Points.shp\")\n",
    "\n",
    "# Define grid resolution and extent\n",
    "resolution = 30  # 30m cell size\n",
    "xmin, ymin, xmax, ymax = buildings.total_bounds  # Get the extent from the building points\n",
    "\n",
    "# Create the grid cells\n",
    "rows = int((ymax - ymin) / resolution)\n",
    "cols = int((xmax - xmin) / resolution)\n",
    "x_coords = np.arange(xmin, xmax, resolution)\n",
    "y_coords = np.arange(ymin, ymax, resolution)\n",
    "grid_cells = [box(x, y, x + resolution, y + resolution) for x in x_coords for y in y_coords]\n",
    "\n",
    "# Create a GeoDataFrame from the grid cells\n",
    "grid = gpd.GeoDataFrame(geometry=grid_cells, crs=buildings.crs)\n"
   ]
  },
  {
   "cell_type": "markdown",
   "id": "ba689428-736a-4ada-b3b5-1fca6307f3ca",
   "metadata": {},
   "source": [
    "### 2. Buffer Each Grid Cell and Count Points \n",
    "Buffer each grid cell by 250m and count the number of points (buildings) within the buffer."
   ]
  },
  {
   "cell_type": "code",
   "execution_count": 3,
   "id": "0b597fa7-1ff8-4515-8d0e-a9371ba7b423",
   "metadata": {
    "scrolled": true
   },
   "outputs": [],
   "source": [
    "# Reproject both the grid and building points to a projected CRS (e.g., EPSG:27700 - British National Grid)\n",
    "projected_crs = \"EPSG:27700\"\n",
    "buildings = buildings.to_crs(projected_crs)\n",
    "grid = grid.to_crs(projected_crs)\n",
    "\n",
    "# Buffer each grid cell by 250m\n",
    "grid[\"buffered\"] = grid.geometry.buffer(250)\n",
    "\n",
    "# Spatial join to count points within each buffer\n",
    "grid[\"building_count\"] = grid[\"buffered\"].apply(\n",
    "    lambda buf: buildings[buildings.geometry.within(buf)].shape[0]\n",
    ")\n",
    "\n",
    "# Remove the buffer geometry to keep only the grid and counts\n",
    "grid = grid.drop(columns=\"buffered\")"
   ]
  },
  {
   "cell_type": "markdown",
   "id": "637cd532-8a48-40d5-9e65-0434a7f75e52",
   "metadata": {},
   "source": [
    "### 3. Normalise the Density \n",
    "Normalise the count by the area of the buffer (πr², where r = 250m):"
   ]
  },
  {
   "cell_type": "code",
   "execution_count": 4,
   "id": "4353ddbb-38a2-4e94-879d-53d512baefae",
   "metadata": {},
   "outputs": [],
   "source": [
    "import numpy as np\n",
    "\n",
    "# Area of a 250m circular buffer in square metres\n",
    "buffer_area = np.pi * (250**2)\n",
    "\n",
    "# Normalise the building count by dividing by the buffer area\n",
    "grid[\"building_density\"] = grid[\"building_count\"] / buffer_area"
   ]
  },
  {
   "cell_type": "markdown",
   "id": "6992a876-f3c5-4f7c-91b6-ad4caee30e6c",
   "metadata": {},
   "source": [
    "### 4. Tile Based Rasterisation\n",
    "The code below performs tile-based rasterisation of a grid containing normalised building density values to create a raster predictor layer for use in species distribution modelling (SDM). The process is divided into smaller tiles (chunks) to avoid memory errors when working with large datasets and fine resolution (30m).\n",
    "\n"
   ]
  },
  {
   "cell_type": "code",
   "execution_count": null,
   "id": "3b19878f-f21d-401a-8ed2-a6bb548fb845",
   "metadata": {},
   "outputs": [],
   "source": [
    "import geopandas as gpd\n",
    "import numpy as np\n",
    "import rasterio\n",
    "from rasterio.features import rasterize\n",
    "from rasterio.transform import from_origin\n",
    "from shapely.geometry import box\n",
    "\n",
    "# Load the grid GeoDataFrame with building density\n",
    "grid = grid  # Assuming grid already has \"building_density\" column from previous steps\n",
    "\n",
    "# Define grid resolution and extent\n",
    "resolution = 30  # 30m cell size\n",
    "xmin, ymin, xmax, ymax = grid.total_bounds  # Get the extent from the grid\n",
    "tile_size = 10000  # Tile size in metres (10km x 10km tiles)\n",
    "\n",
    "# Create a GeoTIFF file to write the raster incrementally\n",
    "out_shape = (int((ymax - ymin) / resolution), int((xmax - xmin) / resolution))\n",
    "transform = from_origin(xmin, ymax, resolution, resolution)\n",
    "\n",
    "with rasterio.open(\n",
    "    \"C:/GIS_Course/MScThesis-MaviSantarelli/data/Predictors/UrbanDensity/urban_density_tiles.tif\",\n",
    "    \"w\",\n",
    "    driver=\"GTiff\",\n",
    "    height=out_shape[0],\n",
    "    width=out_shape[1],\n",
    "    count=1,\n",
    "    dtype=\"float32\",\n",
    "    crs=grid.crs,\n",
    "    transform=transform,\n",
    ") as dst:\n",
    "\n",
    "    # Loop over tiles in x and y directions\n",
    "    for x_start in np.arange(xmin, xmax, tile_size):\n",
    "        for y_start in np.arange(ymin, ymax, tile_size):\n",
    "            x_end = min(x_start + tile_size, xmax)\n",
    "            y_end = min(y_start + tile_size, ymax)\n",
    "            \n",
    "            # Create a bounding box for the current tile\n",
    "            tile_bbox = box(x_start, y_start, x_end, y_end)\n",
    "            \n",
    "            # Select grid cells that intersect the current tile\n",
    "            tile_grid = grid[grid.intersects(tile_bbox)]\n",
    "            \n",
    "            # Skip empty tiles\n",
    "            if tile_grid.empty:\n",
    "                continue\n",
    "            \n",
    "            # Rasterize the selected grid cells\n",
    "            tile_array = rasterize(\n",
    "                [(geom, value) for geom, value in zip(tile_grid.geometry, tile_grid[\"building_density\"])],\n",
    "                out_shape=(int((y_end - y_start) / resolution), int((x_end - x_start) / resolution)),\n",
    "                transform=from_origin(x_start, y_end, resolution, resolution),\n",
    "                fill=0,\n",
    "                dtype=\"float32\",\n",
    "            )\n",
    "            \n",
    "            # Calculate the window position in the output raster\n",
    "            row_start = int((ymax - y_end) / resolution)\n",
    "            col_start = int((x_start - xmin) / resolution)\n",
    "            window = rasterio.windows.Window(col_start, row_start, tile_array.shape[1], tile_array.shape[0])\n",
    "            \n",
    "            # Write the tile array to the output raster\n",
    "            dst.write(tile_array, 1, window=window)\n"
   ]
  },
  {
   "cell_type": "markdown",
   "id": "ed7fb924-a70d-4981-b634-6639e49da085",
   "metadata": {},
   "source": [
    "### 5. Plot"
   ]
  },
  {
   "cell_type": "code",
   "execution_count": null,
   "id": "55216a25-94b2-4af6-be95-5431b4a3bd56",
   "metadata": {},
   "outputs": [],
   "source": [
    "import rasterio\n",
    "import matplotlib.pyplot as plt\n",
    "\n",
    "# Open the generated raster\n",
    "raster_path = \"C:/GIS_Course/MScThesis-MaviSantarelli/data/Predictors/UrbanDensity/urban_density_tiles.tif\"\n",
    "with rasterio.open(raster_path) as src:\n",
    "    data = src.read(1)  # Read the first band (building density)\n",
    "    \n",
    "    # Plot the raster data\n",
    "    plt.figure(figsize=(10, 8))\n",
    "    plt.imshow(data, cmap=\"viridis\", extent=src.bounds)\n",
    "    plt.colorbar(label=\"Normalised Building Density\")\n",
    "    plt.title(\"Urban Density (Normalised)\")\n",
    "    plt.xlabel(\"Longitude (metres)\")\n",
    "    plt.ylabel(\"Latitude (metres)\")\n",
    "    plt.show()\n"
   ]
  },
  {
   "cell_type": "code",
   "execution_count": null,
   "id": "e1a4773a-2044-4462-8d36-7d6fac803e07",
   "metadata": {},
   "outputs": [],
   "source": []
  }
 ],
 "metadata": {
  "kernelspec": {
   "display_name": "Python (MscThesis)",
   "language": "python",
   "name": "mscthesis"
  },
  "language_info": {
   "codemirror_mode": {
    "name": "ipython",
    "version": 3
   },
   "file_extension": ".py",
   "mimetype": "text/x-python",
   "name": "python",
   "nbconvert_exporter": "python",
   "pygments_lexer": "ipython3",
   "version": "3.9.19"
  }
 },
 "nbformat": 4,
 "nbformat_minor": 5
}
