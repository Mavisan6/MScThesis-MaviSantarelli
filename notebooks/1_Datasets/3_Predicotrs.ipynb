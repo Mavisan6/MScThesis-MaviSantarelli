{
 "cells": [
  {
   "cell_type": "markdown",
   "id": "55baa216-5c3a-4674-8688-8e67c4143b2a",
   "metadata": {},
   "source": [
    "This script is designed to standardise environmental predictor layers for Species Distribution Modelling (SDM) using GDAL, an open-source geospatial data processing library. SDMs require consistent input data in terms of pixel type, resolution, extent, and NoData handling to ensure accurate and unbiased predictions of species distributions. Differences in these parameters across predictor layers can introduce errors during model fitting, bias in predictions, or slow down computations."
   ]
  }
 ],
 "metadata": {
  "kernelspec": {
   "display_name": "Python 3 (ipykernel)",
   "language": "python",
   "name": "python3"
  },
  "language_info": {
   "codemirror_mode": {
    "name": "ipython",
    "version": 3
   },
   "file_extension": ".py",
   "mimetype": "text/x-python",
   "name": "python",
   "nbconvert_exporter": "python",
   "pygments_lexer": "ipython3",
   "version": "3.11.7"
  }
 },
 "nbformat": 4,
 "nbformat_minor": 5
}
