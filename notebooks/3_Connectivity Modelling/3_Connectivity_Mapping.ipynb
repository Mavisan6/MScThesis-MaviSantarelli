{
 "cells": [
  {
   "cell_type": "markdown",
   "id": "d8481c78-541d-43a4-883b-63cd15493db0",
   "metadata": {},
   "source": [
    "# Connectivity Mapping using Expert-derived Resistance Rasters"
   ]
  },
  {
   "cell_type": "markdown",
   "id": "69421594-5c39-4a63-947b-f974c596f6ee",
   "metadata": {},
   "source": [
    "## Rasterise Focal Nodes"
   ]
  },
  {
   "cell_type": "code",
   "execution_count": 1,
   "id": "d8bf2d16-9a84-4591-bef3-52e6f5ad44be",
   "metadata": {},
   "outputs": [],
   "source": [
    "import geopandas as gpd\n",
    "import rasterio\n",
    "from rasterio.features import rasterize\n",
    "import os\n",
    "\n",
    "# Define paths for focal node shapefiles\n",
    "focal_node_paths = {\n",
    "    \"Bufo\": \"C:/GIS_Course/MScThesis-MaviSantarelli/data/FocalNodes/Bufo_Spawning.shp\",\n",
    "    \"Rana\": \"C:/GIS_Course/MScThesis-MaviSantarelli/data/FocalNodes/Rana_Spawning.shp\",\n",
    "    \"Lissotriton\": \"C:/GIS_Course/MScThesis-MaviSantarelli/data/FocalNodes/Liss_Spawning.shp\"\n",
    "}\n",
    "\n",
    "# Define output ASC paths\n",
    "output_asc_paths = {\n",
    "    \"Bufo\": \"C:/GIS_Course/MScThesis-MaviSantarelli/results/FocalNodes/Focal_Nodes_Bufo.asc\",\n",
    "    \"Rana\": \"C:/GIS_Course/MScThesis-MaviSantarelli/results/FocalNodes/Focal_Nodes_Rana.asc\",\n",
    "    \"Lissotriton\": \"C:/GIS_Course/MScThesis-MaviSantarelli/results/FocalNodes/Focal_Nodes_Lissotriton.asc\"\n",
    "}\n",
    "\n",
    "# Make sure the output directory exists\n",
    "os.makedirs(\"C:/GIS_Course/MScThesis-MaviSantarelli/results/FocalNodes\", exist_ok=True)\n",
    "\n",
    "# Reference resistance raster (for alignment)\n",
    "resistance_raster_path = \"C:/GIS_Course/MScThesis-MaviSantarelli/results/Resistance/Resistance_Exponential_Bufo.tif\"\n"
   ]
  },
  {
   "cell_type": "code",
   "execution_count": 2,
   "id": "70f1592b-9671-4f13-97ce-cfa384a97fe7",
   "metadata": {},
   "outputs": [],
   "source": [
    "# Open resistance raster to get metadata\n",
    "with rasterio.open(resistance_raster_path) as src:\n",
    "    meta = src.meta.copy()  # Copy metadata\n",
    "    raster_shape = src.shape  # Get raster dimensions (rows, cols)\n",
    "    raster_transform = src.transform  # Get raster extent and resolution\n"
   ]
  },
  {
   "cell_type": "code",
   "execution_count": 3,
   "id": "a713af78-6ce6-4329-87be-e2a77071a6de",
   "metadata": {},
   "outputs": [
    {
     "name": "stdout",
     "output_type": "stream",
     "text": [
      "✅ Rasterized focal nodes for Bufo.\n",
      "✅ Rasterized focal nodes for Rana.\n",
      "✅ Rasterized focal nodes for Lissotriton.\n"
     ]
    }
   ],
   "source": [
    "# Loop through each species' focal node shapefile\n",
    "for species, focal_path in focal_node_paths.items():\n",
    "    \n",
    "    # Load focal nodes\n",
    "    focal_nodes = gpd.read_file(focal_path)\n",
    "    \n",
    "    # Rasterizing focal nodes (1 = spawning site, 0 = background)\n",
    "    focal_nodes_raster = rasterize(\n",
    "        [(geom, 1) for geom in focal_nodes.geometry],  # Assign value 1 to spawning points\n",
    "        out_shape=raster_shape,  # Match resistance raster size\n",
    "        transform=raster_transform,  # Align with raster extent\n",
    "        fill=0,  # Background = 0 (non-focal areas)\n",
    "        all_touched=True,  # If points fall between pixels, include them\n",
    "        dtype=rasterio.uint8  # 8-bit integer for Circuitscape\n",
    "    )\n",
    "\n",
    "    print(f\"✅ Rasterized focal nodes for {species}.\")\n"
   ]
  },
  {
   "cell_type": "code",
   "execution_count": 4,
   "id": "248dd191-a298-41cc-8a80-6f54032e263f",
   "metadata": {},
   "outputs": [
    {
     "name": "stdout",
     "output_type": "stream",
     "text": [
      "✅ Bufo focal nodes raster saved at: C:/GIS_Course/MScThesis-MaviSantarelli/results/FocalNodes/Focal_Nodes_Bufo.asc\n",
      "✅ Rana focal nodes raster saved at: C:/GIS_Course/MScThesis-MaviSantarelli/results/FocalNodes/Focal_Nodes_Rana.asc\n",
      "✅ Lissotriton focal nodes raster saved at: C:/GIS_Course/MScThesis-MaviSantarelli/results/FocalNodes/Focal_Nodes_Lissotriton.asc\n"
     ]
    }
   ],
   "source": [
    "# Loop through each species and save as ASCII Grid\n",
    "for species, asc_path in output_asc_paths.items():\n",
    "    asc_meta = meta.copy()\n",
    "    asc_meta.update(driver=\"AAIGrid\", dtype=rasterio.uint8, nodata=0)  # NoData set to 0\n",
    "\n",
    "    with rasterio.open(asc_path, \"w\", **asc_meta) as dst:\n",
    "        dst.write(focal_nodes_raster.astype(rasterio.uint8), 1)\n",
    "\n",
    "    print(f\"✅ {species} focal nodes raster saved at: {asc_path}\")\n"
   ]
  },
  {
   "cell_type": "markdown",
   "id": "8a13111b-8f0a-49b0-a678-5ff12cade3d3",
   "metadata": {},
   "source": [
    "## Create Configuration Files"
   ]
  },
  {
   "cell_type": "code",
   "execution_count": 6,
   "id": "cd92a117-c917-4dae-9952-3f43c03b3ab5",
   "metadata": {},
   "outputs": [],
   "source": [
    "import os\n",
    "\n",
    "# Define base directory for Circuitscape configurations\n",
    "base_dir = \"C:/GIS_Course/MScThesis-MaviSantarelli/results/Circuitscape_Configs\"\n",
    "os.makedirs(base_dir, exist_ok=True)\n",
    "\n",
    "# Define species and resistance models\n",
    "species_list = [\"Bufo\", \"Rana\", \"Lissotriton\"]\n",
    "resistance_types = [\"Log\", \"Inv\", \"Linear\", \"Exponential\", \"Categorical\"]\n",
    "\n",
    "# Define resistance raster paths (adjust paths if needed)\n",
    "resistance_raster_paths = {\n",
    "    \"Bufo\": {\n",
    "        \"Log\": \"C:/GIS_Course/MScThesis-MaviSantarelli/results/Resistance/Resistance_Log_Bufo.tif\",\n",
    "        \"Inv\": \"C:/GIS_Course/MScThesis-MaviSantarelli/results/Resistance/Resistance_Inv_Bufo.tif\",\n",
    "        \"Linear\": \"C:/GIS_Course/MScThesis-MaviSantarelli/results/Resistance/Resistance_Linear_Bufo.tif\",\n",
    "        \"Exponential\": \"C:/GIS_Course/MScThesis-MaviSantarelli/results/Resistance/Resistance_Exponential_Bufo.tif\",\n",
    "        \"Categorical\": \"C:/GIS_Course/MScThesis-MaviSantarelli/results/Resistance/Resistance_Categorical_Bufo.tif\"\n",
    "    },\n",
    "    \"Rana\": {\n",
    "        \"Log\": \"C:/GIS_Course/MScThesis-MaviSantarelli/results/Resistance/Resistance_Log_Rana.tif\",\n",
    "        \"Inv\": \"C:/GIS_Course/MScThesis-MaviSantarelli/results/Resistance/Resistance_Inv_Rana.tif\",\n",
    "        \"Linear\": \"C:/GIS_Course/MScThesis-MaviSantarelli/results/Resistance/Resistance_Linear_Rana.tif\",\n",
    "        \"Exponential\": \"C:/GIS_Course/MScThesis-MaviSantarelli/results/Resistance/Resistance_Exponential_Rana.tif\",\n",
    "        \"Categorical\": \"C:/GIS_Course/MScThesis-MaviSantarelli/results/Resistance/Resistance_Categorical_Rana.tif\"\n",
    "    },\n",
    "    \"Lissotriton\": {\n",
    "        \"Log\": \"C:/GIS_Course/MScThesis-MaviSantarelli/results/Resistance/Resistance_Log_Lissotriton.tif\",\n",
    "        \"Inv\": \"C:/GIS_Course/MScThesis-MaviSantarelli/results/Resistance/Resistance_Inv_Lissotriton.tif\",\n",
    "        \"Linear\": \"C:/GIS_Course/MScThesis-MaviSantarelli/results/Resistance/Resistance_Linear_Lissotriton.tif\",\n",
    "        \"Exponential\": \"C:/GIS_Course/MScThesis-MaviSantarelli/results/Resistance/Resistance_Exponential_Lissotriton.tif\",\n",
    "        \"Categorical\": \"C:/GIS_Course/MScThesis-MaviSantarelli/results/Resistance/Resistance_Categorical_Lissotriton.tif\"\n",
    "    }\n",
    "}\n",
    "\n",
    "# Define focal node raster paths\n",
    "focal_node_paths = {\n",
    "    \"Bufo\": \"C:/GIS_Course/MScThesis-MaviSantarelli/results/FocalNodes/Focal_Nodes_Bufo.asc\",\n",
    "    \"Rana\": \"C:/GIS_Course/MScThesis-MaviSantarelli/results/FocalNodes/Focal_Nodes_Rana.asc\",\n",
    "    \"Lissotriton\": \"C:/GIS_Course/MScThesis-MaviSantarelli/results/FocalNodes/Focal_Nodes_Lissotriton.asc\"\n",
    "}\n"
   ]
  },
  {
   "cell_type": "code",
   "execution_count": 7,
   "id": "bec63f36-723e-40db-a80c-3ccf311291a4",
   "metadata": {},
   "outputs": [
    {
     "name": "stdout",
     "output_type": "stream",
     "text": [
      "✅ Optimized Circuitscape config saved: C:/GIS_Course/MScThesis-MaviSantarelli/results/Circuitscape_Configs\\Bufo_Log.ini\n",
      "✅ Optimized Circuitscape config saved: C:/GIS_Course/MScThesis-MaviSantarelli/results/Circuitscape_Configs\\Bufo_Inv.ini\n",
      "✅ Optimized Circuitscape config saved: C:/GIS_Course/MScThesis-MaviSantarelli/results/Circuitscape_Configs\\Bufo_Linear.ini\n",
      "✅ Optimized Circuitscape config saved: C:/GIS_Course/MScThesis-MaviSantarelli/results/Circuitscape_Configs\\Bufo_Exponential.ini\n",
      "✅ Optimized Circuitscape config saved: C:/GIS_Course/MScThesis-MaviSantarelli/results/Circuitscape_Configs\\Bufo_Categorical.ini\n",
      "✅ Optimized Circuitscape config saved: C:/GIS_Course/MScThesis-MaviSantarelli/results/Circuitscape_Configs\\Rana_Log.ini\n",
      "✅ Optimized Circuitscape config saved: C:/GIS_Course/MScThesis-MaviSantarelli/results/Circuitscape_Configs\\Rana_Inv.ini\n",
      "✅ Optimized Circuitscape config saved: C:/GIS_Course/MScThesis-MaviSantarelli/results/Circuitscape_Configs\\Rana_Linear.ini\n",
      "✅ Optimized Circuitscape config saved: C:/GIS_Course/MScThesis-MaviSantarelli/results/Circuitscape_Configs\\Rana_Exponential.ini\n",
      "✅ Optimized Circuitscape config saved: C:/GIS_Course/MScThesis-MaviSantarelli/results/Circuitscape_Configs\\Rana_Categorical.ini\n",
      "✅ Optimized Circuitscape config saved: C:/GIS_Course/MScThesis-MaviSantarelli/results/Circuitscape_Configs\\Lissotriton_Log.ini\n",
      "✅ Optimized Circuitscape config saved: C:/GIS_Course/MScThesis-MaviSantarelli/results/Circuitscape_Configs\\Lissotriton_Inv.ini\n",
      "✅ Optimized Circuitscape config saved: C:/GIS_Course/MScThesis-MaviSantarelli/results/Circuitscape_Configs\\Lissotriton_Linear.ini\n",
      "✅ Optimized Circuitscape config saved: C:/GIS_Course/MScThesis-MaviSantarelli/results/Circuitscape_Configs\\Lissotriton_Exponential.ini\n",
      "✅ Optimized Circuitscape config saved: C:/GIS_Course/MScThesis-MaviSantarelli/results/Circuitscape_Configs\\Lissotriton_Categorical.ini\n"
     ]
    }
   ],
   "source": [
    "# Create Circuitscape `.ini` file for each species & resistance type\n",
    "for species in species_list:\n",
    "    for resistance in resistance_types:\n",
    "        # Define output `.ini` file path\n",
    "        ini_path = os.path.join(base_dir, f\"{species}_{resistance}.ini\")\n",
    "        \n",
    "        # Optimized Circuitscape Configuration\n",
    "        config = f\"\"\"[Circuitscape]\n",
    "data_type = raster\n",
    "scenario = pairwise\n",
    "\n",
    "[Habitat raster or graph]\n",
    "habitat_file = {resistance_raster_paths[species][resistance]}\n",
    "habitat_map_is_resistances = True\n",
    "\n",
    "[Options for pairwise and one-to-all and all-to-one modes]\n",
    "point_file = {focal_node_paths[species]}\n",
    "\n",
    "[Output options]\n",
    "output_file = {base_dir}/{species}_{resistance}_output\n",
    "write_cur_maps = True\n",
    "write_volt_maps = False\n",
    "write_cum_cur_map_only = True\n",
    "write_max_cur_maps = False\n",
    "log_transform_maps = False\n",
    "set_null_currents_to_nodata = True\n",
    "set_null_voltages_to_nodata = True\n",
    "compress_grids = True\n",
    "\n",
    "[Calculation options]\n",
    "low_memory_mode = True\n",
    "solver = amg+cg  # Efficient for large rasters\n",
    "print_timings = False\n",
    "\n",
    "[Connection scheme for raster habitat data]\n",
    "connect_four_neighbors_only = False  # Allow diagonal movement\n",
    "connect_using_avg_resistances = False\n",
    "\n",
    "[Options for one-to-all and all-to-one modes]\n",
    "use_variable_source_strengths = False\n",
    "variable_source_file = None\n",
    "\"\"\"\n",
    "        # Save `.ini` file\n",
    "        with open(ini_path, \"w\") as file:\n",
    "            file.write(config)\n",
    "        \n",
    "        print(f\"✅ Optimized Circuitscape config saved: {ini_path}\")\n"
   ]
  },
  {
   "cell_type": "code",
   "execution_count": null,
   "id": "66e3974f-8835-4fd4-90e8-f1fe3bcbcdc7",
   "metadata": {},
   "outputs": [],
   "source": []
  }
 ],
 "metadata": {
  "kernelspec": {
   "display_name": "Python (MscThesis)",
   "language": "python",
   "name": "mscthesis"
  },
  "language_info": {
   "codemirror_mode": {
    "name": "ipython",
    "version": 3
   },
   "file_extension": ".py",
   "mimetype": "text/x-python",
   "name": "python",
   "nbconvert_exporter": "python",
   "pygments_lexer": "ipython3",
   "version": "3.9.19"
  }
 },
 "nbformat": 4,
 "nbformat_minor": 5
}
