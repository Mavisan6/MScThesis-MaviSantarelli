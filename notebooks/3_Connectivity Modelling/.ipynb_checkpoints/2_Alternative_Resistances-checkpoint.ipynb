{
 "cells": [
  {
   "cell_type": "markdown",
   "id": "2baaae72-f61f-41a4-9adb-49e3495ffb65",
   "metadata": {},
   "source": [
    "# Connectivity Analysis\n",
    "\n",
    "## Testing Alternative Resistance Scaling Methods"
   ]
  },
  {
   "cell_type": "code",
   "execution_count": 1,
   "id": "74db993a-e290-4e33-a271-9fc067f3cefc",
   "metadata": {},
   "outputs": [],
   "source": [
    "import numpy as np\n",
    "import rasterio\n",
    "import pandas as pd\n",
    "import matplotlib.pyplot as plt\n"
   ]
  },
  {
   "cell_type": "code",
   "execution_count": 2,
   "id": "4ba4105c-5a49-4e08-b6d0-16094d0f1bf9",
   "metadata": {},
   "outputs": [],
   "source": [
    "# Path to the fixed land cover raster\n",
    "fixed_raster_path = \"C:/GIS_Course/MScThesis-MaviSantarelli/data/LandCover/LandCover_Fixed.tif\"\n",
    "\n",
    "# Load the raster\n",
    "with rasterio.open(fixed_raster_path) as src:\n",
    "    landcover_data = src.read(1)  # Read raster data as a 2D NumPy array\n",
    "    meta = src.meta.copy()  # Store metadata for saving later\n",
    "    nodata_value = src.nodata  # Store NoData value\n"
   ]
  },
  {
   "cell_type": "code",
   "execution_count": 3,
   "id": "707a06ce-e450-4c44-81e6-01d340975f24",
   "metadata": {},
   "outputs": [],
   "source": [
    "# Load land cover reference table (maps VALUE to EUNIS codes)\n",
    "reference_path = \"C:/GIS_Course/MScThesis-MaviSantarelli/data/LandCover/reference.csv\"\n",
    "df_reference = pd.read_csv(reference_path)\n",
    "\n",
    "# Load EUNIS resistance table (EUNIS code to species suitability)\n",
    "eunis_file = \"C:/GIS_Course/MScThesis-MaviSantarelli/data/LandCover/mavi_data.csv\"\n",
    "df_reclass = pd.read_csv(eunis_file, skiprows=1)\n",
    "df_reclass.columns = [\"EUNIS_Code\", \"EUNIS_Description\", \"Bufo_bufo_Suitability\", \n",
    "                      \"Rana_temporaria_Suitability\", \"Lissotriton_helveticus_Suitability\"]\n"
   ]
  },
  {
   "cell_type": "code",
   "execution_count": 4,
   "id": "be918628-e595-4c29-a2f8-ca5c7e6d436c",
   "metadata": {},
   "outputs": [],
   "source": [
    "# Convert suitability values to numeric\n",
    "cols_to_convert = [\"Bufo_bufo_Suitability\", \"Rana_temporaria_Suitability\", \"Lissotriton_helveticus_Suitability\"]\n",
    "df_reclass[cols_to_convert] = df_reclass[cols_to_convert].apply(pd.to_numeric, errors=\"coerce\")\n"
   ]
  },
  {
   "cell_type": "markdown",
   "id": "754b701c-46a8-440f-b2ec-bafeb5234965",
   "metadata": {},
   "source": [
    "### Apply Resistance Scaling Methods\n",
    "\n",
    "#### (A) Linear Scaling"
   ]
  },
  {
   "cell_type": "code",
   "execution_count": 24,
   "id": "83646087-0b0f-4bfa-b394-abad984e11cd",
   "metadata": {},
   "outputs": [],
   "source": [
    "df_reclass[\"Linear_Bufo\"] = (df_reclass[\"Bufo_bufo_Suitability\"].max() - df_reclass[\"Bufo_bufo_Suitability\"]) / \\\n",
    "                            (df_reclass[\"Bufo_bufo_Suitability\"].max() - df_reclass[\"Bufo_bufo_Suitability\"].min()) * 100\n",
    "df_reclass[\"Linear_Rana\"] = (df_reclass[\"Rana_temporaria_Suitability\"].max() - df_reclass[\"Rana_temporaria_Suitability\"]) / \\\n",
    "                            (df_reclass[\"Rana_temporaria_Suitability\"].max() - df_reclass[\"Rana_temporaria_Suitability\"].min()) * 100\n",
    "df_reclass[\"Linear_Lissotriton\"] = (df_reclass[\"Lissotriton_helveticus_Suitability\"].max() - df_reclass[\"Lissotriton_helveticus_Suitability\"]) / \\\n",
    "                            (df_reclass[\"Lissotriton_helveticus_Suitability\"].max() - df_reclass[\"Lissotriton_helveticus_Suitability\"].min()) * 100\n"
   ]
  },
  {
   "cell_type": "markdown",
   "id": "a4890d4a-a2f3-4a69-a907-2f2da92c3eba",
   "metadata": {},
   "source": [
    "#### (B) Exponential Scaling"
   ]
  },
  {
   "cell_type": "code",
   "execution_count": 25,
   "id": "01117675-2398-448c-8c58-00fd725f16ae",
   "metadata": {},
   "outputs": [],
   "source": [
    "df_reclass[\"Exponential_Bufo\"] = np.exp(11 - df_reclass[\"Bufo_bufo_Suitability\"])  # Already correctly mapped\n",
    "df_reclass[\"Exponential_Rana\"] = np.exp(11 - df_reclass[\"Rana_temporaria_Suitability\"])\n",
    "df_reclass[\"Exponential_Lissotriton\"] = np.exp(11 - df_reclass[\"Lissotriton_helveticus_Suitability\"])\n",
    "\n",
    "# Normalize Exponential Scaling to 1-1000 range\n",
    "for species in [\"Bufo\", \"Rana\", \"Lissotriton\"]:\n",
    "    max_value = df_reclass[f\"Exponential_{species}\"].max()\n",
    "    df_reclass[f\"Exponential_{species}\"] = (df_reclass[f\"Exponential_{species}\"] / max_value) * 1000\n"
   ]
  },
  {
   "cell_type": "markdown",
   "id": "9f04a0fb-10fc-418e-8946-01aa27ba6f47",
   "metadata": {},
   "source": [
    "#### (C) Categorical Scaling"
   ]
  },
  {
   "cell_type": "code",
   "execution_count": 26,
   "id": "fb15c2ff-c6d7-4bf8-8444-4d3e5801a0b8",
   "metadata": {},
   "outputs": [],
   "source": [
    "df_reclass[\"Categorical_Bufo\"] = pd.cut(df_reclass[\"Bufo_bufo_Suitability\"], bins=[0, 3, 6, 8, 10, 11],\n",
    "                                         labels=[1000, 500, 200, 100, 10])  # Lower suitability = higher resistance\n",
    "df_reclass[\"Categorical_Rana\"] = pd.cut(df_reclass[\"Rana_temporaria_Suitability\"], bins=[0, 3, 6, 8, 10, 11],\n",
    "                                         labels=[1000, 500, 200, 100, 10])\n",
    "df_reclass[\"Categorical_Lissotriton\"] = pd.cut(df_reclass[\"Lissotriton_helveticus_Suitability\"], bins=[0, 3, 6, 8, 10, 11],\n",
    "                                         labels=[1000, 500, 200, 100, 10])"
   ]
  },
  {
   "cell_type": "markdown",
   "id": "7a126791-2a8e-447d-8f92-53bb95eef36d",
   "metadata": {},
   "source": [
    "### Create Mapping Dictionaries"
   ]
  },
  {
   "cell_type": "code",
   "execution_count": 27,
   "id": "ac56b69e-2495-498d-8ebf-17833076e2d1",
   "metadata": {},
   "outputs": [],
   "source": [
    "# Mapping EUNIS codes to resistance values for each species\n",
    "eunis_to_linear = dict(zip(df_reclass[\"EUNIS_Code\"], df_reclass[\"Linear_Bufo\"]))\n",
    "eunis_to_exponential = dict(zip(df_reclass[\"EUNIS_Code\"], df_reclass[\"Exponential_Bufo\"]))\n",
    "eunis_to_categorical = dict(zip(df_reclass[\"EUNIS_Code\"], df_reclass[\"Categorical_Bufo\"]))\n",
    "\n",
    "eunis_to_linear_rana = dict(zip(df_reclass[\"EUNIS_Code\"], df_reclass[\"Linear_Rana\"]))\n",
    "eunis_to_exponential_rana = dict(zip(df_reclass[\"EUNIS_Code\"], df_reclass[\"Exponential_Rana\"]))\n",
    "eunis_to_categorical_rana = dict(zip(df_reclass[\"EUNIS_Code\"], df_reclass[\"Categorical_Rana\"]))\n",
    "\n",
    "eunis_to_linear_lissotriton = dict(zip(df_reclass[\"EUNIS_Code\"], df_reclass[\"Linear_Lissotriton\"]))\n",
    "eunis_to_exponential_lissotriton = dict(zip(df_reclass[\"EUNIS_Code\"], df_reclass[\"Exponential_Lissotriton\"]))\n",
    "eunis_to_categorical_lissotriton = dict(zip(df_reclass[\"EUNIS_Code\"], df_reclass[\"Categorical_Lissotriton\"]))\n",
    "\n",
    "# Mapping raster values (1-28) to EUNIS codes\n",
    "value_to_eunis = dict(zip(df_reference[\"VALUE\"], df_reference[\"EUNIS_CODE\"]))\n",
    "\n",
    "# Mapping raster values (1-28) directly to resistance values\n",
    "value_to_linear = {val: eunis_to_linear.get(eunis, np.nan) for val, eunis in value_to_eunis.items()}\n",
    "value_to_exponential = {val: eunis_to_exponential.get(eunis, np.nan) for val, eunis in value_to_eunis.items()}\n",
    "value_to_categorical = {val: eunis_to_categorical.get(eunis, np.nan) for val, eunis in value_to_eunis.items()}\n",
    "\n",
    "value_to_linear_rana = {val: eunis_to_linear_rana.get(eunis, np.nan) for val, eunis in value_to_eunis.items()}\n",
    "value_to_exponential_rana = {val: eunis_to_exponential_rana.get(eunis, np.nan) for val, eunis in value_to_eunis.items()}\n",
    "value_to_categorical_rana = {val: eunis_to_categorical_rana.get(eunis, np.nan) for val, eunis in value_to_eunis.items()}\n",
    "\n",
    "value_to_linear_lissotriton = {val: eunis_to_linear_lissotriton.get(eunis, np.nan) for val, eunis in value_to_eunis.items()}\n",
    "value_to_exponential_lissotriton = {val: eunis_to_exponential_lissotriton.get(eunis, np.nan) for val, eunis in value_to_eunis.items()}\n",
    "value_to_categorical_lissotriton = {val: eunis_to_categorical_lissotriton.get(eunis, np.nan) for val, eunis in value_to_eunis.items()}\n"
   ]
  },
  {
   "cell_type": "markdown",
   "id": "178574a3-ceb0-417f-b324-a82ff54c2654",
   "metadata": {},
   "source": [
    "### Apply Resistance Mapping to Rasters"
   ]
  },
  {
   "cell_type": "code",
   "execution_count": 28,
   "id": "7e16a11b-b4cf-4359-9287-ba8d1cc5891b",
   "metadata": {},
   "outputs": [
    {
     "name": "stdout",
     "output_type": "stream",
     "text": [
      "✅ Successfully applied resistance values while skipping NoData (-32768) and zero values.\n"
     ]
    }
   ],
   "source": [
    "# Define a default resistance value for unmapped land cover types\n",
    "DEFAULT_RESISTANCE = 1000  # High resistance for unmapped areas\n",
    "\n",
    "# Create empty arrays for resistance rasters\n",
    "resistance_linear = np.copy(landcover_data)\n",
    "resistance_exponential = np.copy(landcover_data)\n",
    "resistance_categorical = np.copy(landcover_data)\n",
    "\n",
    "resistance_linear_rana = np.copy(landcover_data)\n",
    "resistance_exponential_rana = np.copy(landcover_data)\n",
    "resistance_categorical_rana = np.copy(landcover_data)\n",
    "\n",
    "resistance_linear_lissotriton = np.copy(landcover_data)\n",
    "resistance_exponential_lissotriton = np.copy(landcover_data)\n",
    "resistance_categorical_lissotriton = np.copy(landcover_data)\n",
    "\n",
    "# Handle NoData values FIRST (avoid modifying them)\n",
    "for resistance_map in [resistance_linear, resistance_exponential, resistance_categorical,\n",
    "                       resistance_linear_rana, resistance_exponential_rana, resistance_categorical_rana,\n",
    "                       resistance_linear_lissotriton, resistance_exponential_lissotriton, resistance_categorical_lissotriton]:\n",
    "    resistance_map[landcover_data == -32768] = -32768  # Preserve NoData\n",
    "    resistance_map[landcover_data == 0] = -32768  # Treat 0 as NoData\n",
    "\n",
    "# Apply resistance mapping while skipping NoData and zero values\n",
    "for val in np.unique(landcover_data):\n",
    "    if val in [-32768, 0]:  # Skip NoData and 0 values explicitly\n",
    "        continue\n",
    "\n",
    "    # Assign resistance values, using DEFAULT_RESISTANCE if NaN\n",
    "    resistance_linear[landcover_data == val] = value_to_linear.get(val, DEFAULT_RESISTANCE)\n",
    "    resistance_exponential[landcover_data == val] = value_to_exponential.get(val, DEFAULT_RESISTANCE)\n",
    "    resistance_categorical[landcover_data == val] = value_to_categorical.get(val, DEFAULT_RESISTANCE)\n",
    "\n",
    "    resistance_linear_rana[landcover_data == val] = value_to_linear_rana.get(val, DEFAULT_RESISTANCE)\n",
    "    resistance_exponential_rana[landcover_data == val] = value_to_exponential_rana.get(val, DEFAULT_RESISTANCE)\n",
    "    resistance_categorical_rana[landcover_data == val] = value_to_categorical_rana.get(val, DEFAULT_RESISTANCE)\n",
    "\n",
    "    resistance_linear_lissotriton[landcover_data == val] = value_to_linear_lissotriton.get(val, DEFAULT_RESISTANCE)\n",
    "    resistance_exponential_lissotriton[landcover_data == val] = value_to_exponential_lissotriton.get(val, DEFAULT_RESISTANCE)\n",
    "    resistance_categorical_lissotriton[landcover_data == val] = value_to_categorical_lissotriton.get(val, DEFAULT_RESISTANCE)\n",
    "\n",
    "print(\"✅ Successfully applied resistance values while skipping NoData (-32768) and zero values.\")\n"
   ]
  },
  {
   "cell_type": "markdown",
   "id": "b24e00ee-c95b-44e1-9c17-60cbda555ec3",
   "metadata": {},
   "source": [
    "### Save Resistance Rasters"
   ]
  },
  {
   "cell_type": "code",
   "execution_count": 31,
   "id": "90fb247b-d3dc-4672-882b-e4ab6f41afe7",
   "metadata": {},
   "outputs": [
    {
     "name": "stdout",
     "output_type": "stream",
     "text": [
      "✅ Linear_Bufo Resistance Raster saved at: C:/GIS_Course/MScThesis-MaviSantarelli/results/Resistance/Resistance_Linear_Bufo.tif\n",
      "✅ Exponential_Bufo Resistance Raster saved at: C:/GIS_Course/MScThesis-MaviSantarelli/results/Resistance/Resistance_Exponential_Bufo.tif\n",
      "✅ Categorical_Bufo Resistance Raster saved at: C:/GIS_Course/MScThesis-MaviSantarelli/results/Resistance/Resistance_Categorical_Bufo.tif\n",
      "✅ Linear_Rana Resistance Raster saved at: C:/GIS_Course/MScThesis-MaviSantarelli/results/Resistance/Resistance_Linear_Rana.tif\n",
      "✅ Exponential_Rana Resistance Raster saved at: C:/GIS_Course/MScThesis-MaviSantarelli/results/Resistance/Resistance_Exponential_Rana.tif\n",
      "✅ Categorical_Rana Resistance Raster saved at: C:/GIS_Course/MScThesis-MaviSantarelli/results/Resistance/Resistance_Categorical_Rana.tif\n",
      "✅ Linear_Lissotriton Resistance Raster saved at: C:/GIS_Course/MScThesis-MaviSantarelli/results/Resistance/Resistance_Linear_Lissotriton.tif\n",
      "✅ Exponential_Lissotriton Resistance Raster saved at: C:/GIS_Course/MScThesis-MaviSantarelli/results/Resistance/Resistance_Exponential_Lissotriton.tif\n",
      "✅ Categorical_Lissotriton Resistance Raster saved at: C:/GIS_Course/MScThesis-MaviSantarelli/results/Resistance/Resistance_Categorical_Lissotriton.tif\n"
     ]
    }
   ],
   "source": [
    "# Define output paths\n",
    "output_paths = {\n",
    "    \"Linear_Bufo\": \"C:/GIS_Course/MScThesis-MaviSantarelli/results/Resistance/Resistance_Linear_Bufo.tif\",\n",
    "    \"Exponential_Bufo\": \"C:/GIS_Course/MScThesis-MaviSantarelli/results/Resistance/Resistance_Exponential_Bufo.tif\",\n",
    "    \"Categorical_Bufo\": \"C:/GIS_Course/MScThesis-MaviSantarelli/results/Resistance/Resistance_Categorical_Bufo.tif\",\n",
    "    \"Linear_Rana\": \"C:/GIS_Course/MScThesis-MaviSantarelli/results/Resistance/Resistance_Linear_Rana.tif\",\n",
    "    \"Exponential_Rana\": \"C:/GIS_Course/MScThesis-MaviSantarelli/results/Resistance/Resistance_Exponential_Rana.tif\",\n",
    "    \"Categorical_Rana\": \"C:/GIS_Course/MScThesis-MaviSantarelli/results/Resistance/Resistance_Categorical_Rana.tif\",\n",
    "    \"Linear_Lissotriton\": \"C:/GIS_Course/MScThesis-MaviSantarelli/results/Resistance/Resistance_Linear_Lissotriton.tif\",\n",
    "    \"Exponential_Lissotriton\": \"C:/GIS_Course/MScThesis-MaviSantarelli/results/Resistance/Resistance_Exponential_Lissotriton.tif\",\n",
    "    \"Categorical_Lissotriton\": \"C:/GIS_Course/MScThesis-MaviSantarelli/results/Resistance/Resistance_Categorical_Lissotriton.tif\"\n",
    "}\n",
    "\n",
    "# Explicitly map dictionary keys to variable names\n",
    "resistance_maps = {\n",
    "    \"Linear_Bufo\": resistance_linear,\n",
    "    \"Exponential_Bufo\": resistance_exponential,\n",
    "    \"Categorical_Bufo\": resistance_categorical,\n",
    "    \"Linear_Rana\": resistance_linear_rana,\n",
    "    \"Exponential_Rana\": resistance_exponential_rana,\n",
    "    \"Categorical_Rana\": resistance_categorical_rana,\n",
    "    \"Linear_Lissotriton\": resistance_linear_lissotriton,\n",
    "    \"Exponential_Lissotriton\": resistance_exponential_lissotriton,\n",
    "    \"Categorical_Lissotriton\": resistance_categorical_lissotriton\n",
    "}\n",
    "\n",
    "# Save resistance rasters\n",
    "for method, path in output_paths.items():\n",
    "    meta.update(dtype=rasterio.float32)  # Ensure correct data format\n",
    "    with rasterio.open(path, \"w\", **meta) as dst:\n",
    "        dst.write(resistance_maps[method].astype(np.float32), 1)  # Directly access the correct variable\n",
    "    print(f\"✅ {method} Resistance Raster saved at: {path}\")\n"
   ]
  },
  {
   "cell_type": "markdown",
   "id": "8abf6b11-b9d2-485e-9990-6858bebadfd0",
   "metadata": {},
   "source": [
    "### Visualize the Resistance Rasters"
   ]
  },
  {
   "cell_type": "code",
   "execution_count": null,
   "id": "772ff598-0f74-4e4e-b103-d8ccd29214fa",
   "metadata": {},
   "outputs": [],
   "source": []
  }
 ],
 "metadata": {
  "kernelspec": {
   "display_name": "Python (MscThesis)",
   "language": "python",
   "name": "mscthesis"
  },
  "language_info": {
   "codemirror_mode": {
    "name": "ipython",
    "version": 3
   },
   "file_extension": ".py",
   "mimetype": "text/x-python",
   "name": "python",
   "nbconvert_exporter": "python",
   "pygments_lexer": "ipython3",
   "version": "3.9.19"
  }
 },
 "nbformat": 4,
 "nbformat_minor": 5
}
