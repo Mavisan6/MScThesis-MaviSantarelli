{
 "cells": [
  {
   "cell_type": "markdown",
   "id": "5ceecd7e-41d9-424f-a54a-0ccf7ecdba0c",
   "metadata": {},
   "source": [
    "# Addressing Sampling Bias in Species Distribution Models (SDMs)\n",
    "\n",
    "## Table of Content\n",
    "\n",
    "1. [Introduction](#1.-Introduction)\n",
    "2. [Model Re-runs Using Bias Files](#2.-Model-Re-runs-Using-Bias-Files)\n",
    "3. [Generate SDM Predictions](#3.-Generate-SDM-Predictions)\n",
    "\n",
    "## 1. Introduction\n",
    "Species distribution models (SDMs) are essential tools for predicting the potential distribution of species based on environmental variables and occurrence data. These models play a critical role in conservation planning, biodiversity management, and understanding ecological processes. However, the accuracy and reliability of SDMs can be significantly compromised by **sampling bias**—a common issue where data collection efforts are unevenly distributed across the study area, often due to easier access, proximity to research institutions, or observer preferences.\n",
    "\n",
    "### 1.1 The Problem of Sampling Bias\n",
    "\n",
    "Sampling bias occurs when certain areas within a study region are surveyed more intensively than others, leading to overrepresentation of species presence in those locations. This can result in models that inaccurately predict species distributions, reflecting survey effort rather than true ecological patterns. For example, urban areas or regions near research facilities may have more data points simply due to higher human activity and accessibility, while remote or rural areas remain underrepresented. This issue is particularly problematic in studies aiming to inform conservation strategies, as it may lead to the neglect of critical habitats that are under-surveyed.\n",
    "\n",
    "### 1.2 Strategies to Mitigate Sampling Bias\n",
    "\n",
    "To improve the robustness of SDMs and ensure that model outputs more accurately reflect true species distributions, several methods can be employed to address sampling bias:\n",
    "\n",
    "1. **Geographic and Environmental Thinning**: This method involves filtering occurrence data to reduce spatial clustering, ensuring a more even distribution of data points across the study area. Geographic thinning selects records that are spatially separated, while environmental thinning ensures that data points represent a broad range of environmental conditions. Both approaches have been shown to effectively reduce the impact of sampling bias (Redding et al., 2021).\n",
    "\n",
    "2. **Using Bias Files in Modeling Algorithms**: Incorporating bias files into algorithms like Maxent allows models to account for uneven survey efforts by weighting background points based on survey intensity. This helps to adjust predictions and improve model performance, leading to more accurate distribution maps (Phillips et al., 2009).\n",
    "\n",
    "3. **Pooling Presence-Only and Presence-Absence Data**: Combining different types of data can help correct sampling bias by leveraging the strengths of each dataset. Probabilistic models that integrate presence-only and presence-absence data across multiple species can jointly analyze the data, adjusting for bias and improving estimation efficiency (Fithian et al., 2015).\n",
    "\n",
    "4. **Model-Based Approaches to Sampling Bias**: Explicitly modeling the sampling process by including survey effort as a covariate can improve SDM accuracy. This approach acknowledges the non-random nature of data collection and adjusts predictions based on modeled sampling patterns (Robinson et al., 2017).\n",
    "\n",
    "By implementing these strategies, researchers can enhance the reliability of SDMs, ensuring that predictions are driven by ecological factors rather than artifacts of data collection.\n",
    "\n"
   ]
  },
  {
   "cell_type": "markdown",
   "id": "bff7732b-6b25-46f7-8084-9d92652f56b2",
   "metadata": {},
   "source": [
    "## 2. Model Re-runs Using Bias Files\n",
    "### 2.1 Load Required Libraries and Files"
   ]
  },
  {
   "cell_type": "code",
   "execution_count": 36,
   "id": "ca69acd9-fdc4-470e-814a-ec0bbf9e9491",
   "metadata": {},
   "outputs": [],
   "source": [
    "import geopandas as gpd\n",
    "import numpy as np\n",
    "import seaborn as sns\n",
    "import matplotlib.pyplot as plt\n",
    "import matplotlib.colors as mcolors\n",
    "from scipy.stats import gaussian_kde\n",
    "import rasterio\n",
    "from rasterio.transform import from_origin\n",
    "import os"
   ]
  },
  {
   "cell_type": "code",
   "execution_count": 37,
   "id": "410e1baf-45a2-483d-86bb-7b10424b3fcc",
   "metadata": {},
   "outputs": [],
   "source": [
    "# Define KDE bias layer paths for each species\n",
    "bias_layers = {\n",
    "    \"Bufo_bufo\": \"C:/GIS_Course/MScThesis-MaviSantarelli/results/bias_layers/Bufo_bufo_bias_layer.tif\",\n",
    "    \"Rana_temporaria\": \"C:/GIS_Course/MScThesis-MaviSantarelli/results/bias_layers/Rana_temporaria_bias_layer.tif\",\n",
    "    \"Lissotriton_helveticus\": \"C:/GIS_Course/MScThesis-MaviSantarelli/results/bias_layers/Lissotriton_helveticus_bias_layer.tif\"\n",
    "}\n",
    "\n",
    "# Load KDE bias layers\n",
    "kde_bias_layers = {}\n",
    "for species, bias_path in bias_layers.items():\n",
    "    with rasterio.open(bias_path) as src:\n",
    "        kde_bias_layers[species] = src.read(1)  # Load as numpy array\n"
   ]
  },
  {
   "cell_type": "code",
   "execution_count": 38,
   "id": "97ff0625-4bfb-4e6b-a362-e8cc436a523b",
   "metadata": {},
   "outputs": [],
   "source": [
    "import joblib\n",
    "\n",
    "# Load GLM Models (Lasso and Ridge Regularization)\n",
    "glm_lasso = joblib.load(\"C:/GIS_Course/MScThesis-MaviSantarelli/results/Models/Final_GLM/Models/Bufo bufo_GLM_Lasso_Threshold_0.3_Model.pkl\")\n",
    "glm_ridge = joblib.load(\"C:/GIS_Course/MScThesis-MaviSantarelli/results/Models/Final_GLM/Models/Bufo bufo_GLM_Ridge_Threshold_0.3_Model.pkl\")\n",
    "\n",
    "# Load GAM Model\n",
    "gam_model = joblib.load(\"C:/GIS_Course/MScThesis-MaviSantarelli/results/Models/Final_GAM/Bufo bufo_GAM_Model_CV.pkl\")\n",
    "\n",
    "# Load Random Forest Model\n",
    "rf_model = joblib.load(\"C:/GIS_Course/MScThesis-MaviSantarelli/results/Models/RandomForest/Bufo_bufo/RandomForest_Model.pkl\")\n",
    "\n",
    "# Load XGBoost Model\n",
    "xgb_model = joblib.load(\"C:/GIS_Course/MScThesis-MaviSantarelli/results/Models/XGBoost/Bufo_bufo/XGBoost_Model.pkl\")\n",
    "\n",
    "# Maxent will be handled differently (since .rds files are usually R-based)\n",
    "maxent_path = \"C:/GIS_Course/MScThesis-MaviSantarelli/results/Models/Maxent/Maxent_Bufo_bufo.rds\"\n"
   ]
  },
  {
   "cell_type": "code",
   "execution_count": 39,
   "id": "865c3b11-e481-438b-8742-e1a720c87c72",
   "metadata": {},
   "outputs": [],
   "source": [
    "import rasterio\n",
    "from rasterio.plot import show\n",
    "import numpy as np\n",
    "import os\n",
    "\n",
    "# Define file paths to raster predictors\n",
    "predictor_files = [\n",
    "    \"C:/GIS_Course/MScThesis-MaviSantarelli/data/Predictors/Input/Reversed/Building_Density_Reversed.tif\",\n",
    "    \"C:/GIS_Course/MScThesis-MaviSantarelli/data/Predictors/Input/Reversed/DistWater_Reversed.tif\",\n",
    "    \"C:/GIS_Course/MScThesis-MaviSantarelli/data/Predictors/Input/Reversed/NOx_Stand_Reversed.tif\",\n",
    "    \"C:/GIS_Course/MScThesis-MaviSantarelli/data/Predictors/Input/Reversed/RGS_Reversed.tif\",\n",
    "    \"C:/GIS_Course/MScThesis-MaviSantarelli/data/Predictors/Input/Reversed/Runoff_Coefficient_Standardised_Reversed.tif\",\n",
    "    \"C:/GIS_Course/MScThesis-MaviSantarelli/data/Predictors/Input/Reversed/Slope_Proj_Reversed.tif\",\n",
    "    \"C:/GIS_Course/MScThesis-MaviSantarelli/data/Predictors/Input/Reversed/SoilMoisture_32bit_Reversed.tif\",\n",
    "    \"C:/GIS_Course/MScThesis-MaviSantarelli/data/Predictors/Input/Reversed/Traffic_Reversed.tif\",\n",
    "    \"C:/GIS_Course/MScThesis-MaviSantarelli/data/Predictors/Input/Reversed/Wood_Resample_Reversed.tif\",\n",
    "    \"C:/GIS_Course/MScThesis-MaviSantarelli/data/Predictors/Input/Grass_Stand.tif\",\n",
    "    \"C:/GIS_Course/MScThesis-MaviSantarelli/data/Predictors/Input/NDVI_median.tif\",\n",
    "    \"C:/GIS_Course/MScThesis-MaviSantarelli/data/Predictors/Input/NDVI_StDev.tif\",\n",
    "    \"C:/GIS_Course/MScThesis-MaviSantarelli/data/Predictors/Input/VegHeight.tif\"\n",
    "]\n"
   ]
  },
  {
   "cell_type": "code",
   "execution_count": 40,
   "id": "6e03482f-ca72-497e-a243-7fea827f8f03",
   "metadata": {},
   "outputs": [
    {
     "name": "stdout",
     "output_type": "stream",
     "text": [
      "Building_Density_Reversed.tif\n",
      "  Shape: (5971, 6369)\n",
      "  Resolution: (30.0, 30.0)\n",
      "  CRS: EPSG:27700\n",
      "  Bounds: BoundingBox(left=195957.49140268576, bottom=554940.9023270598, right=387027.49140268576, top=734070.9023270598)\n",
      "\n",
      "DistWater_Reversed.tif\n",
      "  Shape: (5971, 6369)\n",
      "  Resolution: (30.0, 30.0)\n",
      "  CRS: EPSG:27700\n",
      "  Bounds: BoundingBox(left=195962.10163310927, bottom=554933.5372726112, right=387032.10163310927, top=734063.5372726112)\n",
      "\n",
      "NOx_Stand_Reversed.tif\n",
      "  Shape: (5971, 6369)\n",
      "  Resolution: (30.0, 30.0)\n",
      "  CRS: EPSG:27700\n",
      "  Bounds: BoundingBox(left=195962.10163310927, bottom=554933.5372726112, right=387032.10163310927, top=734063.5372726112)\n",
      "\n",
      "RGS_Reversed.tif\n",
      "  Shape: (5971, 6369)\n",
      "  Resolution: (30.0, 30.0)\n",
      "  CRS: EPSG:27700\n",
      "  Bounds: BoundingBox(left=195962.10163310927, bottom=554933.5372726112, right=387032.10163310927, top=734063.5372726112)\n",
      "\n",
      "Runoff_Coefficient_Standardised_Reversed.tif\n",
      "  Shape: (5970, 6369)\n",
      "  Resolution: (30.0, 30.0)\n",
      "  CRS: EPSG:27700\n",
      "  Bounds: BoundingBox(left=195953.21484855085, bottom=554968.8661739801, right=387023.21484855085, top=734068.8661739801)\n",
      "\n",
      "Slope_Proj_Reversed.tif\n",
      "  Shape: (5971, 6369)\n",
      "  Resolution: (30.0, 30.0)\n",
      "  CRS: EPSG:27700\n",
      "  Bounds: BoundingBox(left=195957.49140268576, bottom=554940.9023270598, right=387027.49140268576, top=734070.9023270598)\n",
      "\n",
      "SoilMoisture_32bit_Reversed.tif\n",
      "  Shape: (5972, 6370)\n",
      "  Resolution: (30.0, 30.0)\n",
      "  CRS: EPSG:27700\n",
      "  Bounds: BoundingBox(left=195957.49140268576, bottom=554910.9023270598, right=387057.49140268576, top=734070.9023270598)\n",
      "\n",
      "Traffic_Reversed.tif\n",
      "  Shape: (5971, 6369)\n",
      "  Resolution: (30.0, 30.0)\n",
      "  CRS: EPSG:27700\n",
      "  Bounds: BoundingBox(left=195957.49140268576, bottom=554940.9023270598, right=387027.49140268576, top=734070.9023270598)\n",
      "\n",
      "Wood_Resample_Reversed.tif\n",
      "  Shape: (5971, 6369)\n",
      "  Resolution: (30.0, 30.0)\n",
      "  CRS: EPSG:27700\n",
      "  Bounds: BoundingBox(left=195957.49140268576, bottom=554940.9023270598, right=387027.49140268576, top=734070.9023270598)\n",
      "\n",
      "Grass_Stand.tif\n",
      "  Shape: (5971, 6369)\n",
      "  Resolution: (30.0, 30.0)\n",
      "  CRS: EPSG:27700\n",
      "  Bounds: BoundingBox(left=195957.49140268576, bottom=554940.9023270598, right=387027.49140268576, top=734070.9023270598)\n",
      "\n",
      "NDVI_median.tif\n",
      "  Shape: (5971, 6369)\n",
      "  Resolution: (30.0, 30.0)\n",
      "  CRS: EPSG:27700\n",
      "  Bounds: BoundingBox(left=195957.49140268576, bottom=554940.9023270598, right=387027.49140268576, top=734070.9023270598)\n",
      "\n",
      "NDVI_StDev.tif\n",
      "  Shape: (5973, 6371)\n",
      "  Resolution: (30.0, 30.0)\n",
      "  CRS: EPSG:27700\n",
      "  Bounds: BoundingBox(left=196017.49140268576, bottom=554970.9023270598, right=387147.49140268576, top=734160.9023270598)\n",
      "\n",
      "VegHeight.tif\n",
      "  Shape: (5971, 6369)\n",
      "  Resolution: (30.0, 30.0)\n",
      "  CRS: EPSG:27700\n",
      "  Bounds: BoundingBox(left=195957.49140268576, bottom=554940.9023270598, right=387027.49140268576, top=734070.9023270598)\n",
      "\n"
     ]
    }
   ],
   "source": [
    "import rasterio\n",
    "\n",
    "# Check dimensions, resolution, and CRS of each raster\n",
    "for file in predictor_files:\n",
    "    with rasterio.open(file) as src:\n",
    "        print(f\"{os.path.basename(file)}\")\n",
    "        print(f\"  Shape: {src.shape}\")\n",
    "        print(f\"  Resolution: {src.res}\")\n",
    "        print(f\"  CRS: {src.crs}\")\n",
    "        print(f\"  Bounds: {src.bounds}\\n\")\n"
   ]
  },
  {
   "cell_type": "code",
   "execution_count": 41,
   "id": "01cc1c7c-740f-484a-ae2d-b6be2e44c503",
   "metadata": {},
   "outputs": [
    {
     "name": "stdout",
     "output_type": "stream",
     "text": [
      "Aligned predictors shape: (5971, 6369, 13)\n"
     ]
    }
   ],
   "source": [
    "from rasterio.warp import reproject, Resampling\n",
    "import numpy as np\n",
    "\n",
    "# Use 'Building_Density_Reversed.tif' as the reference raster\n",
    "reference_raster_path = \"C:/GIS_Course/MScThesis-MaviSantarelli/data/Predictors/Input/Reversed/Building_Density_Reversed.tif\"\n",
    "\n",
    "with rasterio.open(reference_raster_path) as ref_src:\n",
    "    ref_meta = ref_src.meta.copy()\n",
    "    ref_shape = ref_src.shape\n",
    "    ref_transform = ref_src.transform\n",
    "    ref_crs = ref_src.crs\n",
    "    ref_bounds = ref_src.bounds\n",
    "\n",
    "# Function to resample rasters to match reference raster\n",
    "def resample_to_reference(raster_path, ref_meta, ref_transform, ref_crs, ref_shape):\n",
    "    with rasterio.open(raster_path) as src:\n",
    "        if (src.shape != ref_shape) or (src.transform != ref_transform):\n",
    "            resampled_data = np.empty(ref_shape, dtype=src.dtypes[0])\n",
    "\n",
    "            reproject(\n",
    "                source=rasterio.band(src, 1),\n",
    "                destination=resampled_data,\n",
    "                src_transform=src.transform,\n",
    "                src_crs=src.crs,\n",
    "                dst_transform=ref_transform,\n",
    "                dst_crs=ref_crs,\n",
    "                resampling=Resampling.bilinear  # Use 'nearest' for categorical data\n",
    "            )\n",
    "            return resampled_data\n",
    "        else:\n",
    "            return src.read(1)\n",
    "\n",
    "# Resample and align all rasters\n",
    "aligned_rasters = []\n",
    "for file in predictor_files:\n",
    "    aligned_raster = resample_to_reference(file, ref_meta, ref_transform, ref_crs, ref_shape)\n",
    "    aligned_rasters.append(aligned_raster)\n",
    "\n",
    "# Stack aligned rasters into a 3D numpy array\n",
    "predictors_array = np.stack(aligned_rasters, axis=-1)\n",
    "print(\"Aligned predictors shape:\", predictors_array.shape)\n"
   ]
  },
  {
   "cell_type": "markdown",
   "id": "c7fd04c4-0ff8-48c2-b892-3ac76035978e",
   "metadata": {},
   "source": [
    "### 2.2 Add KDE Bias Layer to Aligned Predictors"
   ]
  },
  {
   "cell_type": "code",
   "execution_count": 42,
   "id": "c5878231-1fad-4069-8e77-dfff8237857e",
   "metadata": {},
   "outputs": [
    {
     "name": "stdout",
     "output_type": "stream",
     "text": [
      "Predictors with KDE Bias shape: (5971, 6369, 14)\n"
     ]
    }
   ],
   "source": [
    "# Load KDE Bias Layer\n",
    "with rasterio.open(\"C:/GIS_Course/MScThesis-MaviSantarelli/results/bias_layers/Bufo_bufo_bias_layer.tif\") as bias_src:\n",
    "    if bias_src.shape != ref_shape:\n",
    "        kde_bias = np.empty(ref_shape, dtype=bias_src.dtypes[0])\n",
    "\n",
    "        reproject(\n",
    "            source=rasterio.band(bias_src, 1),\n",
    "            destination=kde_bias,\n",
    "            src_transform=bias_src.transform,\n",
    "            src_crs=bias_src.crs,\n",
    "            dst_transform=ref_transform,\n",
    "            dst_crs=ref_crs,\n",
    "            resampling=Resampling.bilinear\n",
    "        )\n",
    "    else:\n",
    "        kde_bias = bias_src.read(1)\n",
    "\n",
    "# Add KDE Bias as the last predictor\n",
    "predictors_with_bias = np.dstack((predictors_array, kde_bias))\n",
    "print(\"Predictors with KDE Bias shape:\", predictors_with_bias.shape)\n"
   ]
  },
  {
   "cell_type": "markdown",
   "id": "e71f0632-df78-480a-bc2b-7acd4997a58a",
   "metadata": {},
   "source": [
    "### 2.3 Flatten for Model Predictions"
   ]
  },
  {
   "cell_type": "code",
   "execution_count": 43,
   "id": "6aff0b9b-cbdd-4332-a0a7-98f75a832b97",
   "metadata": {},
   "outputs": [
    {
     "name": "stdout",
     "output_type": "stream",
     "text": [
      "Valid predictors shape: (38029299, 14)\n"
     ]
    }
   ],
   "source": [
    "# Flatten predictors for model input\n",
    "num_rows, num_cols, num_predictors = predictors_with_bias.shape\n",
    "flat_predictors = predictors_with_bias.reshape((num_rows * num_cols, num_predictors))\n",
    "\n",
    "# Check for NaN values and create a mask for valid data\n",
    "valid_mask = ~np.isnan(flat_predictors).any(axis=1)\n",
    "flat_predictors_valid = flat_predictors[valid_mask]\n",
    "\n",
    "print(\"Valid predictors shape:\", flat_predictors_valid.shape)\n"
   ]
  },
  {
   "cell_type": "markdown",
   "id": "366deb88-c198-43b7-b711-1b25c0d93dba",
   "metadata": {},
   "source": [
    "### 2.3 Retrain Models"
   ]
  },
  {
   "cell_type": "code",
   "execution_count": 23,
   "id": "e316943c-ab3d-4252-890d-e12ed43cf3bb",
   "metadata": {},
   "outputs": [
    {
     "name": "stdout",
     "output_type": "stream",
     "text": [
      "Loading training data for Bufo bufo...\n",
      "  Loading training data for model: GLM...\n",
      "  Loading training data for model: GAM...\n",
      "  Loading training data for model: Maxent...\n",
      "  Loading training data for model: RF...\n",
      "  Loading training data for model: XGBoost...\n",
      "Loading training data for Rana temporaria...\n",
      "  Loading training data for model: GLM...\n",
      "  Loading training data for model: GAM...\n",
      "  Loading training data for model: Maxent...\n",
      "  Loading training data for model: RF...\n",
      "  Loading training data for model: XGBoost...\n",
      "Loading training data for Lissotriton helveticus...\n",
      "  Loading training data for model: GLM...\n",
      "  Loading training data for model: GAM...\n",
      "  Loading training data for model: Maxent...\n",
      "  Loading training data for model: RF...\n",
      "  Loading training data for model: XGBoost...\n"
     ]
    }
   ],
   "source": [
    "import pandas as pd\n",
    "\n",
    "# Define file paths for training data only (partitioned data)\n",
    "partitioned_train_files = {\n",
    "    \"Bufo bufo\": {\n",
    "        \"GLM\": \"C:/GIS_Course/MScThesis-MaviSantarelli/data/Partitioned/Bufo bufo_GLM_subsampled_train.csv\",\n",
    "        \"GAM\": \"C:/GIS_Course/MScThesis-MaviSantarelli/data/Partitioned/Bufo bufo_GAM_subsampled_train.csv\",\n",
    "        \"Maxent\": \"C:/GIS_Course/MScThesis-MaviSantarelli/data/Partitioned/Bufo bufo_Maxent_subsampled_train.csv\",\n",
    "        \"RF\": [f\"C:/GIS_Course/MScThesis-MaviSantarelli/data/Partitioned/Bufo bufo_RF_subsampled_run{i}_train.csv\" for i in range(1, 11)],\n",
    "        \"XGBoost\": [f\"C:/GIS_Course/MScThesis-MaviSantarelli/data/Partitioned/Bufo bufo_XGBoost_subsampled_run{i}_train.csv\" for i in range(1, 11)]\n",
    "    },\n",
    "    \"Rana temporaria\": {\n",
    "        \"GLM\": \"C:/GIS_Course/MScThesis-MaviSantarelli/data/Partitioned/Rana temporaria_GLM_subsampled_train.csv\",\n",
    "        \"GAM\": \"C:/GIS_Course/MScThesis-MaviSantarelli/data/Partitioned/Rana temporaria_GAM_subsampled_train.csv\",\n",
    "        \"Maxent\": \"C:/GIS_Course/MScThesis-MaviSantarelli/data/Partitioned/Rana temporaria_Maxent_subsampled_train.csv\",\n",
    "        \"RF\": [f\"C:/GIS_Course/MScThesis-MaviSantarelli/data/Partitioned/Rana temporaria_RF_subsampled_run{i}_train.csv\" for i in range(1, 11)],\n",
    "        \"XGBoost\": [f\"C:/GIS_Course/MScThesis-MaviSantarelli/data/Partitioned/Rana temporaria_XGBoost_subsampled_run{i}_train.csv\" for i in range(1, 11)]\n",
    "    },\n",
    "    \"Lissotriton helveticus\": {\n",
    "        \"GLM\": \"C:/GIS_Course/MScThesis-MaviSantarelli/data/Partitioned/Lissotriton helveticus_GLM_subsampled_train.csv\",\n",
    "        \"GAM\": \"C:/GIS_Course/MScThesis-MaviSantarelli/data/Partitioned/Lissotriton helveticus_GAM_subsampled_train.csv\",\n",
    "        \"Maxent\": \"C:/GIS_Course/MScThesis-MaviSantarelli/data/Partitioned/Lissotriton helveticus_Maxent_subsampled_train.csv\",\n",
    "        \"RF\": [f\"C:/GIS_Course/MScThesis-MaviSantarelli/data/Partitioned/Lissotriton helveticus_RF_subsampled_run{i}_train.csv\" for i in range(1, 11)],\n",
    "        \"XGBoost\": [f\"C:/GIS_Course/MScThesis-MaviSantarelli/data/Partitioned/Lissotriton helveticus_XGBoost_subsampled_run{i}_train.csv\" for i in range(1, 11)]\n",
    "    }\n",
    "}\n",
    "\n",
    "# Load the training data for each species and model into a dictionary\n",
    "loaded_train_data = {}\n",
    "\n",
    "for species, models in partitioned_train_files.items():\n",
    "    print(f\"Loading training data for {species}...\")\n",
    "    loaded_train_data[species] = {}\n",
    "    \n",
    "    for model_name, file_paths in models.items():\n",
    "        print(f\"  Loading training data for model: {model_name}...\")\n",
    "        \n",
    "        # Handle single-file models (GLM, GAM, Maxent)\n",
    "        if isinstance(file_paths, str):  # Single file for training\n",
    "            loaded_train_data[species][model_name] = pd.read_csv(file_paths)\n",
    "        else:  # Handle iterative models (RF, XGBoost)\n",
    "            loaded_train_data[species][model_name] = [pd.read_csv(file_path) for file_path in file_paths]\n"
   ]
  },
  {
   "cell_type": "code",
   "execution_count": 24,
   "id": "4227f43e-0b93-4582-88c4-6e1a914805e1",
   "metadata": {},
   "outputs": [
    {
     "name": "stdout",
     "output_type": "stream",
     "text": [
      "Loading test data for Bufo bufo...\n",
      "  Loading test data for model: GLM...\n",
      "  Loading test data for model: GAM...\n",
      "  Loading test data for model: Maxent...\n",
      "  Loading test data for model: RF...\n",
      "  Loading test data for model: XGBoost...\n",
      "Loading test data for Rana temporaria...\n",
      "  Loading test data for model: GLM...\n",
      "  Loading test data for model: GAM...\n",
      "  Loading test data for model: Maxent...\n",
      "  Loading test data for model: RF...\n",
      "  Loading test data for model: XGBoost...\n",
      "Loading test data for Lissotriton helveticus...\n",
      "  Loading test data for model: GLM...\n",
      "  Loading test data for model: GAM...\n",
      "  Loading test data for model: Maxent...\n",
      "  Loading test data for model: RF...\n",
      "  Loading test data for model: XGBoost...\n"
     ]
    }
   ],
   "source": [
    "import pandas as pd\n",
    "\n",
    "# Define file paths for test data only (partitioned data)\n",
    "partitioned_test_files = {\n",
    "    \"Bufo bufo\": {\n",
    "        \"GLM\": \"C:/GIS_Course/MScThesis-MaviSantarelli/data/Partitioned/Bufo bufo_GLM_subsampled_test.csv\",\n",
    "        \"GAM\": \"C:/GIS_Course/MScThesis-MaviSantarelli/data/Partitioned/Bufo bufo_GAM_subsampled_test.csv\",\n",
    "        \"Maxent\": \"C:/GIS_Course/MScThesis-MaviSantarelli/data/Partitioned/Bufo bufo_Maxent_subsampled_test.csv\",\n",
    "        \"RF\": [f\"C:/GIS_Course/MScThesis-MaviSantarelli/data/Partitioned/Bufo bufo_RF_subsampled_run{i}_test.csv\" for i in range(1, 11)],\n",
    "        \"XGBoost\": [f\"C:/GIS_Course/MScThesis-MaviSantarelli/data/Partitioned/Bufo bufo_XGBoost_subsampled_run{i}_test.csv\" for i in range(1, 11)]\n",
    "    },\n",
    "    \"Rana temporaria\": {\n",
    "        \"GLM\": \"C:/GIS_Course/MScThesis-MaviSantarelli/data/Partitioned/Rana temporaria_GLM_subsampled_test.csv\",\n",
    "        \"GAM\": \"C:/GIS_Course/MScThesis-MaviSantarelli/data/Partitioned/Rana temporaria_GAM_subsampled_test.csv\",\n",
    "        \"Maxent\": \"C:/GIS_Course/MScThesis-MaviSantarelli/data/Partitioned/Rana temporaria_Maxent_subsampled_test.csv\",\n",
    "        \"RF\": [f\"C:/GIS_Course/MScThesis-MaviSantarelli/data/Partitioned/Rana temporaria_RF_subsampled_run{i}_test.csv\" for i in range(1, 11)],\n",
    "        \"XGBoost\": [f\"C:/GIS_Course/MScThesis-MaviSantarelli/data/Partitioned/Rana temporaria_XGBoost_subsampled_run{i}_test.csv\" for i in range(1, 11)]\n",
    "    },\n",
    "    \"Lissotriton helveticus\": {\n",
    "        \"GLM\": \"C:/GIS_Course/MScThesis-MaviSantarelli/data/Partitioned/Lissotriton helveticus_GLM_subsampled_test.csv\",\n",
    "        \"GAM\": \"C:/GIS_Course/MScThesis-MaviSantarelli/data/Partitioned/Lissotriton helveticus_GAM_subsampled_test.csv\",\n",
    "        \"Maxent\": \"C:/GIS_Course/MScThesis-MaviSantarelli/data/Partitioned/Lissotriton helveticus_Maxent_subsampled_test.csv\",\n",
    "        \"RF\": [f\"C:/GIS_Course/MScThesis-MaviSantarelli/data/Partitioned/Lissotriton helveticus_RF_subsampled_run{i}_test.csv\" for i in range(1, 11)],\n",
    "        \"XGBoost\": [f\"C:/GIS_Course/MScThesis-MaviSantarelli/data/Partitioned/Lissotriton helveticus_XGBoost_subsampled_run{i}_test.csv\" for i in range(1, 11)]\n",
    "    }\n",
    "}\n",
    "\n",
    "# Load the test data for each species and model into a dictionary\n",
    "loaded_test_data = {}\n",
    "\n",
    "for species, models in partitioned_test_files.items():\n",
    "    print(f\"Loading test data for {species}...\")\n",
    "    loaded_test_data[species] = {}\n",
    "    \n",
    "    for model_name, file_paths in models.items():\n",
    "        print(f\"  Loading test data for model: {model_name}...\")\n",
    "        \n",
    "        # Handle single-file models (GLM, GAM, Maxent)\n",
    "        if isinstance(file_paths, str):  # Single file for test\n",
    "            loaded_test_data[species][model_name] = pd.read_csv(file_paths)\n",
    "        else:  # Handle iterative models (RF, XGBoost)\n",
    "            loaded_test_data[species][model_name] = [pd.read_csv(file_path) for file_path in file_paths]"
   ]
  },
  {
   "cell_type": "markdown",
   "id": "827d14ce-5ce5-465f-9655-a13a1f98394f",
   "metadata": {},
   "source": [
    "#### **GLM**"
   ]
  },
  {
   "cell_type": "code",
   "execution_count": 28,
   "id": "926c4d8b-ac85-44da-931b-ffe869a0dc58",
   "metadata": {},
   "outputs": [
    {
     "name": "stdout",
     "output_type": "stream",
     "text": [
      "Retraining GLM model for Bufo bufo with KDE bias...\n",
      "GLM model retrained and saved for Bufo bufo: C:/GIS_Course/MScThesis-MaviSantarelli/results/Models/Final_GLM/Models/Bufo_bufo_GLM_Lasso_with_KDE.pkl\n",
      "\n",
      "Retraining GLM model for Rana temporaria with KDE bias...\n",
      "GLM model retrained and saved for Rana temporaria: C:/GIS_Course/MScThesis-MaviSantarelli/results/Models/Final_GLM/Models/Rana_temporaria_GLM_Lasso_with_KDE.pkl\n",
      "\n",
      "Retraining GLM model for Lissotriton helveticus with KDE bias...\n",
      "GLM model retrained and saved for Lissotriton helveticus: C:/GIS_Course/MScThesis-MaviSantarelli/results/Models/Final_GLM/Models/Lissotriton_helveticus_GLM_Lasso_with_KDE.pkl\n",
      "\n"
     ]
    }
   ],
   "source": [
    "from sklearn.linear_model import LogisticRegressionCV\n",
    "import joblib\n",
    "import rasterio\n",
    "\n",
    "# Define species list and file paths\n",
    "species_list = [\"Bufo bufo\", \"Rana temporaria\", \"Lissotriton helveticus\"]\n",
    "\n",
    "# Iterate through each species to retrain the GLM model with KDE bias\n",
    "for species in species_list:\n",
    "    print(f\"Retraining GLM model for {species} with KDE bias...\")\n",
    "    \n",
    "    # Load the partitioned training data for GLM\n",
    "    train_data_glm = loaded_train_data[species][\"GLM\"]\n",
    "    \n",
    "    # Load the corresponding KDE bias layer\n",
    "    kde_bias_path = f\"C:/GIS_Course/MScThesis-MaviSantarelli/results/bias_layers/{species.replace(' ', '_')}_bias_layer.tif\"\n",
    "    \n",
    "    with rasterio.open(kde_bias_path) as src:\n",
    "        kde_bias = src.read(1).flatten()\n",
    "    \n",
    "    # Ensure the KDE bias layer matches the length of the training data\n",
    "    train_data_glm['kde_bias'] = kde_bias[:len(train_data_glm)]\n",
    "    \n",
    "    # Define predictors and target variable\n",
    "    X_train = train_data_glm.drop(columns=['label'])  # Assuming 'label' is the target column\n",
    "    y_train = train_data_glm['label']\n",
    "    \n",
    "    # Retrain the GLM model with Lasso regularization\n",
    "    glm_lasso = LogisticRegressionCV(cv=5, penalty='l1', solver='liblinear', max_iter=1000)\n",
    "    glm_lasso.fit(X_train, y_train)\n",
    "    \n",
    "    # Save the retrained GLM model\n",
    "    model_save_path = f\"C:/GIS_Course/MScThesis-MaviSantarelli/results/Models/Final_GLM/Models/{species.replace(' ', '_')}_GLM_Lasso_with_KDE.pkl\"\n",
    "    joblib.dump(glm_lasso, model_save_path)\n",
    "    \n",
    "    print(f\"GLM model retrained and saved for {species}: {model_save_path}\\n\")\n"
   ]
  },
  {
   "cell_type": "markdown",
   "id": "07f2d987-9b38-4f22-9a13-e3a2b74945ab",
   "metadata": {},
   "source": [
    "#### **GAM**"
   ]
  },
  {
   "cell_type": "code",
   "execution_count": 29,
   "id": "370ca003-9290-4dfa-bcb0-1cde53042a0a",
   "metadata": {},
   "outputs": [
    {
     "name": "stdout",
     "output_type": "stream",
     "text": [
      "Retraining GAM model for Bufo bufo with KDE bias...\n",
      "GAM model retrained and saved for Bufo bufo: C:/GIS_Course/MScThesis-MaviSantarelli/results/Models/Final_GAM/Bufo_bufo_GAM_Model_with_KDE.pkl\n",
      "\n",
      "Retraining GAM model for Rana temporaria with KDE bias...\n",
      "GAM model retrained and saved for Rana temporaria: C:/GIS_Course/MScThesis-MaviSantarelli/results/Models/Final_GAM/Rana_temporaria_GAM_Model_with_KDE.pkl\n",
      "\n",
      "Retraining GAM model for Lissotriton helveticus with KDE bias...\n",
      "GAM model retrained and saved for Lissotriton helveticus: C:/GIS_Course/MScThesis-MaviSantarelli/results/Models/Final_GAM/Lissotriton_helveticus_GAM_Model_with_KDE.pkl\n",
      "\n"
     ]
    }
   ],
   "source": [
    "from pygam import LogisticGAM\n",
    "import joblib\n",
    "import rasterio\n",
    "\n",
    "# Iterate through each species to retrain GAM models with KDE bias\n",
    "for species in species_list:\n",
    "    print(f\"Retraining GAM model for {species} with KDE bias...\")\n",
    "    \n",
    "    # Load the partitioned training data for GAM\n",
    "    train_data_gam = loaded_train_data[species][\"GAM\"]\n",
    "    \n",
    "    # Load the corresponding KDE bias layer\n",
    "    kde_bias_path = f\"C:/GIS_Course/MScThesis-MaviSantarelli/results/bias_layers/{species.replace(' ', '_')}_bias_layer.tif\"\n",
    "    \n",
    "    with rasterio.open(kde_bias_path) as src:\n",
    "        kde_bias = src.read(1).flatten()\n",
    "    \n",
    "    # Ensure the KDE bias matches the training data length\n",
    "    train_data_gam['kde_bias'] = kde_bias[:len(train_data_gam)]\n",
    "    \n",
    "    # Define predictors and target variable\n",
    "    X_train = train_data_gam.drop(columns=['label'])  # Assuming 'label' is the target column\n",
    "    y_train = train_data_gam['label']\n",
    "    \n",
    "    # Retrain GAM model\n",
    "    gam_model = LogisticGAM().fit(X_train, y_train)\n",
    "    \n",
    "    # Save the retrained GAM model\n",
    "    model_save_path = f\"C:/GIS_Course/MScThesis-MaviSantarelli/results/Models/Final_GAM/{species.replace(' ', '_')}_GAM_Model_with_KDE.pkl\"\n",
    "    joblib.dump(gam_model, model_save_path)\n",
    "    \n",
    "    print(f\"GAM model retrained and saved for {species}: {model_save_path}\\n\")\n"
   ]
  },
  {
   "cell_type": "markdown",
   "id": "21af7017-6d90-4a85-9413-7a038f8782fd",
   "metadata": {},
   "source": [
    "#### **RF**"
   ]
  },
  {
   "cell_type": "code",
   "execution_count": 30,
   "id": "34c79295-4d4d-438f-bc82-ccdb2f42edda",
   "metadata": {},
   "outputs": [
    {
     "name": "stdout",
     "output_type": "stream",
     "text": [
      "Retraining Random Forest models for Bufo bufo with KDE bias...\n",
      "Run 1 model saved for Bufo bufo: C:/GIS_Course/MScThesis-MaviSantarelli/results/Models/RandomForest/Bufo_bufo/RandomForest_Model_run1_with_KDE.pkl\n",
      "Run 2 model saved for Bufo bufo: C:/GIS_Course/MScThesis-MaviSantarelli/results/Models/RandomForest/Bufo_bufo/RandomForest_Model_run2_with_KDE.pkl\n",
      "Run 3 model saved for Bufo bufo: C:/GIS_Course/MScThesis-MaviSantarelli/results/Models/RandomForest/Bufo_bufo/RandomForest_Model_run3_with_KDE.pkl\n",
      "Run 4 model saved for Bufo bufo: C:/GIS_Course/MScThesis-MaviSantarelli/results/Models/RandomForest/Bufo_bufo/RandomForest_Model_run4_with_KDE.pkl\n",
      "Run 5 model saved for Bufo bufo: C:/GIS_Course/MScThesis-MaviSantarelli/results/Models/RandomForest/Bufo_bufo/RandomForest_Model_run5_with_KDE.pkl\n",
      "Run 6 model saved for Bufo bufo: C:/GIS_Course/MScThesis-MaviSantarelli/results/Models/RandomForest/Bufo_bufo/RandomForest_Model_run6_with_KDE.pkl\n",
      "Run 7 model saved for Bufo bufo: C:/GIS_Course/MScThesis-MaviSantarelli/results/Models/RandomForest/Bufo_bufo/RandomForest_Model_run7_with_KDE.pkl\n",
      "Run 8 model saved for Bufo bufo: C:/GIS_Course/MScThesis-MaviSantarelli/results/Models/RandomForest/Bufo_bufo/RandomForest_Model_run8_with_KDE.pkl\n",
      "Run 9 model saved for Bufo bufo: C:/GIS_Course/MScThesis-MaviSantarelli/results/Models/RandomForest/Bufo_bufo/RandomForest_Model_run9_with_KDE.pkl\n",
      "Run 10 model saved for Bufo bufo: C:/GIS_Course/MScThesis-MaviSantarelli/results/Models/RandomForest/Bufo_bufo/RandomForest_Model_run10_with_KDE.pkl\n",
      "All Random Forest models retrained for Bufo bufo.\n",
      "\n",
      "Retraining Random Forest models for Rana temporaria with KDE bias...\n",
      "Run 1 model saved for Rana temporaria: C:/GIS_Course/MScThesis-MaviSantarelli/results/Models/RandomForest/Rana_temporaria/RandomForest_Model_run1_with_KDE.pkl\n",
      "Run 2 model saved for Rana temporaria: C:/GIS_Course/MScThesis-MaviSantarelli/results/Models/RandomForest/Rana_temporaria/RandomForest_Model_run2_with_KDE.pkl\n",
      "Run 3 model saved for Rana temporaria: C:/GIS_Course/MScThesis-MaviSantarelli/results/Models/RandomForest/Rana_temporaria/RandomForest_Model_run3_with_KDE.pkl\n",
      "Run 4 model saved for Rana temporaria: C:/GIS_Course/MScThesis-MaviSantarelli/results/Models/RandomForest/Rana_temporaria/RandomForest_Model_run4_with_KDE.pkl\n",
      "Run 5 model saved for Rana temporaria: C:/GIS_Course/MScThesis-MaviSantarelli/results/Models/RandomForest/Rana_temporaria/RandomForest_Model_run5_with_KDE.pkl\n",
      "Run 6 model saved for Rana temporaria: C:/GIS_Course/MScThesis-MaviSantarelli/results/Models/RandomForest/Rana_temporaria/RandomForest_Model_run6_with_KDE.pkl\n",
      "Run 7 model saved for Rana temporaria: C:/GIS_Course/MScThesis-MaviSantarelli/results/Models/RandomForest/Rana_temporaria/RandomForest_Model_run7_with_KDE.pkl\n",
      "Run 8 model saved for Rana temporaria: C:/GIS_Course/MScThesis-MaviSantarelli/results/Models/RandomForest/Rana_temporaria/RandomForest_Model_run8_with_KDE.pkl\n",
      "Run 9 model saved for Rana temporaria: C:/GIS_Course/MScThesis-MaviSantarelli/results/Models/RandomForest/Rana_temporaria/RandomForest_Model_run9_with_KDE.pkl\n",
      "Run 10 model saved for Rana temporaria: C:/GIS_Course/MScThesis-MaviSantarelli/results/Models/RandomForest/Rana_temporaria/RandomForest_Model_run10_with_KDE.pkl\n",
      "All Random Forest models retrained for Rana temporaria.\n",
      "\n",
      "Retraining Random Forest models for Lissotriton helveticus with KDE bias...\n",
      "Run 1 model saved for Lissotriton helveticus: C:/GIS_Course/MScThesis-MaviSantarelli/results/Models/RandomForest/Lissotriton_helveticus/RandomForest_Model_run1_with_KDE.pkl\n",
      "Run 2 model saved for Lissotriton helveticus: C:/GIS_Course/MScThesis-MaviSantarelli/results/Models/RandomForest/Lissotriton_helveticus/RandomForest_Model_run2_with_KDE.pkl\n",
      "Run 3 model saved for Lissotriton helveticus: C:/GIS_Course/MScThesis-MaviSantarelli/results/Models/RandomForest/Lissotriton_helveticus/RandomForest_Model_run3_with_KDE.pkl\n",
      "Run 4 model saved for Lissotriton helveticus: C:/GIS_Course/MScThesis-MaviSantarelli/results/Models/RandomForest/Lissotriton_helveticus/RandomForest_Model_run4_with_KDE.pkl\n",
      "Run 5 model saved for Lissotriton helveticus: C:/GIS_Course/MScThesis-MaviSantarelli/results/Models/RandomForest/Lissotriton_helveticus/RandomForest_Model_run5_with_KDE.pkl\n",
      "Run 6 model saved for Lissotriton helveticus: C:/GIS_Course/MScThesis-MaviSantarelli/results/Models/RandomForest/Lissotriton_helveticus/RandomForest_Model_run6_with_KDE.pkl\n",
      "Run 7 model saved for Lissotriton helveticus: C:/GIS_Course/MScThesis-MaviSantarelli/results/Models/RandomForest/Lissotriton_helveticus/RandomForest_Model_run7_with_KDE.pkl\n",
      "Run 8 model saved for Lissotriton helveticus: C:/GIS_Course/MScThesis-MaviSantarelli/results/Models/RandomForest/Lissotriton_helveticus/RandomForest_Model_run8_with_KDE.pkl\n",
      "Run 9 model saved for Lissotriton helveticus: C:/GIS_Course/MScThesis-MaviSantarelli/results/Models/RandomForest/Lissotriton_helveticus/RandomForest_Model_run9_with_KDE.pkl\n",
      "Run 10 model saved for Lissotriton helveticus: C:/GIS_Course/MScThesis-MaviSantarelli/results/Models/RandomForest/Lissotriton_helveticus/RandomForest_Model_run10_with_KDE.pkl\n",
      "All Random Forest models retrained for Lissotriton helveticus.\n",
      "\n"
     ]
    }
   ],
   "source": [
    "from sklearn.ensemble import RandomForestClassifier\n",
    "import joblib\n",
    "import rasterio\n",
    "\n",
    "# Retrain Random Forest models for all species\n",
    "for species in species_list:\n",
    "    print(f\"Retraining Random Forest models for {species} with KDE bias...\")\n",
    "    \n",
    "    rf_runs = loaded_train_data[species][\"RF\"]\n",
    "    rf_models = []\n",
    "    \n",
    "    # Load the KDE bias layer\n",
    "    kde_bias_path = f\"C:/GIS_Course/MScThesis-MaviSantarelli/results/bias_layers/{species.replace(' ', '_')}_bias_layer.tif\"\n",
    "    with rasterio.open(kde_bias_path) as src:\n",
    "        kde_bias = src.read(1).flatten()\n",
    "    \n",
    "    # Retrain RF for each subsampled run\n",
    "    for i, run_data in enumerate(rf_runs, start=1):\n",
    "        run_data['kde_bias'] = kde_bias[:len(run_data)]\n",
    "        \n",
    "        X_train = run_data.drop(columns=['label'])\n",
    "        y_train = run_data['label']\n",
    "        \n",
    "        rf_model = RandomForestClassifier(n_estimators=100, random_state=42)\n",
    "        rf_model.fit(X_train, y_train)\n",
    "        \n",
    "        # Save each model\n",
    "        model_save_path = f\"C:/GIS_Course/MScThesis-MaviSantarelli/results/Models/RandomForest/{species.replace(' ', '_')}/RandomForest_Model_run{i}_with_KDE.pkl\"\n",
    "        joblib.dump(rf_model, model_save_path)\n",
    "        rf_models.append(rf_model)\n",
    "        \n",
    "        print(f\"Run {i} model saved for {species}: {model_save_path}\")\n",
    "    \n",
    "    print(f\"All Random Forest models retrained for {species}.\\n\")\n"
   ]
  },
  {
   "cell_type": "code",
   "execution_count": 65,
   "id": "8f395d28-7a2b-4bd6-9a21-2a633f9b938a",
   "metadata": {},
   "outputs": [
    {
     "name": "stdout",
     "output_type": "stream",
     "text": [
      "Loading Random Forest models for Bufo_bufo...\n",
      "10 Random Forest models loaded for Bufo_bufo.\n",
      "\n",
      "Loading Random Forest models for Rana_temporaria...\n",
      "10 Random Forest models loaded for Rana_temporaria.\n",
      "\n",
      "Loading Random Forest models for Lissotriton_helveticus...\n",
      "10 Random Forest models loaded for Lissotriton_helveticus.\n",
      "\n"
     ]
    }
   ],
   "source": [
    "import joblib\n",
    "import os\n",
    "\n",
    "# Define species list\n",
    "species_list = [\"Bufo_bufo\", \"Rana_temporaria\", \"Lissotriton_helveticus\"]\n",
    "\n",
    "# Initialize dictionary to store Random Forest models for each species\n",
    "rf_models_all_species = {}\n",
    "\n",
    "# Load Random Forest models for each species\n",
    "for species in species_list:\n",
    "    print(f\"Loading Random Forest models for {species}...\")\n",
    "    \n",
    "    rf_model_dir = f\"C:/GIS_Course/MScThesis-MaviSantarelli/results/Models/RandomForest/{species}/\"\n",
    "    rf_models = []\n",
    "    \n",
    "    # Load all 10 iterations\n",
    "    for i in range(1, 11):\n",
    "        model_path = os.path.join(rf_model_dir, f\"RandomForest_Model_run{i}_with_KDE.pkl\")\n",
    "        rf_models.append(joblib.load(model_path))\n",
    "    \n",
    "    rf_models_all_species[species] = rf_models\n",
    "    print(f\"{len(rf_models)} Random Forest models loaded for {species}.\\n\")\n"
   ]
  },
  {
   "cell_type": "markdown",
   "id": "3487f3e8-568f-489d-b814-1994d373e765",
   "metadata": {},
   "source": [
    "#### **XGBoost**"
   ]
  },
  {
   "cell_type": "code",
   "execution_count": 31,
   "id": "97e97af9-8118-49d1-a95b-a9a87d1a0c23",
   "metadata": {},
   "outputs": [
    {
     "name": "stdout",
     "output_type": "stream",
     "text": [
      "Retraining XGBoost models for Bufo bufo with KDE bias...\n",
      "Run 1 model saved for Bufo bufo: C:/GIS_Course/MScThesis-MaviSantarelli/results/Models/XGBoost/Bufo_bufo/XGBoost_Model_run1_with_KDE.pkl\n",
      "Run 2 model saved for Bufo bufo: C:/GIS_Course/MScThesis-MaviSantarelli/results/Models/XGBoost/Bufo_bufo/XGBoost_Model_run2_with_KDE.pkl\n",
      "Run 3 model saved for Bufo bufo: C:/GIS_Course/MScThesis-MaviSantarelli/results/Models/XGBoost/Bufo_bufo/XGBoost_Model_run3_with_KDE.pkl\n",
      "Run 4 model saved for Bufo bufo: C:/GIS_Course/MScThesis-MaviSantarelli/results/Models/XGBoost/Bufo_bufo/XGBoost_Model_run4_with_KDE.pkl\n",
      "Run 5 model saved for Bufo bufo: C:/GIS_Course/MScThesis-MaviSantarelli/results/Models/XGBoost/Bufo_bufo/XGBoost_Model_run5_with_KDE.pkl\n",
      "Run 6 model saved for Bufo bufo: C:/GIS_Course/MScThesis-MaviSantarelli/results/Models/XGBoost/Bufo_bufo/XGBoost_Model_run6_with_KDE.pkl\n",
      "Run 7 model saved for Bufo bufo: C:/GIS_Course/MScThesis-MaviSantarelli/results/Models/XGBoost/Bufo_bufo/XGBoost_Model_run7_with_KDE.pkl\n",
      "Run 8 model saved for Bufo bufo: C:/GIS_Course/MScThesis-MaviSantarelli/results/Models/XGBoost/Bufo_bufo/XGBoost_Model_run8_with_KDE.pkl\n",
      "Run 9 model saved for Bufo bufo: C:/GIS_Course/MScThesis-MaviSantarelli/results/Models/XGBoost/Bufo_bufo/XGBoost_Model_run9_with_KDE.pkl\n",
      "Run 10 model saved for Bufo bufo: C:/GIS_Course/MScThesis-MaviSantarelli/results/Models/XGBoost/Bufo_bufo/XGBoost_Model_run10_with_KDE.pkl\n",
      "All XGBoost models retrained for Bufo bufo.\n",
      "\n",
      "Retraining XGBoost models for Rana temporaria with KDE bias...\n",
      "Run 1 model saved for Rana temporaria: C:/GIS_Course/MScThesis-MaviSantarelli/results/Models/XGBoost/Rana_temporaria/XGBoost_Model_run1_with_KDE.pkl\n",
      "Run 2 model saved for Rana temporaria: C:/GIS_Course/MScThesis-MaviSantarelli/results/Models/XGBoost/Rana_temporaria/XGBoost_Model_run2_with_KDE.pkl\n",
      "Run 3 model saved for Rana temporaria: C:/GIS_Course/MScThesis-MaviSantarelli/results/Models/XGBoost/Rana_temporaria/XGBoost_Model_run3_with_KDE.pkl\n",
      "Run 4 model saved for Rana temporaria: C:/GIS_Course/MScThesis-MaviSantarelli/results/Models/XGBoost/Rana_temporaria/XGBoost_Model_run4_with_KDE.pkl\n",
      "Run 5 model saved for Rana temporaria: C:/GIS_Course/MScThesis-MaviSantarelli/results/Models/XGBoost/Rana_temporaria/XGBoost_Model_run5_with_KDE.pkl\n",
      "Run 6 model saved for Rana temporaria: C:/GIS_Course/MScThesis-MaviSantarelli/results/Models/XGBoost/Rana_temporaria/XGBoost_Model_run6_with_KDE.pkl\n",
      "Run 7 model saved for Rana temporaria: C:/GIS_Course/MScThesis-MaviSantarelli/results/Models/XGBoost/Rana_temporaria/XGBoost_Model_run7_with_KDE.pkl\n",
      "Run 8 model saved for Rana temporaria: C:/GIS_Course/MScThesis-MaviSantarelli/results/Models/XGBoost/Rana_temporaria/XGBoost_Model_run8_with_KDE.pkl\n",
      "Run 9 model saved for Rana temporaria: C:/GIS_Course/MScThesis-MaviSantarelli/results/Models/XGBoost/Rana_temporaria/XGBoost_Model_run9_with_KDE.pkl\n",
      "Run 10 model saved for Rana temporaria: C:/GIS_Course/MScThesis-MaviSantarelli/results/Models/XGBoost/Rana_temporaria/XGBoost_Model_run10_with_KDE.pkl\n",
      "All XGBoost models retrained for Rana temporaria.\n",
      "\n",
      "Retraining XGBoost models for Lissotriton helveticus with KDE bias...\n",
      "Run 1 model saved for Lissotriton helveticus: C:/GIS_Course/MScThesis-MaviSantarelli/results/Models/XGBoost/Lissotriton_helveticus/XGBoost_Model_run1_with_KDE.pkl\n",
      "Run 2 model saved for Lissotriton helveticus: C:/GIS_Course/MScThesis-MaviSantarelli/results/Models/XGBoost/Lissotriton_helveticus/XGBoost_Model_run2_with_KDE.pkl\n",
      "Run 3 model saved for Lissotriton helveticus: C:/GIS_Course/MScThesis-MaviSantarelli/results/Models/XGBoost/Lissotriton_helveticus/XGBoost_Model_run3_with_KDE.pkl\n",
      "Run 4 model saved for Lissotriton helveticus: C:/GIS_Course/MScThesis-MaviSantarelli/results/Models/XGBoost/Lissotriton_helveticus/XGBoost_Model_run4_with_KDE.pkl\n",
      "Run 5 model saved for Lissotriton helveticus: C:/GIS_Course/MScThesis-MaviSantarelli/results/Models/XGBoost/Lissotriton_helveticus/XGBoost_Model_run5_with_KDE.pkl\n",
      "Run 6 model saved for Lissotriton helveticus: C:/GIS_Course/MScThesis-MaviSantarelli/results/Models/XGBoost/Lissotriton_helveticus/XGBoost_Model_run6_with_KDE.pkl\n",
      "Run 7 model saved for Lissotriton helveticus: C:/GIS_Course/MScThesis-MaviSantarelli/results/Models/XGBoost/Lissotriton_helveticus/XGBoost_Model_run7_with_KDE.pkl\n",
      "Run 8 model saved for Lissotriton helveticus: C:/GIS_Course/MScThesis-MaviSantarelli/results/Models/XGBoost/Lissotriton_helveticus/XGBoost_Model_run8_with_KDE.pkl\n",
      "Run 9 model saved for Lissotriton helveticus: C:/GIS_Course/MScThesis-MaviSantarelli/results/Models/XGBoost/Lissotriton_helveticus/XGBoost_Model_run9_with_KDE.pkl\n",
      "Run 10 model saved for Lissotriton helveticus: C:/GIS_Course/MScThesis-MaviSantarelli/results/Models/XGBoost/Lissotriton_helveticus/XGBoost_Model_run10_with_KDE.pkl\n",
      "All XGBoost models retrained for Lissotriton helveticus.\n",
      "\n"
     ]
    }
   ],
   "source": [
    "from xgboost import XGBClassifier\n",
    "import joblib\n",
    "import rasterio\n",
    "\n",
    "# Retrain XGBoost models for all species\n",
    "for species in species_list:\n",
    "    print(f\"Retraining XGBoost models for {species} with KDE bias...\")\n",
    "    \n",
    "    xgb_runs = loaded_train_data[species][\"XGBoost\"]\n",
    "    xgb_models = []\n",
    "    \n",
    "    # Load the KDE bias layer\n",
    "    kde_bias_path = f\"C:/GIS_Course/MScThesis-MaviSantarelli/results/bias_layers/{species.replace(' ', '_')}_bias_layer.tif\"\n",
    "    with rasterio.open(kde_bias_path) as src:\n",
    "        kde_bias = src.read(1).flatten()\n",
    "    \n",
    "    # Retrain XGBoost for each subsampled run\n",
    "    for i, run_data in enumerate(xgb_runs, start=1):\n",
    "        run_data['kde_bias'] = kde_bias[:len(run_data)]\n",
    "        \n",
    "        X_train = run_data.drop(columns=['label'])\n",
    "        y_train = run_data['label']\n",
    "        \n",
    "        xgb_model = XGBClassifier(n_estimators=100, random_state=42)\n",
    "        xgb_model.fit(X_train, y_train)\n",
    "        \n",
    "        # Save each model\n",
    "        model_save_path = f\"C:/GIS_Course/MScThesis-MaviSantarelli/results/Models/XGBoost/{species.replace(' ', '_')}/XGBoost_Model_run{i}_with_KDE.pkl\"\n",
    "        joblib.dump(xgb_model, model_save_path)\n",
    "        xgb_models.append(xgb_model)\n",
    "        \n",
    "        print(f\"Run {i} model saved for {species}: {model_save_path}\")\n",
    "    \n",
    "    print(f\"All XGBoost models retrained for {species}.\\n\")\n"
   ]
  },
  {
   "cell_type": "code",
   "execution_count": 66,
   "id": "8b4f86fb-91c3-4287-ba06-4878abbb49e0",
   "metadata": {},
   "outputs": [
    {
     "name": "stdout",
     "output_type": "stream",
     "text": [
      "Loading XGBoost models for Bufo_bufo...\n",
      "10 XGBoost models loaded for Bufo_bufo.\n",
      "\n",
      "Loading XGBoost models for Rana_temporaria...\n",
      "10 XGBoost models loaded for Rana_temporaria.\n",
      "\n",
      "Loading XGBoost models for Lissotriton_helveticus...\n",
      "10 XGBoost models loaded for Lissotriton_helveticus.\n",
      "\n"
     ]
    }
   ],
   "source": [
    "# Initialize dictionary to store XGBoost models for each species\n",
    "xgb_models_all_species = {}\n",
    "\n",
    "# Load XGBoost models for each species\n",
    "for species in species_list:\n",
    "    print(f\"Loading XGBoost models for {species}...\")\n",
    "    \n",
    "    xgb_model_dir = f\"C:/GIS_Course/MScThesis-MaviSantarelli/results/Models/XGBoost/{species}/\"\n",
    "    xgb_models = []\n",
    "    \n",
    "    # Load all 10 iterations\n",
    "    for i in range(1, 11):\n",
    "        model_path = os.path.join(xgb_model_dir, f\"XGBoost_Model_run{i}_with_KDE.pkl\")\n",
    "        xgb_models.append(joblib.load(model_path))\n",
    "    \n",
    "    xgb_models_all_species[species] = xgb_models\n",
    "    print(f\"{len(xgb_models)} XGBoost models loaded for {species}.\\n\")\n"
   ]
  },
  {
   "cell_type": "markdown",
   "id": "df5e3ae4-d3dd-4b46-92b6-d9914421682c",
   "metadata": {},
   "source": [
    "### **Maxent**"
   ]
  },
  {
   "cell_type": "code",
   "execution_count": 33,
   "id": "c861257a-1dd5-4cea-aa3c-070f8a8e9603",
   "metadata": {},
   "outputs": [
    {
     "name": "stderr",
     "output_type": "stream",
     "text": [
      "R[write to console]: Loading required package: raster\n",
      "\n",
      "R[write to console]: Loading required package: sp\n",
      "\n"
     ]
    },
    {
     "name": "stdout",
     "output_type": "stream",
     "text": [
      "R connection established and packages loaded successfully!\n"
     ]
    }
   ],
   "source": [
    "# Import RPy2 and required Python libraries\n",
    "import rpy2.robjects as robjects\n",
    "from rpy2.robjects import pandas2ri, numpy2ri\n",
    "import rasterio\n",
    "import pandas as pd\n",
    "\n",
    "# Activate automatic conversion between Pandas, NumPy, and R DataFrames\n",
    "pandas2ri.activate()\n",
    "numpy2ri.activate()\n",
    "\n",
    "# Load required R packages\n",
    "robjects.r('''\n",
    "    library(dismo)\n",
    "    library(rJava)\n",
    "    library(raster)\n",
    "    library(sp)\n",
    "''')\n",
    "\n",
    "print(\"R connection established and packages loaded successfully!\")\n"
   ]
  },
  {
   "cell_type": "code",
   "execution_count": 34,
   "id": "6471855f-a351-4bb2-8b75-8e2e393ed353",
   "metadata": {},
   "outputs": [
    {
     "name": "stdout",
     "output_type": "stream",
     "text": [
      "KDE bias layer for Bufo bufo successfully transferred to R!\n",
      "KDE bias layer for Rana temporaria successfully transferred to R!\n",
      "KDE bias layer for Lissotriton helveticus successfully transferred to R!\n"
     ]
    }
   ],
   "source": [
    "# Define the species list\n",
    "species_list = [\"Bufo bufo\", \"Rana temporaria\", \"Lissotriton helveticus\"]\n",
    "\n",
    "# Load KDE bias layers and transfer to R\n",
    "for species in species_list:\n",
    "    kde_bias_path = f\"C:/GIS_Course/MScThesis-MaviSantarelli/results/bias_layers/{species.replace(' ', '_')}_bias_layer.tif\"\n",
    "    \n",
    "    with rasterio.open(kde_bias_path) as src:\n",
    "        kde_bias = src.read(1)  # Load as NumPy array\n",
    "    \n",
    "    # Transfer KDE bias layer to R\n",
    "    robjects.globalenv[f\"{species.replace(' ', '_')}_kde_bias\"] = numpy2ri.py2rpy(kde_bias)\n",
    "    \n",
    "    print(f\"KDE bias layer for {species} successfully transferred to R!\")\n"
   ]
  },
  {
   "cell_type": "code",
   "execution_count": 35,
   "id": "27946097-241d-4627-902e-9c0acb42630b",
   "metadata": {},
   "outputs": [
    {
     "name": "stdout",
     "output_type": "stream",
     "text": [
      "Maxent training data successfully transferred to R!\n"
     ]
    }
   ],
   "source": [
    "# Extract the training datasets from the previously loaded dictionary\n",
    "bufo_train = loaded_train_data[\"Bufo bufo\"][\"Maxent\"]\n",
    "rana_train = loaded_train_data[\"Rana temporaria\"][\"Maxent\"]\n",
    "lissotriton_train = loaded_train_data[\"Lissotriton helveticus\"][\"Maxent\"]\n",
    "\n",
    "# Convert Pandas DataFrames to R DataFrames\n",
    "robjects.globalenv[\"bufo_train\"] = pandas2ri.py2rpy(bufo_train)\n",
    "robjects.globalenv[\"rana_train\"] = pandas2ri.py2rpy(rana_train)\n",
    "robjects.globalenv[\"lissotriton_train\"] = pandas2ri.py2rpy(lissotriton_train)\n",
    "\n",
    "print(\"Maxent training data successfully transferred to R!\")\n"
   ]
  },
  {
   "cell_type": "code",
   "execution_count": 54,
   "id": "58685ac6-5837-41f1-93a3-922c5962b05b",
   "metadata": {},
   "outputs": [
    {
     "name": "stdout",
     "output_type": "stream",
     "text": [
      "[1] \"Maxent model for Bufo bufo executed successfully without bias file!\"\n"
     ]
    }
   ],
   "source": [
    "robjects.r('''\n",
    "    library(dismo)\n",
    "    \n",
    "    # Simplified Maxent run without bias file\n",
    "    predictor_cols <- colnames(bufo_train)[-length(colnames(bufo_train))]  # Exclude label\n",
    "\n",
    "    maxent_model <- maxent(\n",
    "        x = bufo_train[, predictor_cols],\n",
    "        p = bufo_train[, \"label\"],\n",
    "        path = \"C:/GIS_Course/MScThesis-MaviSantarelli/results/Maxent_Output/Bufo_bufo\",\n",
    "        args = c(\"autofeature=true\", \"randomtestpoints=20\")\n",
    "    )\n",
    "\n",
    "    print(\"Maxent model for Bufo bufo executed successfully without bias file!\")\n",
    "''')\n"
   ]
  },
  {
   "cell_type": "code",
   "execution_count": 61,
   "id": "589d88db-137b-4eac-bb8d-67e4d78fc2ea",
   "metadata": {},
   "outputs": [
    {
     "name": "stdout",
     "output_type": "stream",
     "text": [
      "[1] \"Maxent model for Rana temporaria executed successfully without bias file!\"\n"
     ]
    }
   ],
   "source": [
    "robjects.r('''\n",
    "    library(dismo)\n",
    "    \n",
    "    # Simplified Maxent run for Rana temporaria without bias file\n",
    "    predictor_cols <- colnames(rana_train)[-length(colnames(rana_train))]  # Exclude label\n",
    "\n",
    "    maxent_model <- maxent(\n",
    "        x = rana_train[, predictor_cols],\n",
    "        p = rana_train[, \"label\"],\n",
    "        path = \"C:/GIS_Course/MScThesis-MaviSantarelli/results/Maxent_Output/Rana_temporaria\",\n",
    "        args = c(\"autofeature=true\", \"randomtestpoints=20\")\n",
    "    )\n",
    "\n",
    "    print(\"Maxent model for Rana temporaria executed successfully without bias file!\")\n",
    "''')\n"
   ]
  },
  {
   "cell_type": "code",
   "execution_count": 62,
   "id": "ca517a16-e6c4-4b22-8288-40cb34a6b7ba",
   "metadata": {},
   "outputs": [
    {
     "name": "stdout",
     "output_type": "stream",
     "text": [
      "[1] \"Maxent model for Lissotriton helveticus executed successfully without bias file!\"\n"
     ]
    }
   ],
   "source": [
    "robjects.r('''\n",
    "    library(dismo)\n",
    "    \n",
    "    # Simplified Maxent run for Lissotriton helveticus without bias file\n",
    "    predictor_cols <- colnames(lissotriton_train)[-length(colnames(lissotriton_train))]  # Exclude label\n",
    "\n",
    "    maxent_model <- maxent(\n",
    "        x = lissotriton_train[, predictor_cols],\n",
    "        p = lissotriton_train[, \"label\"],\n",
    "        path = \"C:/GIS_Course/MScThesis-MaviSantarelli/results/Maxent_Output/Lissotriton_helveticus\",\n",
    "        args = c(\"autofeature=true\", \"randomtestpoints=20\")\n",
    "    )\n",
    "\n",
    "    print(\"Maxent model for Lissotriton helveticus executed successfully without bias file!\")\n",
    "''')\n"
   ]
  },
  {
   "cell_type": "code",
   "execution_count": 56,
   "id": "cc027fb2-434c-410d-8d0c-5495895fbe65",
   "metadata": {},
   "outputs": [
    {
     "name": "stdout",
     "output_type": "stream",
     "text": [
      "[1] \"No resampling needed for Bufo_bufo - raster already has square pixels.\"\n",
      "[1] \"No resampling needed for Rana_temporaria - raster already has square pixels.\"\n",
      "[1] \"No resampling needed for Lissotriton_helveticus - raster already has square pixels.\"\n",
      "KDE bias layers resampled (if needed) and saved as ASCII rasters.\n"
     ]
    }
   ],
   "source": [
    "robjects.r('''\n",
    "    library(raster)\n",
    "\n",
    "    # Function to resample and save KDE bias raster with square pixels\n",
    "    save_resampled_bias_raster <- function(bias_layer, species_name) {\n",
    "        bias_raster <- raster(bias_layer)\n",
    "        \n",
    "        # Check the resolution of the raster\n",
    "        res_x <- res(bias_raster)[1]  # Horizontal resolution\n",
    "        res_y <- res(bias_raster)[2]  # Vertical resolution\n",
    "        \n",
    "        # If the resolutions are unequal, resample to square pixels\n",
    "        if (res_x != res_y) {\n",
    "            print(paste(\"Resampling\", species_name, \"bias raster to square pixels.\"))\n",
    "            \n",
    "            # Use the smaller resolution to avoid loss of detail\n",
    "            new_res <- min(res_x, res_y)\n",
    "            \n",
    "            # Resample raster\n",
    "            bias_raster <- resample(bias_raster, raster(extent(bias_raster), res = new_res), method = \"bilinear\")\n",
    "        } else {\n",
    "            print(paste(\"No resampling needed for\", species_name, \"- raster already has square pixels.\"))\n",
    "        }\n",
    "        \n",
    "        # Save the resampled raster as ASCII\n",
    "        output_path <- paste0(\"C:/GIS_Course/MScThesis-MaviSantarelli/results/Maxent_Output/\", species_name, \"_kde_bias.asc\")\n",
    "        writeRaster(bias_raster, output_path, format = \"ascii\", overwrite = TRUE)\n",
    "        \n",
    "        return(output_path)\n",
    "    }\n",
    "    \n",
    "    # Save KDE bias layers with resampling if needed\n",
    "    bufo_bias_path <- save_resampled_bias_raster(Bufo_bufo_kde_bias, \"Bufo_bufo\")\n",
    "    rana_bias_path <- save_resampled_bias_raster(Rana_temporaria_kde_bias, \"Rana_temporaria\")\n",
    "    lissotriton_bias_path <- save_resampled_bias_raster(Lissotriton_helveticus_kde_bias, \"Lissotriton_helveticus\")\n",
    "''')\n",
    "\n",
    "print(\"KDE bias layers resampled (if needed) and saved as ASCII rasters.\")\n"
   ]
  },
  {
   "cell_type": "code",
   "execution_count": 63,
   "id": "54845926-48cb-4eb0-adfc-68c8aeea49db",
   "metadata": {},
   "outputs": [
    {
     "name": "stdout",
     "output_type": "stream",
     "text": [
      "[1] \"MaxEnt model with KDE bias trained and saved for Bufo_bufo\"\n",
      "[1] \"MaxEnt model with KDE bias trained and saved for Rana_temporaria\"\n",
      "[1] \"MaxEnt model with KDE bias trained and saved for Lissotriton_helveticus\"\n"
     ]
    }
   ],
   "source": [
    "robjects.r('''\n",
    "    library(dismo)\n",
    "\n",
    "    # Function to train and save MaxEnt model with KDE bias\n",
    "    train_maxent_with_bias <- function(train_data, species_name, bias_file_path) {\n",
    "        predictor_cols <- colnames(train_data)[-length(colnames(train_data))]  # Exclude label\n",
    "        \n",
    "        # Define Maxent output directory\n",
    "        output_dir <- paste0(\"C:/GIS_Course/MScThesis-MaviSantarelli/results/Maxent_Output/\", species_name)\n",
    "        dir.create(output_dir, showWarnings = FALSE, recursive = TRUE)\n",
    "\n",
    "        # Train MaxEnt model with bias file\n",
    "        maxent_model <- maxent(\n",
    "            x = train_data[, predictor_cols],\n",
    "            p = train_data[, \"label\"],\n",
    "            path = output_dir,\n",
    "            args = c(paste0(\"biasfile=\", bias_file_path), \"autofeature=true\", \"randomtestpoints=20\")\n",
    "        )\n",
    "\n",
    "        # Save the trained Maxent model\n",
    "        saveRDS(maxent_model, paste0(\"C:/GIS_Course/MScThesis-MaviSantarelli/results/Models/Maxent_\", species_name, \"_with_KDE.rds\"))\n",
    "        \n",
    "        print(paste(\"MaxEnt model with KDE bias trained and saved for\", species_name))\n",
    "    }\n",
    "\n",
    "    # Train models with the resampled KDE bias rasters\n",
    "    train_maxent_with_bias(bufo_train, \"Bufo_bufo\", bufo_bias_path)\n",
    "    train_maxent_with_bias(rana_train, \"Rana_temporaria\", rana_bias_path)\n",
    "    train_maxent_with_bias(lissotriton_train, \"Lissotriton_helveticus\", lissotriton_bias_path)\n",
    "''')\n"
   ]
  },
  {
   "cell_type": "markdown",
   "id": "66fe62ce-1c94-488d-8735-12b61a9a1200",
   "metadata": {},
   "source": [
    "## 3. Generate SDM Predictions\n",
    "### 3.1  Load All Models for All Species\n",
    "#### **GLM and GAM** "
   ]
  },
  {
   "cell_type": "code",
   "execution_count": 2,
   "id": "933f02f2-4ee8-4813-91ba-9ec428b08391",
   "metadata": {},
   "outputs": [
    {
     "name": "stdout",
     "output_type": "stream",
     "text": [
      "Loading GLM and GAM models for Bufo_bufo...\n",
      "GLM and GAM models loaded for Bufo_bufo.\n",
      "\n",
      "Loading GLM and GAM models for Rana_temporaria...\n",
      "GLM and GAM models loaded for Rana_temporaria.\n",
      "\n",
      "Loading GLM and GAM models for Lissotriton_helveticus...\n",
      "GLM and GAM models loaded for Lissotriton_helveticus.\n",
      "\n"
     ]
    }
   ],
   "source": [
    "# Define the species list\n",
    "species_list = [\"Bufo_bufo\", \"Rana_temporaria\", \"Lissotriton_helveticus\"]\n",
    "import joblib\n",
    "\n",
    "\n",
    "# Initialize dictionaries to store GLM and GAM models\n",
    "glm_models_all_species = {}\n",
    "gam_models_all_species = {}\n",
    "\n",
    "# Load GLM and GAM models for all species\n",
    "for species in species_list:\n",
    "    print(f\"Loading GLM and GAM models for {species}...\")\n",
    "    \n",
    "    glm_model_path = f\"C:/GIS_Course/MScThesis-MaviSantarelli/results/Models/Final_GLM/Models/{species}_GLM_Lasso_with_KDE.pkl\"\n",
    "    gam_model_path = f\"C:/GIS_Course/MScThesis-MaviSantarelli/results/Models/Final_GAM/{species}_GAM_Model_with_KDE.pkl\"\n",
    "    \n",
    "    glm_models_all_species[species] = joblib.load(glm_model_path)\n",
    "    gam_models_all_species[species] = joblib.load(gam_model_path)\n",
    "    \n",
    "    print(f\"GLM and GAM models loaded for {species}.\\n\")\n"
   ]
  },
  {
   "cell_type": "markdown",
   "id": "6fecff0b-db94-4e65-8ac5-553c13c3ac84",
   "metadata": {},
   "source": [
    "#### **RF and XGBoost**"
   ]
  },
  {
   "cell_type": "code",
   "execution_count": 3,
   "id": "252898db-ddbd-459f-9a3b-c20b13b66eb5",
   "metadata": {},
   "outputs": [
    {
     "name": "stdout",
     "output_type": "stream",
     "text": [
      "Loading Random Forest and XGBoost models for Bufo_bufo...\n",
      "Random Forest and XGBoost models loaded for Bufo_bufo.\n",
      "\n",
      "Loading Random Forest and XGBoost models for Rana_temporaria...\n",
      "Random Forest and XGBoost models loaded for Rana_temporaria.\n",
      "\n",
      "Loading Random Forest and XGBoost models for Lissotriton_helveticus...\n",
      "Random Forest and XGBoost models loaded for Lissotriton_helveticus.\n",
      "\n"
     ]
    }
   ],
   "source": [
    "import os\n",
    "# Initialize dictionaries for RF and XGBoost models\n",
    "rf_models_all_species = {}\n",
    "xgb_models_all_species = {}\n",
    "\n",
    "# Load RF and XGBoost models for all species\n",
    "for species in species_list:\n",
    "    print(f\"Loading Random Forest and XGBoost models for {species}...\")\n",
    "    \n",
    "    # Load Random Forest models\n",
    "    rf_model_dir = f\"C:/GIS_Course/MScThesis-MaviSantarelli/results/Models/RandomForest/{species}/\"\n",
    "    rf_models = [joblib.load(os.path.join(rf_model_dir, f\"RandomForest_Model_run{i}_with_KDE.pkl\")) for i in range(1, 11)]\n",
    "    rf_models_all_species[species] = rf_models\n",
    "    \n",
    "    # Load XGBoost models\n",
    "    xgb_model_dir = f\"C:/GIS_Course/MScThesis-MaviSantarelli/results/Models/XGBoost/{species}/\"\n",
    "    xgb_models = [joblib.load(os.path.join(xgb_model_dir, f\"XGBoost_Model_run{i}_with_KDE.pkl\")) for i in range(1, 11)]\n",
    "    xgb_models_all_species[species] = xgb_models\n",
    "    \n",
    "    print(f\"Random Forest and XGBoost models loaded for {species}.\\n\")\n"
   ]
  },
  {
   "cell_type": "markdown",
   "id": "9a4a0c81-3e99-4632-9aad-9acc73815976",
   "metadata": {},
   "source": [
    "#### **Maxent**"
   ]
  },
  {
   "cell_type": "code",
   "execution_count": 4,
   "id": "41649bd3-8674-4b9b-9901-4f521c18f36f",
   "metadata": {},
   "outputs": [
    {
     "name": "stderr",
     "output_type": "stream",
     "text": [
      "R[write to console]: Loading required package: raster\n",
      "\n",
      "R[write to console]: Loading required package: sp\n",
      "\n"
     ]
    },
    {
     "name": "stdout",
     "output_type": "stream",
     "text": [
      "Maxent model loaded for Bufo_bufo in R.\n",
      "Maxent model loaded for Rana_temporaria in R.\n",
      "Maxent model loaded for Lissotriton_helveticus in R.\n"
     ]
    }
   ],
   "source": [
    "import rpy2.robjects as robjects\n",
    "\n",
    "# Load Maxent models for all species in R\n",
    "for species in species_list:\n",
    "    maxent_model_path = f\"C:/GIS_Course/MScThesis-MaviSantarelli/results/Models/Maxent_{species}_with_KDE.rds\"\n",
    "    \n",
    "    robjects.r(f'''\n",
    "        library(dismo)\n",
    "        {species}_maxent_model <- readRDS(\"{maxent_model_path}\")\n",
    "    ''')\n",
    "    \n",
    "    print(f\"Maxent model loaded for {species} in R.\")\n"
   ]
  },
  {
   "cell_type": "markdown",
   "id": "34517f7d-76e8-4685-9d87-5eaf63a271d1",
   "metadata": {},
   "source": [
    "### 3.2 Generate and Aggregate Predictions for All Models"
   ]
  },
  {
   "cell_type": "markdown",
   "id": "268e5c38-6b5b-4799-ab16-f4de5a6461d3",
   "metadata": {},
   "source": [
    "#### **GLM and GAM**"
   ]
  },
  {
   "cell_type": "code",
   "execution_count": 44,
   "id": "c3071ab1-0d17-40de-bc14-6af9e5982e49",
   "metadata": {},
   "outputs": [
    {
     "name": "stdout",
     "output_type": "stream",
     "text": [
      "DataFrame for predictions created successfully.\n"
     ]
    }
   ],
   "source": [
    "# Flatten the predictors for model input\n",
    "num_rows, num_cols, num_predictors = predictors_stack.shape\n",
    "flat_predictors = predictors_stack.reshape((num_rows * num_cols, num_predictors))\n",
    "\n",
    "# Mask out invalid (NaN) values\n",
    "valid_mask = ~np.isnan(flat_predictors).any(axis=1)\n",
    "flat_predictors_valid = flat_predictors[valid_mask]\n",
    "\n",
    "# Create DataFrame with feature names\n",
    "feature_names = [\n",
    "    'Building_Density_Reversed', 'DistWater_Reversed', 'NOx_Stand_Reversed',\n",
    "    'RGS_Reversed', 'Runoff_Coefficient_Reversed', 'Slope_Proj_Reversed',\n",
    "    'SoilMoisture_Reversed', 'Traffic_Reversed', 'Wood_Resample_Reversed',\n",
    "    'Grass_Stand', 'NDVI_median', 'NDVI_StDev', 'VegHeight'\n",
    "]\n",
    "\n",
    "import pandas as pd\n",
    "flat_predictors_df = pd.DataFrame(flat_predictors_valid, columns=feature_names)\n",
    "print(\"DataFrame for predictions created successfully.\")\n"
   ]
  },
  {
   "cell_type": "code",
   "execution_count": 45,
   "id": "81b47ce8-f9c9-4087-b5f3-84ade4dffae6",
   "metadata": {},
   "outputs": [
    {
     "name": "stdout",
     "output_type": "stream",
     "text": [
      "Updated feature names for prediction: Index(['C:/GIS_Course/MScThesis-MaviSantarelli/data/Predictors/Input/Reversed/Building_Density_Reversed.tif',\n",
      "       'C:/GIS_Course/MScThesis-MaviSantarelli/data/Predictors/Input/Reversed/DistWater_Reversed.tif',\n",
      "       'C:/GIS_Course/MScThesis-MaviSantarelli/data/Predictors/Input/Reversed/NOx_Stand_Reversed.tif',\n",
      "       'C:/GIS_Course/MScThesis-MaviSantarelli/data/Predictors/Input/Reversed/RGS_Reversed.tif',\n",
      "       'C:/GIS_Course/MScThesis-MaviSantarelli/data/Predictors/Input/Reversed/Runoff_Coefficient_Standardised_Reversed.tif',\n",
      "       'C:/GIS_Course/MScThesis-MaviSantarelli/data/Predictors/Input/Reversed/Slope_Proj_Reversed.tif',\n",
      "       'C:/GIS_Course/MScThesis-MaviSantarelli/data/Predictors/Input/Reversed/SoilMoisture_32bit_Reversed.tif',\n",
      "       'C:/GIS_Course/MScThesis-MaviSantarelli/data/Predictors/Input/Reversed/Traffic_Reversed.tif',\n",
      "       'C:/GIS_Course/MScThesis-MaviSantarelli/data/Predictors/Input/Reversed/Wood_Resample_Reversed.tif',\n",
      "       'C:/GIS_Course/MScThesis-MaviSantarelli/data/Predictors/Input/Grass_Stand.tif',\n",
      "       'C:/GIS_Course/MScThesis-MaviSantarelli/data/Predictors/Input/NDVI_median.tif',\n",
      "       'C:/GIS_Course/MScThesis-MaviSantarelli/data/Predictors/Input/NDVI_StDev.tif',\n",
      "       'C:/GIS_Course/MScThesis-MaviSantarelli/data/Predictors/Input/VegHeight.tif'],\n",
      "      dtype='object')\n"
     ]
    }
   ],
   "source": [
    "# Rename columns to match the trained feature names\n",
    "flat_predictors_df.rename(columns=feature_name_mapping, inplace=True)\n",
    "\n",
    "# Verify the updated feature names\n",
    "print(\"Updated feature names for prediction:\", flat_predictors_df.columns)\n"
   ]
  },
  {
   "cell_type": "code",
   "execution_count": 48,
   "id": "2bd46320-a1dd-4ab1-a9a9-ff65d857a6ca",
   "metadata": {},
   "outputs": [
    {
     "name": "stdout",
     "output_type": "stream",
     "text": [
      "Resampling KDE bias layer to match predictors...\n"
     ]
    }
   ],
   "source": [
    "from rasterio.enums import Resampling\n",
    "\n",
    "# Load a reference raster (first predictor) to match the KDE bias layer\n",
    "reference_raster_path = predictor_files[0]\n",
    "\n",
    "with rasterio.open(reference_raster_path) as ref_src:\n",
    "    ref_profile = ref_src.profile\n",
    "    ref_shape = ref_src.shape\n",
    "    ref_transform = ref_src.transform\n",
    "\n",
    "# Resample the KDE bias layer to match the reference raster\n",
    "with rasterio.open(kde_bias_path) as src:\n",
    "    if src.shape != ref_shape:\n",
    "        print(\"Resampling KDE bias layer to match predictors...\")\n",
    "        kde_bias_resampled = src.read(\n",
    "            out_shape=(src.count, ref_shape[0], ref_shape[1]),\n",
    "            resampling=Resampling.bilinear\n",
    "        )[0]  # Take the first band\n",
    "    else:\n",
    "        kde_bias_resampled = src.read(1)\n",
    "\n",
    "# Flatten and mask out NaNs\n",
    "kde_bias_array = kde_bias_resampled.flatten()\n",
    "kde_bias_valid = kde_bias_array[valid_mask]\n",
    "\n",
    "# Add the KDE bias to the predictors DataFrame\n",
    "flat_predictors_df['kde_bias'] = kde_bias_valid\n"
   ]
  },
  {
   "cell_type": "code",
   "execution_count": 49,
   "id": "2e3a9c1e-ad4c-4fab-ba9a-0ddadcc12e6c",
   "metadata": {},
   "outputs": [
    {
     "name": "stdout",
     "output_type": "stream",
     "text": [
      "GLM predictions generated successfully for all species.\n"
     ]
    }
   ],
   "source": [
    "# Generate GLM predictions with the updated predictors\n",
    "glm_predictions_all_species = {}\n",
    "\n",
    "for species in species_list:\n",
    "    glm_model = glm_models_all_species[species]\n",
    "    glm_predictions_all_species[species] = glm_model.predict_proba(flat_predictors_df)[:, 1]\n",
    "\n",
    "print(\"GLM predictions generated successfully for all species.\")\n"
   ]
  },
  {
   "cell_type": "code",
   "execution_count": 50,
   "id": "b009c5ee-e6ae-4952-8130-bc42b7fda74c",
   "metadata": {},
   "outputs": [],
   "source": [
    "import os\n",
    "import joblib\n",
    "\n",
    "# Directory to save GLM predictions\n",
    "glm_output_dir = \"C:/GIS_Course/MScThesis-MaviSantarelli/results/Model_Predictions/GLM\"\n",
    "os.makedirs(glm_output_dir, exist_ok=True)\n"
   ]
  },
  {
   "cell_type": "code",
   "execution_count": 51,
   "id": "8c083c87-e026-4151-95df-c5b306b8f529",
   "metadata": {},
   "outputs": [
    {
     "name": "stdout",
     "output_type": "stream",
     "text": [
      "GLM predictions saved for Bufo_bufo at C:/GIS_Course/MScThesis-MaviSantarelli/results/Model_Predictions/GLM\\Bufo_bufo_GLM_Predictions.pkl\n",
      "GLM predictions saved for Rana_temporaria at C:/GIS_Course/MScThesis-MaviSantarelli/results/Model_Predictions/GLM\\Rana_temporaria_GLM_Predictions.pkl\n",
      "GLM predictions saved for Lissotriton_helveticus at C:/GIS_Course/MScThesis-MaviSantarelli/results/Model_Predictions/GLM\\Lissotriton_helveticus_GLM_Predictions.pkl\n"
     ]
    }
   ],
   "source": [
    "# Save GLM predictions for each species\n",
    "for species in species_list:\n",
    "    glm_save_path = os.path.join(glm_output_dir, f\"{species}_GLM_Predictions.pkl\")\n",
    "    joblib.dump(glm_predictions_all_species[species], glm_save_path)\n",
    "    print(f\"GLM predictions saved for {species} at {glm_save_path}\")\n"
   ]
  },
  {
   "cell_type": "code",
   "execution_count": 52,
   "id": "5163a234-8d57-49fe-8516-f9b1c4d9340b",
   "metadata": {},
   "outputs": [
    {
     "name": "stdout",
     "output_type": "stream",
     "text": [
      "GLM predictions saved as CSV for Bufo_bufo at C:/GIS_Course/MScThesis-MaviSantarelli/results/Model_Predictions/GLM\\Bufo_bufo_GLM_Predictions.csv\n",
      "GLM predictions saved as CSV for Rana_temporaria at C:/GIS_Course/MScThesis-MaviSantarelli/results/Model_Predictions/GLM\\Rana_temporaria_GLM_Predictions.csv\n",
      "GLM predictions saved as CSV for Lissotriton_helveticus at C:/GIS_Course/MScThesis-MaviSantarelli/results/Model_Predictions/GLM\\Lissotriton_helveticus_GLM_Predictions.csv\n"
     ]
    }
   ],
   "source": [
    "import pandas as pd\n",
    "\n",
    "# Save GLM predictions as CSV\n",
    "for species in species_list:\n",
    "    glm_csv_path = os.path.join(glm_output_dir, f\"{species}_GLM_Predictions.csv\")\n",
    "    pd.DataFrame(glm_predictions_all_species[species], columns=[\"Habitat_Suitability\"]).to_csv(glm_csv_path, index=False)\n",
    "    print(f\"GLM predictions saved as CSV for {species} at {glm_csv_path}\")\n"
   ]
  },
  {
   "cell_type": "markdown",
   "id": "91708db8-980e-4847-bd9f-f37f004a2a04",
   "metadata": {},
   "source": [
    "#### **RF and XBGoost**"
   ]
  },
  {
   "cell_type": "code",
   "execution_count": 54,
   "id": "daa69eb9-be57-407b-b3dd-c65e70bd8efc",
   "metadata": {},
   "outputs": [
    {
     "data": {
      "text/plain": [
       "['C:/GIS_Course/MScThesis-MaviSantarelli/results/bias_layers/Bufo_bufo_bias_layer_resampled.pkl']"
      ]
     },
     "execution_count": 54,
     "metadata": {},
     "output_type": "execute_result"
    }
   ],
   "source": [
    "from rasterio.enums import Resampling\n",
    "\n",
    "# Load a reference raster (first predictor) to match the KDE bias layer\n",
    "reference_raster_path = predictor_files[0]\n",
    "\n",
    "with rasterio.open(reference_raster_path) as ref_src:\n",
    "    ref_shape = ref_src.shape\n",
    "\n",
    "# Resample the KDE bias layer to match the reference raster\n",
    "with rasterio.open(kde_bias_path) as src:\n",
    "    kde_bias_resampled = src.read(\n",
    "        out_shape=(src.count, ref_shape[0], ref_shape[1]),\n",
    "        resampling=Resampling.bilinear\n",
    "    )[0]\n",
    "\n",
    "# Flatten and mask to align with predictors\n",
    "kde_bias_array = kde_bias_resampled.flatten()\n",
    "kde_bias_valid = kde_bias_array[valid_mask]\n",
    "\n",
    "# Add the KDE bias to predictors\n",
    "flat_predictors_df['kde_bias'] = kde_bias_valid\n",
    "\n",
    "# (Optional) Save the resampled KDE bias for future use\n",
    "joblib.dump(kde_bias_valid, \"C:/GIS_Course/MScThesis-MaviSantarelli/results/bias_layers/Bufo_bufo_bias_layer_resampled.pkl\")\n"
   ]
  },
  {
   "cell_type": "code",
   "execution_count": 55,
   "id": "2eaa00f7-b9c2-4552-b524-5bca319a6d5c",
   "metadata": {},
   "outputs": [
    {
     "name": "stdout",
     "output_type": "stream",
     "text": [
      "Study Area CRS: EPSG:27700\n"
     ]
    }
   ],
   "source": [
    "import geopandas as gpd\n",
    "\n",
    "# Load the study area shapefile\n",
    "study_area_path = \"C:/GIS_Course/MScThesis-MaviSantarelli/data/StudyArea/Study_Area.shp\"\n",
    "study_area_gdf = gpd.read_file(study_area_path)\n",
    "\n",
    "# Ensure CRS matches the raster data (usually EPSG:27700)\n",
    "print(f\"Study Area CRS: {study_area_gdf.crs}\")\n"
   ]
  },
  {
   "cell_type": "code",
   "execution_count": 56,
   "id": "f048e8d0-3e03-485f-8c19-0ea5cb2d99d8",
   "metadata": {},
   "outputs": [],
   "source": [
    "# Map simplified names to original file paths (matching trained feature names)\n",
    "feature_name_mapping = {\n",
    "    'Building_Density_Reversed': 'C:/GIS_Course/MScThesis-MaviSantarelli/data/Predictors/Input/Reversed/Building_Density_Reversed.tif',\n",
    "    'DistWater_Reversed': 'C:/GIS_Course/MScThesis-MaviSantarelli/data/Predictors/Input/Reversed/DistWater_Reversed.tif',\n",
    "    'NOx_Stand_Reversed': 'C:/GIS_Course/MScThesis-MaviSantarelli/data/Predictors/Input/Reversed/NOx_Stand_Reversed.tif',\n",
    "    'RGS_Reversed': 'C:/GIS_Course/MScThesis-MaviSantarelli/data/Predictors/Input/Reversed/RGS_Reversed.tif',\n",
    "    'Runoff_Coefficient_Reversed': 'C:/GIS_Course/MScThesis-MaviSantarelli/data/Predictors/Input/Reversed/Runoff_Coefficient_Standardised_Reversed.tif',\n",
    "    'Slope_Proj_Reversed': 'C:/GIS_Course/MScThesis-MaviSantarelli/data/Predictors/Input/Reversed/Slope_Proj_Reversed.tif',\n",
    "    'SoilMoisture_Reversed': 'C:/GIS_Course/MScThesis-MaviSantarelli/data/Predictors/Input/Reversed/SoilMoisture_32bit_Reversed.tif',\n",
    "    'Traffic_Reversed': 'C:/GIS_Course/MScThesis-MaviSantarelli/data/Predictors/Input/Reversed/Traffic_Reversed.tif',\n",
    "    'Wood_Resample_Reversed': 'C:/GIS_Course/MScThesis-MaviSantarelli/data/Predictors/Input/Reversed/Wood_Resample_Reversed.tif',\n",
    "    'Grass_Stand': 'C:/GIS_Course/MScThesis-MaviSantarelli/data/Predictors/Input/Grass_Stand.tif',\n",
    "    'NDVI_median': 'C:/GIS_Course/MScThesis-MaviSantarelli/data/Predictors/Input/NDVI_median.tif',\n",
    "    'NDVI_StDev': 'C:/GIS_Course/MScThesis-MaviSantarelli/data/Predictors/Input/NDVI_StDev.tif',\n",
    "    'VegHeight': 'C:/GIS_Course/MScThesis-MaviSantarelli/data/Predictors/Input/VegHeight.tif',\n",
    "    'kde_bias': 'kde_bias'  # Ensure this matches the bias layer used during training\n",
    "}\n"
   ]
  },
  {
   "cell_type": "code",
   "execution_count": null,
   "id": "9932eeb7-7d10-4eed-98ce-70cb5632930b",
   "metadata": {},
   "outputs": [],
   "source": [
    "from rasterio.mask import mask\n",
    "# Function to mask raster using the study area\n",
    "def mask_raster_to_study_area(raster_path, study_area_gdf):\n",
    "    with rasterio.open(raster_path) as src:\n",
    "        # Reproject study area to match raster CRS if needed\n",
    "        if study_area_gdf.crs != src.crs:\n",
    "            study_area_gdf = study_area_gdf.to_crs(src.crs)\n",
    "        \n",
    "        # Apply mask\n",
    "        masked_image, _ = mask(src, study_area_gdf.geometry, crop=True)\n",
    "        return masked_image[0]  # First band\n",
    "\n",
    "# Load and mask predictors\n",
    "predictor_files = [\n",
    "    \"C:/GIS_Course/MScThesis-MaviSantarelli/data/Predictors/Input/Reversed/Building_Density_Reversed.tif\",\n",
    "    \"C:/GIS_Course/MScThesis-MaviSantarelli/data/Predictors/Input/Reversed/DistWater_Reversed.tif\",\n",
    "    \"C:/GIS_Course/MScThesis-MaviSantarelli/data/Predictors/Input/Reversed/NOx_Stand_Reversed.tif\",\n",
    "    \"C:/GIS_Course/MScThesis-MaviSantarelli/data/Predictors/Input/Reversed/RGS_Reversed.tif\",\n",
    "    \"C:/GIS_Course/MScThesis-MaviSantarelli/data/Predictors/Input/Reversed/Runoff_Coefficient_Standardised_Reversed.tif\",\n",
    "    \"C:/GIS_Course/MScThesis-MaviSantarelli/data/Predictors/Input/Reversed/Slope_Proj_Reversed.tif\",\n",
    "    \"C:/GIS_Course/MScThesis-MaviSantarelli/data/Predictors/Input/Reversed/SoilMoisture_32bit_Reversed.tif\",\n",
    "    \"C:/GIS_Course/MScThesis-MaviSantarelli/data/Predictors/Input/Reversed/Traffic_Reversed.tif\",\n",
    "    \"C:/GIS_Course/MScThesis-MaviSantarelli/data/Predictors/Input/Reversed/Wood_Resample_Reversed.tif\",\n",
    "    \"C:/GIS_Course/MScThesis-MaviSantarelli/data/Predictors/Input/Grass_Stand.tif\",\n",
    "    \"C:/GIS_Course/MScThesis-MaviSantarelli/data/Predictors/Input/NDVI_median.tif\",\n",
    "    \"C:/GIS_Course/MScThesis-MaviSantarelli/data/Predictors/Input/NDVI_StDev.tif\",\n",
    "    \"C:/GIS_Course/MScThesis-MaviSantarelli/data/Predictors/Input/VegHeight.tif\"\n",
    "]\n",
    "\n",
    "# Mask all predictors\n",
    "masked_predictor_arrays = [mask_raster_to_study_area(file, study_area_gdf) for file in predictor_files]"
   ]
  },
  {
   "cell_type": "code",
   "execution_count": 60,
   "id": "811a00fc-7471-49de-b0ac-a861d1c08ce8",
   "metadata": {},
   "outputs": [
    {
     "name": "stdout",
     "output_type": "stream",
     "text": [
      "Resampling C:/GIS_Course/MScThesis-MaviSantarelli/data/Predictors/Input/Reversed/Runoff_Coefficient_Standardised_Reversed.tif to match reference shape...\n",
      "Resampling C:/GIS_Course/MScThesis-MaviSantarelli/data/Predictors/Input/NDVI_StDev.tif to match reference shape...\n",
      "Masked predictors successfully aligned and stacked.\n"
     ]
    }
   ],
   "source": [
    "from skimage.transform import resize\n",
    "\n",
    "# Reference shape from the first masked raster\n",
    "ref_shape = masked_predictor_arrays[0].shape\n",
    "\n",
    "# Resample all masked rasters to match the reference shape\n",
    "masked_predictor_arrays_aligned = []\n",
    "for array, file in zip(masked_predictor_arrays, predictor_files):\n",
    "    if array.shape != ref_shape:\n",
    "        print(f\"Resampling {file} to match reference shape...\")\n",
    "        resampled_array = resize(array, ref_shape, mode='reflect', anti_aliasing=True)\n",
    "        masked_predictor_arrays_aligned.append(resampled_array)\n",
    "    else:\n",
    "        masked_predictor_arrays_aligned.append(array)\n",
    "\n",
    "# Now stack the aligned masked predictors\n",
    "masked_predictors_stack = np.stack(masked_predictor_arrays_aligned, axis=-1)\n",
    "print(\"Masked predictors successfully aligned and stacked.\")\n"
   ]
  },
  {
   "cell_type": "code",
   "execution_count": 61,
   "id": "95b90f21-82f1-4e34-aad9-6605551ce191",
   "metadata": {},
   "outputs": [],
   "source": [
    "# Load and mask the KDE bias layer (ensure it matches the aligned predictors)\n",
    "kde_bias_path = \"C:/GIS_Course/MScThesis-MaviSantarelli/results/bias_layers/Bufo_bufo_bias_layer.tif\"\n",
    "masked_kde_bias = mask_raster_to_study_area(kde_bias_path, study_area_gdf)\n",
    "\n",
    "# Resample the KDE bias to match the reference shape if needed\n",
    "if masked_kde_bias.shape != ref_shape:\n",
    "    masked_kde_bias = resize(masked_kde_bias, ref_shape, mode='reflect', anti_aliasing=True)\n",
    "\n",
    "# Combine predictors with KDE bias\n",
    "masked_predictors_with_bias = np.dstack((masked_predictors_stack, masked_kde_bias))\n",
    "\n",
    "# Flatten and prepare for model predictions\n",
    "num_rows, num_cols, num_predictors = masked_predictors_with_bias.shape\n",
    "flat_masked_predictors = masked_predictors_with_bias.reshape((num_rows * num_cols, num_predictors))\n",
    "\n",
    "# Mask out NaNs\n",
    "valid_mask = ~np.isnan(flat_masked_predictors).any(axis=1)\n",
    "flat_predictors_valid_masked = flat_masked_predictors[valid_mask]\n"
   ]
  },
  {
   "cell_type": "code",
   "execution_count": 62,
   "id": "5c09f702-c158-4715-b855-314008c52b93",
   "metadata": {},
   "outputs": [],
   "source": [
    "import pandas as pd\n",
    "\n",
    "# Define simplified feature names (including KDE bias)\n",
    "feature_names = [\n",
    "    'Building_Density_Reversed', 'DistWater_Reversed', 'NOx_Stand_Reversed',\n",
    "    'RGS_Reversed', 'Runoff_Coefficient_Reversed', 'Slope_Proj_Reversed',\n",
    "    'SoilMoisture_Reversed', 'Traffic_Reversed', 'Wood_Resample_Reversed',\n",
    "    'Grass_Stand', 'NDVI_median', 'NDVI_StDev', 'VegHeight', 'kde_bias'\n",
    "]\n",
    "\n",
    "# Create DataFrame with aligned predictors\n",
    "flat_predictors_df_masked = pd.DataFrame(flat_predictors_valid_masked, columns=feature_names)\n"
   ]
  },
  {
   "cell_type": "code",
   "execution_count": 63,
   "id": "78478a96-f0f9-4394-89c4-05a03d974cc6",
   "metadata": {},
   "outputs": [
    {
     "name": "stdout",
     "output_type": "stream",
     "text": [
      "Updated feature names for prediction: Index(['C:/GIS_Course/MScThesis-MaviSantarelli/data/Predictors/Input/Reversed/Building_Density_Reversed.tif',\n",
      "       'C:/GIS_Course/MScThesis-MaviSantarelli/data/Predictors/Input/Reversed/DistWater_Reversed.tif',\n",
      "       'C:/GIS_Course/MScThesis-MaviSantarelli/data/Predictors/Input/Reversed/NOx_Stand_Reversed.tif',\n",
      "       'C:/GIS_Course/MScThesis-MaviSantarelli/data/Predictors/Input/Reversed/RGS_Reversed.tif',\n",
      "       'C:/GIS_Course/MScThesis-MaviSantarelli/data/Predictors/Input/Reversed/Runoff_Coefficient_Standardised_Reversed.tif',\n",
      "       'C:/GIS_Course/MScThesis-MaviSantarelli/data/Predictors/Input/Reversed/Slope_Proj_Reversed.tif',\n",
      "       'C:/GIS_Course/MScThesis-MaviSantarelli/data/Predictors/Input/Reversed/SoilMoisture_32bit_Reversed.tif',\n",
      "       'C:/GIS_Course/MScThesis-MaviSantarelli/data/Predictors/Input/Reversed/Traffic_Reversed.tif',\n",
      "       'C:/GIS_Course/MScThesis-MaviSantarelli/data/Predictors/Input/Reversed/Wood_Resample_Reversed.tif',\n",
      "       'C:/GIS_Course/MScThesis-MaviSantarelli/data/Predictors/Input/Grass_Stand.tif',\n",
      "       'C:/GIS_Course/MScThesis-MaviSantarelli/data/Predictors/Input/NDVI_median.tif',\n",
      "       'C:/GIS_Course/MScThesis-MaviSantarelli/data/Predictors/Input/NDVI_StDev.tif',\n",
      "       'C:/GIS_Course/MScThesis-MaviSantarelli/data/Predictors/Input/VegHeight.tif',\n",
      "       'kde_bias'],\n",
      "      dtype='object')\n"
     ]
    }
   ],
   "source": [
    "# Mapping simplified names to original file paths (used during training)\n",
    "feature_name_mapping = {\n",
    "    'Building_Density_Reversed': 'C:/GIS_Course/MScThesis-MaviSantarelli/data/Predictors/Input/Reversed/Building_Density_Reversed.tif',\n",
    "    'DistWater_Reversed': 'C:/GIS_Course/MScThesis-MaviSantarelli/data/Predictors/Input/Reversed/DistWater_Reversed.tif',\n",
    "    'NOx_Stand_Reversed': 'C:/GIS_Course/MScThesis-MaviSantarelli/data/Predictors/Input/Reversed/NOx_Stand_Reversed.tif',\n",
    "    'RGS_Reversed': 'C:/GIS_Course/MScThesis-MaviSantarelli/data/Predictors/Input/Reversed/RGS_Reversed.tif',\n",
    "    'Runoff_Coefficient_Reversed': 'C:/GIS_Course/MScThesis-MaviSantarelli/data/Predictors/Input/Reversed/Runoff_Coefficient_Standardised_Reversed.tif',\n",
    "    'Slope_Proj_Reversed': 'C:/GIS_Course/MScThesis-MaviSantarelli/data/Predictors/Input/Reversed/Slope_Proj_Reversed.tif',\n",
    "    'SoilMoisture_Reversed': 'C:/GIS_Course/MScThesis-MaviSantarelli/data/Predictors/Input/Reversed/SoilMoisture_32bit_Reversed.tif',\n",
    "    'Traffic_Reversed': 'C:/GIS_Course/MScThesis-MaviSantarelli/data/Predictors/Input/Reversed/Traffic_Reversed.tif',\n",
    "    'Wood_Resample_Reversed': 'C:/GIS_Course/MScThesis-MaviSantarelli/data/Predictors/Input/Reversed/Wood_Resample_Reversed.tif',\n",
    "    'Grass_Stand': 'C:/GIS_Course/MScThesis-MaviSantarelli/data/Predictors/Input/Grass_Stand.tif',\n",
    "    'NDVI_median': 'C:/GIS_Course/MScThesis-MaviSantarelli/data/Predictors/Input/NDVI_median.tif',\n",
    "    'NDVI_StDev': 'C:/GIS_Course/MScThesis-MaviSantarelli/data/Predictors/Input/NDVI_StDev.tif',\n",
    "    'VegHeight': 'C:/GIS_Course/MScThesis-MaviSantarelli/data/Predictors/Input/VegHeight.tif',\n",
    "    'kde_bias': 'kde_bias'  # Assuming this matches during training\n",
    "}\n",
    "\n",
    "# Rename columns to match feature names used during training\n",
    "flat_predictors_df_masked.rename(columns=feature_name_mapping, inplace=True)\n",
    "\n",
    "# Verify updated feature names\n",
    "print(\"Updated feature names for prediction:\", flat_predictors_df_masked.columns)\n"
   ]
  },
  {
   "cell_type": "code",
   "execution_count": 64,
   "id": "794111ac-bc05-4e93-ba9c-421557c95871",
   "metadata": {},
   "outputs": [
    {
     "name": "stdout",
     "output_type": "stream",
     "text": [
      "Generating RF and XGBoost predictions for Bufo_bufo using masked and renamed predictors...\n",
      "Predictions generated for Bufo_bufo.\n",
      "\n",
      "Generating RF and XGBoost predictions for Rana_temporaria using masked and renamed predictors...\n"
     ]
    },
    {
     "ename": "MemoryError",
     "evalue": "Unable to allocate 580. MiB for an array with shape (38029299, 1, 2) and data type float64",
     "output_type": "error",
     "traceback": [
      "\u001b[1;31m---------------------------------------------------------------------------\u001b[0m",
      "\u001b[1;31mMemoryError\u001b[0m                               Traceback (most recent call last)",
      "Cell \u001b[1;32mIn[64], line 9\u001b[0m\n\u001b[0;32m      7\u001b[0m \u001b[38;5;66;03m# Random Forest predictions\u001b[39;00m\n\u001b[0;32m      8\u001b[0m rf_models \u001b[38;5;241m=\u001b[39m rf_models_all_species[species]\n\u001b[1;32m----> 9\u001b[0m rf_predictions_list \u001b[38;5;241m=\u001b[39m [model\u001b[38;5;241m.\u001b[39mpredict_proba(flat_predictors_df_masked)[:, \u001b[38;5;241m1\u001b[39m] \u001b[38;5;28;01mfor\u001b[39;00m model \u001b[38;5;129;01min\u001b[39;00m rf_models]\n\u001b[0;32m     10\u001b[0m rf_predictions_all_species[species] \u001b[38;5;241m=\u001b[39m np\u001b[38;5;241m.\u001b[39mmean(rf_predictions_list, axis\u001b[38;5;241m=\u001b[39m\u001b[38;5;241m0\u001b[39m)\n\u001b[0;32m     12\u001b[0m \u001b[38;5;66;03m# XGBoost predictions\u001b[39;00m\n",
      "Cell \u001b[1;32mIn[64], line 9\u001b[0m, in \u001b[0;36m<listcomp>\u001b[1;34m(.0)\u001b[0m\n\u001b[0;32m      7\u001b[0m \u001b[38;5;66;03m# Random Forest predictions\u001b[39;00m\n\u001b[0;32m      8\u001b[0m rf_models \u001b[38;5;241m=\u001b[39m rf_models_all_species[species]\n\u001b[1;32m----> 9\u001b[0m rf_predictions_list \u001b[38;5;241m=\u001b[39m [\u001b[43mmodel\u001b[49m\u001b[38;5;241;43m.\u001b[39;49m\u001b[43mpredict_proba\u001b[49m\u001b[43m(\u001b[49m\u001b[43mflat_predictors_df_masked\u001b[49m\u001b[43m)\u001b[49m[:, \u001b[38;5;241m1\u001b[39m] \u001b[38;5;28;01mfor\u001b[39;00m model \u001b[38;5;129;01min\u001b[39;00m rf_models]\n\u001b[0;32m     10\u001b[0m rf_predictions_all_species[species] \u001b[38;5;241m=\u001b[39m np\u001b[38;5;241m.\u001b[39mmean(rf_predictions_list, axis\u001b[38;5;241m=\u001b[39m\u001b[38;5;241m0\u001b[39m)\n\u001b[0;32m     12\u001b[0m \u001b[38;5;66;03m# XGBoost predictions\u001b[39;00m\n",
      "File \u001b[1;32m~\\anaconda3\\envs\\MscThesis\\lib\\site-packages\\sklearn\\ensemble\\_forest.py:957\u001b[0m, in \u001b[0;36mForestClassifier.predict_proba\u001b[1;34m(self, X)\u001b[0m\n\u001b[0;32m    952\u001b[0m all_proba \u001b[38;5;241m=\u001b[39m [\n\u001b[0;32m    953\u001b[0m     np\u001b[38;5;241m.\u001b[39mzeros((X\u001b[38;5;241m.\u001b[39mshape[\u001b[38;5;241m0\u001b[39m], j), dtype\u001b[38;5;241m=\u001b[39mnp\u001b[38;5;241m.\u001b[39mfloat64)\n\u001b[0;32m    954\u001b[0m     \u001b[38;5;28;01mfor\u001b[39;00m j \u001b[38;5;129;01min\u001b[39;00m np\u001b[38;5;241m.\u001b[39matleast_1d(\u001b[38;5;28mself\u001b[39m\u001b[38;5;241m.\u001b[39mn_classes_)\n\u001b[0;32m    955\u001b[0m ]\n\u001b[0;32m    956\u001b[0m lock \u001b[38;5;241m=\u001b[39m threading\u001b[38;5;241m.\u001b[39mLock()\n\u001b[1;32m--> 957\u001b[0m \u001b[43mParallel\u001b[49m\u001b[43m(\u001b[49m\u001b[43mn_jobs\u001b[49m\u001b[38;5;241;43m=\u001b[39;49m\u001b[43mn_jobs\u001b[49m\u001b[43m,\u001b[49m\u001b[43m \u001b[49m\u001b[43mverbose\u001b[49m\u001b[38;5;241;43m=\u001b[39;49m\u001b[38;5;28;43mself\u001b[39;49m\u001b[38;5;241;43m.\u001b[39;49m\u001b[43mverbose\u001b[49m\u001b[43m,\u001b[49m\u001b[43m \u001b[49m\u001b[43mrequire\u001b[49m\u001b[38;5;241;43m=\u001b[39;49m\u001b[38;5;124;43m\"\u001b[39;49m\u001b[38;5;124;43msharedmem\u001b[39;49m\u001b[38;5;124;43m\"\u001b[39;49m\u001b[43m)\u001b[49m\u001b[43m(\u001b[49m\n\u001b[0;32m    958\u001b[0m \u001b[43m    \u001b[49m\u001b[43mdelayed\u001b[49m\u001b[43m(\u001b[49m\u001b[43m_accumulate_prediction\u001b[49m\u001b[43m)\u001b[49m\u001b[43m(\u001b[49m\u001b[43me\u001b[49m\u001b[38;5;241;43m.\u001b[39;49m\u001b[43mpredict_proba\u001b[49m\u001b[43m,\u001b[49m\u001b[43m \u001b[49m\u001b[43mX\u001b[49m\u001b[43m,\u001b[49m\u001b[43m \u001b[49m\u001b[43mall_proba\u001b[49m\u001b[43m,\u001b[49m\u001b[43m \u001b[49m\u001b[43mlock\u001b[49m\u001b[43m)\u001b[49m\n\u001b[0;32m    959\u001b[0m \u001b[43m    \u001b[49m\u001b[38;5;28;43;01mfor\u001b[39;49;00m\u001b[43m \u001b[49m\u001b[43me\u001b[49m\u001b[43m \u001b[49m\u001b[38;5;129;43;01min\u001b[39;49;00m\u001b[43m \u001b[49m\u001b[38;5;28;43mself\u001b[39;49m\u001b[38;5;241;43m.\u001b[39;49m\u001b[43mestimators_\u001b[49m\n\u001b[0;32m    960\u001b[0m \u001b[43m\u001b[49m\u001b[43m)\u001b[49m\n\u001b[0;32m    962\u001b[0m \u001b[38;5;28;01mfor\u001b[39;00m proba \u001b[38;5;129;01min\u001b[39;00m all_proba:\n\u001b[0;32m    963\u001b[0m     proba \u001b[38;5;241m/\u001b[39m\u001b[38;5;241m=\u001b[39m \u001b[38;5;28mlen\u001b[39m(\u001b[38;5;28mself\u001b[39m\u001b[38;5;241m.\u001b[39mestimators_)\n",
      "File \u001b[1;32m~\\anaconda3\\envs\\MscThesis\\lib\\site-packages\\sklearn\\utils\\parallel.py:74\u001b[0m, in \u001b[0;36mParallel.__call__\u001b[1;34m(self, iterable)\u001b[0m\n\u001b[0;32m     69\u001b[0m config \u001b[38;5;241m=\u001b[39m get_config()\n\u001b[0;32m     70\u001b[0m iterable_with_config \u001b[38;5;241m=\u001b[39m (\n\u001b[0;32m     71\u001b[0m     (_with_config(delayed_func, config), args, kwargs)\n\u001b[0;32m     72\u001b[0m     \u001b[38;5;28;01mfor\u001b[39;00m delayed_func, args, kwargs \u001b[38;5;129;01min\u001b[39;00m iterable\n\u001b[0;32m     73\u001b[0m )\n\u001b[1;32m---> 74\u001b[0m \u001b[38;5;28;01mreturn\u001b[39;00m \u001b[38;5;28;43msuper\u001b[39;49m\u001b[43m(\u001b[49m\u001b[43m)\u001b[49m\u001b[38;5;241;43m.\u001b[39;49m\u001b[38;5;21;43m__call__\u001b[39;49m\u001b[43m(\u001b[49m\u001b[43miterable_with_config\u001b[49m\u001b[43m)\u001b[49m\n",
      "File \u001b[1;32m~\\anaconda3\\envs\\MscThesis\\lib\\site-packages\\joblib\\parallel.py:1918\u001b[0m, in \u001b[0;36mParallel.__call__\u001b[1;34m(self, iterable)\u001b[0m\n\u001b[0;32m   1916\u001b[0m     output \u001b[38;5;241m=\u001b[39m \u001b[38;5;28mself\u001b[39m\u001b[38;5;241m.\u001b[39m_get_sequential_output(iterable)\n\u001b[0;32m   1917\u001b[0m     \u001b[38;5;28mnext\u001b[39m(output)\n\u001b[1;32m-> 1918\u001b[0m     \u001b[38;5;28;01mreturn\u001b[39;00m output \u001b[38;5;28;01mif\u001b[39;00m \u001b[38;5;28mself\u001b[39m\u001b[38;5;241m.\u001b[39mreturn_generator \u001b[38;5;28;01melse\u001b[39;00m \u001b[38;5;28;43mlist\u001b[39;49m\u001b[43m(\u001b[49m\u001b[43moutput\u001b[49m\u001b[43m)\u001b[49m\n\u001b[0;32m   1920\u001b[0m \u001b[38;5;66;03m# Let's create an ID that uniquely identifies the current call. If the\u001b[39;00m\n\u001b[0;32m   1921\u001b[0m \u001b[38;5;66;03m# call is interrupted early and that the same instance is immediately\u001b[39;00m\n\u001b[0;32m   1922\u001b[0m \u001b[38;5;66;03m# re-used, this id will be used to prevent workers that were\u001b[39;00m\n\u001b[0;32m   1923\u001b[0m \u001b[38;5;66;03m# concurrently finalizing a task from the previous call to run the\u001b[39;00m\n\u001b[0;32m   1924\u001b[0m \u001b[38;5;66;03m# callback.\u001b[39;00m\n\u001b[0;32m   1925\u001b[0m \u001b[38;5;28;01mwith\u001b[39;00m \u001b[38;5;28mself\u001b[39m\u001b[38;5;241m.\u001b[39m_lock:\n",
      "File \u001b[1;32m~\\anaconda3\\envs\\MscThesis\\lib\\site-packages\\joblib\\parallel.py:1847\u001b[0m, in \u001b[0;36mParallel._get_sequential_output\u001b[1;34m(self, iterable)\u001b[0m\n\u001b[0;32m   1845\u001b[0m \u001b[38;5;28mself\u001b[39m\u001b[38;5;241m.\u001b[39mn_dispatched_batches \u001b[38;5;241m+\u001b[39m\u001b[38;5;241m=\u001b[39m \u001b[38;5;241m1\u001b[39m\n\u001b[0;32m   1846\u001b[0m \u001b[38;5;28mself\u001b[39m\u001b[38;5;241m.\u001b[39mn_dispatched_tasks \u001b[38;5;241m+\u001b[39m\u001b[38;5;241m=\u001b[39m \u001b[38;5;241m1\u001b[39m\n\u001b[1;32m-> 1847\u001b[0m res \u001b[38;5;241m=\u001b[39m func(\u001b[38;5;241m*\u001b[39margs, \u001b[38;5;241m*\u001b[39m\u001b[38;5;241m*\u001b[39mkwargs)\n\u001b[0;32m   1848\u001b[0m \u001b[38;5;28mself\u001b[39m\u001b[38;5;241m.\u001b[39mn_completed_tasks \u001b[38;5;241m+\u001b[39m\u001b[38;5;241m=\u001b[39m \u001b[38;5;241m1\u001b[39m\n\u001b[0;32m   1849\u001b[0m \u001b[38;5;28mself\u001b[39m\u001b[38;5;241m.\u001b[39mprint_progress()\n",
      "File \u001b[1;32m~\\anaconda3\\envs\\MscThesis\\lib\\site-packages\\sklearn\\utils\\parallel.py:136\u001b[0m, in \u001b[0;36m_FuncWrapper.__call__\u001b[1;34m(self, *args, **kwargs)\u001b[0m\n\u001b[0;32m    134\u001b[0m     config \u001b[38;5;241m=\u001b[39m {}\n\u001b[0;32m    135\u001b[0m \u001b[38;5;28;01mwith\u001b[39;00m config_context(\u001b[38;5;241m*\u001b[39m\u001b[38;5;241m*\u001b[39mconfig):\n\u001b[1;32m--> 136\u001b[0m     \u001b[38;5;28;01mreturn\u001b[39;00m \u001b[38;5;28mself\u001b[39m\u001b[38;5;241m.\u001b[39mfunction(\u001b[38;5;241m*\u001b[39margs, \u001b[38;5;241m*\u001b[39m\u001b[38;5;241m*\u001b[39mkwargs)\n",
      "File \u001b[1;32m~\\anaconda3\\envs\\MscThesis\\lib\\site-packages\\sklearn\\ensemble\\_forest.py:731\u001b[0m, in \u001b[0;36m_accumulate_prediction\u001b[1;34m(predict, X, out, lock)\u001b[0m\n\u001b[0;32m    724\u001b[0m \u001b[38;5;28;01mdef\u001b[39;00m \u001b[38;5;21m_accumulate_prediction\u001b[39m(predict, X, out, lock):\n\u001b[0;32m    725\u001b[0m \u001b[38;5;250m    \u001b[39m\u001b[38;5;124;03m\"\"\"\u001b[39;00m\n\u001b[0;32m    726\u001b[0m \u001b[38;5;124;03m    This is a utility function for joblib's Parallel.\u001b[39;00m\n\u001b[0;32m    727\u001b[0m \n\u001b[0;32m    728\u001b[0m \u001b[38;5;124;03m    It can't go locally in ForestClassifier or ForestRegressor, because joblib\u001b[39;00m\n\u001b[0;32m    729\u001b[0m \u001b[38;5;124;03m    complains that it cannot pickle it when placed there.\u001b[39;00m\n\u001b[0;32m    730\u001b[0m \u001b[38;5;124;03m    \"\"\"\u001b[39;00m\n\u001b[1;32m--> 731\u001b[0m     prediction \u001b[38;5;241m=\u001b[39m \u001b[43mpredict\u001b[49m\u001b[43m(\u001b[49m\u001b[43mX\u001b[49m\u001b[43m,\u001b[49m\u001b[43m \u001b[49m\u001b[43mcheck_input\u001b[49m\u001b[38;5;241;43m=\u001b[39;49m\u001b[38;5;28;43;01mFalse\u001b[39;49;00m\u001b[43m)\u001b[49m\n\u001b[0;32m    732\u001b[0m     \u001b[38;5;28;01mwith\u001b[39;00m lock:\n\u001b[0;32m    733\u001b[0m         \u001b[38;5;28;01mif\u001b[39;00m \u001b[38;5;28mlen\u001b[39m(out) \u001b[38;5;241m==\u001b[39m \u001b[38;5;241m1\u001b[39m:\n",
      "File \u001b[1;32m~\\anaconda3\\envs\\MscThesis\\lib\\site-packages\\sklearn\\tree\\_classes.py:1043\u001b[0m, in \u001b[0;36mDecisionTreeClassifier.predict_proba\u001b[1;34m(self, X, check_input)\u001b[0m\n\u001b[0;32m   1041\u001b[0m check_is_fitted(\u001b[38;5;28mself\u001b[39m)\n\u001b[0;32m   1042\u001b[0m X \u001b[38;5;241m=\u001b[39m \u001b[38;5;28mself\u001b[39m\u001b[38;5;241m.\u001b[39m_validate_X_predict(X, check_input)\n\u001b[1;32m-> 1043\u001b[0m proba \u001b[38;5;241m=\u001b[39m \u001b[38;5;28;43mself\u001b[39;49m\u001b[38;5;241;43m.\u001b[39;49m\u001b[43mtree_\u001b[49m\u001b[38;5;241;43m.\u001b[39;49m\u001b[43mpredict\u001b[49m\u001b[43m(\u001b[49m\u001b[43mX\u001b[49m\u001b[43m)\u001b[49m\n\u001b[0;32m   1045\u001b[0m \u001b[38;5;28;01mif\u001b[39;00m \u001b[38;5;28mself\u001b[39m\u001b[38;5;241m.\u001b[39mn_outputs_ \u001b[38;5;241m==\u001b[39m \u001b[38;5;241m1\u001b[39m:\n\u001b[0;32m   1046\u001b[0m     \u001b[38;5;28;01mreturn\u001b[39;00m proba[:, : \u001b[38;5;28mself\u001b[39m\u001b[38;5;241m.\u001b[39mn_classes_]\n",
      "File \u001b[1;32m_tree.pyx:972\u001b[0m, in \u001b[0;36msklearn.tree._tree.Tree.predict\u001b[1;34m()\u001b[0m\n",
      "File \u001b[1;32m_tree.pyx:974\u001b[0m, in \u001b[0;36msklearn.tree._tree.Tree.predict\u001b[1;34m()\u001b[0m\n",
      "\u001b[1;31mMemoryError\u001b[0m: Unable to allocate 580. MiB for an array with shape (38029299, 1, 2) and data type float64"
     ]
    }
   ],
   "source": [
    "rf_predictions_all_species = {}\n",
    "xgb_predictions_all_species = {}\n",
    "\n",
    "for species in species_list:\n",
    "    print(f\"Generating RF and XGBoost predictions for {species} using masked and renamed predictors...\")\n",
    "\n",
    "    # Random Forest predictions\n",
    "    rf_models = rf_models_all_species[species]\n",
    "    rf_predictions_list = [model.predict_proba(flat_predictors_df_masked)[:, 1] for model in rf_models]\n",
    "    rf_predictions_all_species[species] = np.mean(rf_predictions_list, axis=0)\n",
    "\n",
    "    # XGBoost predictions\n",
    "    xgb_models = xgb_models_all_species[species]\n",
    "    xgb_predictions_list = [model.predict_proba(flat_predictors_df_masked)[:, 1] for model in xgb_models]\n",
    "    xgb_predictions_all_species[species] = np.mean(xgb_predictions_list, axis=0)\n",
    "\n",
    "    print(f\"Predictions generated for {species}.\\n\")\n"
   ]
  },
  {
   "cell_type": "code",
   "execution_count": 65,
   "id": "0b4bb943-2d3b-45e4-87d5-2c994c7652f4",
   "metadata": {},
   "outputs": [],
   "source": [
    "import os\n",
    "import joblib\n",
    "\n",
    "# Directory to save *Bufo bufo* predictions\n",
    "bufo_predictions_dir = \"C:/GIS_Course/MScThesis-MaviSantarelli/results/Model_Predictions/Bufo_bufo\"\n",
    "os.makedirs(bufo_predictions_dir, exist_ok=True)\n"
   ]
  },
  {
   "cell_type": "code",
   "execution_count": 66,
   "id": "7d0a62e0-2e6e-4fcc-b09d-9f06da4cb1b6",
   "metadata": {},
   "outputs": [
    {
     "name": "stdout",
     "output_type": "stream",
     "text": [
      "Random Forest predictions saved for Bufo bufo at C:/GIS_Course/MScThesis-MaviSantarelli/results/Model_Predictions/Bufo_bufo\\Bufo_bufo_RF_Predictions_Masked.pkl\n",
      "XGBoost predictions saved for Bufo bufo at C:/GIS_Course/MScThesis-MaviSantarelli/results/Model_Predictions/Bufo_bufo\\Bufo_bufo_XGBoost_Predictions_Masked.pkl\n"
     ]
    }
   ],
   "source": [
    "# Save Random Forest predictions\n",
    "rf_bufo_save_path = os.path.join(bufo_predictions_dir, \"Bufo_bufo_RF_Predictions_Masked.pkl\")\n",
    "joblib.dump(rf_predictions_all_species[\"Bufo_bufo\"], rf_bufo_save_path)\n",
    "print(f\"Random Forest predictions saved for Bufo bufo at {rf_bufo_save_path}\")\n",
    "\n",
    "# Save XGBoost predictions\n",
    "xgb_bufo_save_path = os.path.join(bufo_predictions_dir, \"Bufo_bufo_XGBoost_Predictions_Masked.pkl\")\n",
    "joblib.dump(xgb_predictions_all_species[\"Bufo_bufo\"], xgb_bufo_save_path)\n",
    "print(f\"XGBoost predictions saved for Bufo bufo at {xgb_bufo_save_path}\")\n"
   ]
  },
  {
   "cell_type": "code",
   "execution_count": 67,
   "id": "2ce5ef14-8124-4c3c-8b25-e279106ec723",
   "metadata": {},
   "outputs": [
    {
     "name": "stdout",
     "output_type": "stream",
     "text": [
      "Random Forest predictions saved as CSV for Bufo bufo at C:/GIS_Course/MScThesis-MaviSantarelli/results/Model_Predictions/Bufo_bufo\\Bufo_bufo_RF_Predictions_Masked.csv\n",
      "XGBoost predictions saved as CSV for Bufo bufo at C:/GIS_Course/MScThesis-MaviSantarelli/results/Model_Predictions/Bufo_bufo\\Bufo_bufo_XGBoost_Predictions_Masked.csv\n"
     ]
    }
   ],
   "source": [
    "import pandas as pd\n",
    "\n",
    "# Save Random Forest predictions as CSV\n",
    "rf_bufo_csv_path = os.path.join(bufo_predictions_dir, \"Bufo_bufo_RF_Predictions_Masked.csv\")\n",
    "pd.DataFrame(rf_predictions_all_species[\"Bufo_bufo\"], columns=[\"Habitat_Suitability\"]).to_csv(rf_bufo_csv_path, index=False)\n",
    "print(f\"Random Forest predictions saved as CSV for Bufo bufo at {rf_bufo_csv_path}\")\n",
    "\n",
    "# Save XGBoost predictions as CSV\n",
    "xgb_bufo_csv_path = os.path.join(bufo_predictions_dir, \"Bufo_bufo_XGBoost_Predictions_Masked.csv\")\n",
    "pd.DataFrame(xgb_predictions_all_species[\"Bufo_bufo\"], columns=[\"Habitat_Suitability\"]).to_csv(xgb_bufo_csv_path, index=False)\n",
    "print(f\"XGBoost predictions saved as CSV for Bufo bufo at {xgb_bufo_csv_path}\")\n"
   ]
  },
  {
   "cell_type": "code",
   "execution_count": 68,
   "id": "f0279e5d-31b7-4540-a7f0-e186e9e16ae3",
   "metadata": {},
   "outputs": [],
   "source": [
    "# Function to process predictions in batches\n",
    "def batch_predict(model, data, batch_size=500000):\n",
    "    predictions = []\n",
    "    total_samples = data.shape[0]\n",
    "    \n",
    "    for start in range(0, total_samples, batch_size):\n",
    "        end = min(start + batch_size, total_samples)\n",
    "        batch = data[start:end]\n",
    "        predictions.append(model.predict_proba(batch)[:, 1])\n",
    "    \n",
    "    return np.concatenate(predictions)\n"
   ]
  },
  {
   "cell_type": "code",
   "execution_count": 69,
   "id": "9628fde8-ce1a-4802-a4e3-df6c654e20e0",
   "metadata": {},
   "outputs": [
    {
     "name": "stdout",
     "output_type": "stream",
     "text": [
      "Skipping predictions for Bufo_bufo (already saved).\n",
      "Generating RF and XGBoost predictions for Rana_temporaria using masked and renamed predictors...\n",
      "Predictions generated for Rana_temporaria.\n",
      "\n",
      "Generating RF and XGBoost predictions for Lissotriton_helveticus using masked and renamed predictors...\n",
      "Predictions generated for Lissotriton_helveticus.\n",
      "\n"
     ]
    }
   ],
   "source": [
    "rf_predictions_all_species = {}\n",
    "xgb_predictions_all_species = {}\n",
    "\n",
    "for species in species_list:\n",
    "    if species == \"Bufo_bufo\":\n",
    "        print(f\"Skipping predictions for {species} (already saved).\")\n",
    "        continue\n",
    "\n",
    "    print(f\"Generating RF and XGBoost predictions for {species} using masked and renamed predictors...\")\n",
    "\n",
    "    # Random Forest predictions with batch processing\n",
    "    rf_models = rf_models_all_species[species]\n",
    "    rf_predictions_list = [batch_predict(model, flat_predictors_df_masked) for model in rf_models]\n",
    "    rf_predictions_all_species[species] = np.mean(rf_predictions_list, axis=0)\n",
    "\n",
    "    # XGBoost predictions with batch processing\n",
    "    xgb_models = xgb_models_all_species[species]\n",
    "    xgb_predictions_list = [batch_predict(model, flat_predictors_df_masked) for model in xgb_models]\n",
    "    xgb_predictions_all_species[species] = np.mean(xgb_predictions_list, axis=0)\n",
    "\n",
    "    print(f\"Predictions generated for {species}.\\n\")\n"
   ]
  },
  {
   "cell_type": "code",
   "execution_count": 70,
   "id": "8affcffa-6c6f-4872-9cac-edf4e35b2b3b",
   "metadata": {},
   "outputs": [],
   "source": [
    "import os\n",
    "import joblib\n",
    "\n",
    "# Directory to save predictions\n",
    "predictions_dir = \"C:/GIS_Course/MScThesis-MaviSantarelli/results/Model_Predictions\"\n",
    "\n",
    "# Ensure the directory exists\n",
    "os.makedirs(predictions_dir, exist_ok=True)\n"
   ]
  },
  {
   "cell_type": "code",
   "execution_count": 71,
   "id": "d2b5bb6c-9615-4b24-8540-9de109bca96f",
   "metadata": {},
   "outputs": [
    {
     "name": "stdout",
     "output_type": "stream",
     "text": [
      "Random Forest predictions saved for Rana_temporaria at C:/GIS_Course/MScThesis-MaviSantarelli/results/Model_Predictions\\Rana_temporaria\\Rana_temporaria_RF_Predictions_Masked.pkl\n",
      "XGBoost predictions saved for Rana_temporaria at C:/GIS_Course/MScThesis-MaviSantarelli/results/Model_Predictions\\Rana_temporaria\\Rana_temporaria_XGBoost_Predictions_Masked.pkl\n",
      "Random Forest predictions saved for Lissotriton_helveticus at C:/GIS_Course/MScThesis-MaviSantarelli/results/Model_Predictions\\Lissotriton_helveticus\\Lissotriton_helveticus_RF_Predictions_Masked.pkl\n",
      "XGBoost predictions saved for Lissotriton_helveticus at C:/GIS_Course/MScThesis-MaviSantarelli/results/Model_Predictions\\Lissotriton_helveticus\\Lissotriton_helveticus_XGBoost_Predictions_Masked.pkl\n"
     ]
    }
   ],
   "source": [
    "# Save predictions for each species\n",
    "for species in [\"Rana_temporaria\", \"Lissotriton_helveticus\"]:\n",
    "    species_dir = os.path.join(predictions_dir, species)\n",
    "    os.makedirs(species_dir, exist_ok=True)\n",
    "\n",
    "    # Save Random Forest predictions\n",
    "    rf_save_path = os.path.join(species_dir, f\"{species}_RF_Predictions_Masked.pkl\")\n",
    "    joblib.dump(rf_predictions_all_species[species], rf_save_path)\n",
    "    print(f\"Random Forest predictions saved for {species} at {rf_save_path}\")\n",
    "\n",
    "    # Save XGBoost predictions\n",
    "    xgb_save_path = os.path.join(species_dir, f\"{species}_XGBoost_Predictions_Masked.pkl\")\n",
    "    joblib.dump(xgb_predictions_all_species[species], xgb_save_path)\n",
    "    print(f\"XGBoost predictions saved for {species} at {xgb_save_path}\")\n"
   ]
  },
  {
   "cell_type": "code",
   "execution_count": null,
   "id": "7f3989c7-3712-4028-acc0-9cc75a83f7c8",
   "metadata": {},
   "outputs": [
    {
     "name": "stdout",
     "output_type": "stream",
     "text": [
      "Random Forest predictions saved as CSV for Rana_temporaria at C:/GIS_Course/MScThesis-MaviSantarelli/results/Model_Predictions\\Rana_temporaria\\Rana_temporaria_RF_Predictions_Masked.csv\n",
      "XGBoost predictions saved as CSV for Rana_temporaria at C:/GIS_Course/MScThesis-MaviSantarelli/results/Model_Predictions\\Rana_temporaria\\Rana_temporaria_XGBoost_Predictions_Masked.csv\n"
     ]
    }
   ],
   "source": [
    "import pandas as pd\n",
    "\n",
    "# Save predictions as CSV for each species\n",
    "for species in [\"Rana_temporaria\", \"Lissotriton_helveticus\"]:\n",
    "    species_dir = os.path.join(predictions_dir, species)\n",
    "\n",
    "    # Save Random Forest predictions as CSV\n",
    "    rf_csv_path = os.path.join(species_dir, f\"{species}_RF_Predictions_Masked.csv\")\n",
    "    pd.DataFrame(rf_predictions_all_species[species], columns=[\"Habitat_Suitability\"]).to_csv(rf_csv_path, index=False)\n",
    "    print(f\"Random Forest predictions saved as CSV for {species} at {rf_csv_path}\")\n",
    "\n",
    "    # Save XGBoost predictions as CSV\n",
    "    xgb_csv_path = os.path.join(species_dir, f\"{species}_XGBoost_Predictions_Masked.csv\")\n",
    "    pd.DataFrame(xgb_predictions_all_species[species], columns=[\"Habitat_Suitability\"]).to_csv(xgb_csv_path, index=False)\n",
    "    print(f\"XGBoost predictions saved as CSV for {species} at {xgb_csv_path}\")\n"
   ]
  },
  {
   "cell_type": "markdown",
   "id": "57fd664b-458c-4250-8eaa-ebca478b23af",
   "metadata": {},
   "source": [
    "### References\n",
    "\n",
    "Fithian, W., Elith, J., Hastie, T., & Keith, D. A. (2015). Bias correction in species distribution models: pooling survey and collection data for multiple species. *Methods in Ecology and Evolution*, 6(4), 424-438. https://doi.org/10.1111/2041-210X.12242\n",
    "\n",
    "Phillips, S. J., Anderson, R. P., & Schapire, R. E. (2006). Maximum entropy modelling of species geographic distributions. *Ecological Modelling*, 190(3–4), 231–259. https://doi.org/10.1016/j.ecolmodel.2005.03.026\n",
    "\n",
    "Inman, R., Franklin, J., Esque, T., & Nussear, K. (2021). Comparing sample bias correction methods for species distribution modeling using virtual species. *Ecosphere*, 12(3). https://doi.org/10.1002/ecs2.3422\n",
    "\n",
    "Robinson, O. J., Ruiz-Gutierrez, V., & Fink, D. (2017). Correcting for bias in distribution modeling for rare species using citizen science data. *Diversity and Distributions*, 23(1), 1-12. https://doi.org/10.1111/ddi.12698\n"
   ]
  },
  {
   "cell_type": "code",
   "execution_count": null,
   "id": "7689cb83-eeb7-497b-a9df-c785229b2284",
   "metadata": {},
   "outputs": [],
   "source": []
  }
 ],
 "metadata": {
  "kernelspec": {
   "display_name": "Python (MscThesis)",
   "language": "python",
   "name": "mscthesis"
  },
  "language_info": {
   "codemirror_mode": {
    "name": "ipython",
    "version": 3
   },
   "file_extension": ".py",
   "mimetype": "text/x-python",
   "name": "python",
   "nbconvert_exporter": "python",
   "pygments_lexer": "ipython3",
   "version": "3.9.19"
  }
 },
 "nbformat": 4,
 "nbformat_minor": 5
}
