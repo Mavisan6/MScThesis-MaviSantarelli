{
 "cells": [
  {
   "cell_type": "markdown",
   "id": "08f77a85-70cc-4813-a5a6-ea12695ec7ea",
   "metadata": {},
   "source": [
    "# Spatial Mapping\n",
    "\n",
    "## Table of Contents\n",
    "\n",
    "1. [Introduction](#1.-Introduction)\n",
    "2. [Convert Model Predictions to Spatial Data](#2.-Convert-Model-Predictions-to-Spatial-Data)"
   ]
  },
  {
   "cell_type": "markdown",
   "id": "e2ea54eb-5696-4af2-9716-65e0d51397c6",
   "metadata": {},
   "source": [
    "## 1. Introduction\n",
    "\n",
    "The final stage of species distribution modelling involves translating model outputs into spatially explicit predictions for visualization and analysis in Geographic Information Systems (GIS). This step is crucial for identifying suitable habitats, informing conservation planning, and integrating results into decision-making frameworks.\n",
    "\n",
    "Species distribution models (SDMs) generate probability estimates of species presence based on environmental predictors. These probabilities must be converted into spatially explicit rasters or vector layers that align with the study area’s geographic coordinates. The transition from tabular predictions to spatial datasets ensures that results can be integrated with other environmental data, such as land cover, habitat connectivity, and conservation priorities."
   ]
  },
  {
   "cell_type": "markdown",
   "id": "b21c5f1c-978e-4fc6-bf7e-5505ef351a37",
   "metadata": {},
   "source": [
    "## 2. Convert Model Predictions to Spatial Data\n",
    "\n",
    "**Goal:** Merge the final suitability predictions with the spatial structure of the predictors.\n",
    "\n",
    "**Actions:**\n",
    "* Load the final suitability predictions from the CSV files.\n",
    "* Assign the probability values to spatial coordinates.\n",
    "* Convert the structured data into raster format.\n",
    "\n",
    "### **Load Final Suitability Predictions**"
   ]
  },
  {
   "cell_type": "code",
   "execution_count": 1,
   "id": "095b48ee-2a2a-44b3-af7d-c09314dccbf9",
   "metadata": {},
   "outputs": [
    {
     "name": "stdout",
     "output_type": "stream",
     "text": [
      "✅ Loaded predictions for Bufo bufo\n",
      "✅ Loaded predictions for Rana temporaria\n",
      "✅ Loaded predictions for Lissotriton helveticus\n"
     ]
    }
   ],
   "source": [
    "import os\n",
    "import pandas as pd\n",
    "import geopandas as gpd\n",
    "\n",
    "# Define paths\n",
    "prediction_dir = r\"C:\\GIS_Course\\MScThesis-MaviSantarelli\\results\\Models\\Final_Binary\"\n",
    "species_list = [\"Bufo bufo\", \"Rana temporaria\", \"Lissotriton helveticus\"]\n",
    "\n",
    "# Load prediction files\n",
    "predictions = {}\n",
    "for species in species_list:\n",
    "    file_path = os.path.join(prediction_dir, f\"{species}_Final_Binary_Predictions.csv\")\n",
    "    if os.path.exists(file_path):\n",
    "        predictions[species] = pd.read_csv(file_path)\n",
    "        print(f\"✅ Loaded predictions for {species}\")\n",
    "    else:\n",
    "        print(f\"⚠️ Missing predictions for {species}\")\n"
   ]
  },
  {
   "cell_type": "markdown",
   "id": "8206ecb9-693a-49db-b12c-8418690810e5",
   "metadata": {},
   "source": [
    "### **Convert Predictions into Raster**"
   ]
  },
  {
   "cell_type": "code",
   "execution_count": null,
   "id": "f78ae5b2-14c2-4591-937f-5f50fe762292",
   "metadata": {},
   "outputs": [],
   "source": []
  }
 ],
 "metadata": {
  "kernelspec": {
   "display_name": "Python (MscThesis)",
   "language": "python",
   "name": "mscthesis"
  },
  "language_info": {
   "codemirror_mode": {
    "name": "ipython",
    "version": 3
   },
   "file_extension": ".py",
   "mimetype": "text/x-python",
   "name": "python",
   "nbconvert_exporter": "python",
   "pygments_lexer": "ipython3",
   "version": "3.9.19"
  }
 },
 "nbformat": 4,
 "nbformat_minor": 5
}
