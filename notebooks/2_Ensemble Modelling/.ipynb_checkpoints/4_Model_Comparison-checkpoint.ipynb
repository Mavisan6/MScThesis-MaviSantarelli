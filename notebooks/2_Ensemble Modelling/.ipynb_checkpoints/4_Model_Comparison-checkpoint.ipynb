{
 "cells": [
  {
   "cell_type": "markdown",
   "id": "ab65c40c-ad48-4909-8306-2ca373dcaf37",
   "metadata": {},
   "source": [
    "# Model Comparison and Ensemble Modelling\n",
    "\n",
    "## 1. Introduction\n",
    "\n",
    "### **Objective:**\n",
    "To assess and compare the performance of multiple SDMs (GLM, GAM, RF, XGBoost, MaxEnt) and explore ensemble modelling techniques to improve species distribution predictions.\n",
    "\n",
    "### **Rationale:**\n",
    "Comparing different models allows us to identify strengths and weaknesses in their predictive capabilities. Ensemble modelling combines multiple models to leverage their individual strengths, often leading to improved accuracy and robustness in predictions (Meller et al., 2014). "
   ]
  },
  {
   "cell_type": "code",
   "execution_count": 2,
   "id": "89103cbf-791f-4b2f-ae1b-81790fcbfc0c",
   "metadata": {},
   "outputs": [],
   "source": [
    "import os\n",
    "import joblib\n",
    "import pandas as pd\n",
    "import numpy as np\n",
    "import matplotlib.pyplot as plt\n",
    "from sklearn.metrics import (\n",
    "    roc_auc_score, roc_curve, precision_recall_curve, \n",
    "    precision_score, recall_score, f1_score, confusion_matrix\n",
    ")\n"
   ]
  },
  {
   "cell_type": "markdown",
   "id": "674897e0-d571-47da-84ef-a73de1f9346f",
   "metadata": {},
   "source": [
    "## 2. Data Preparation\n",
    "\n",
    "### **Steps:**\n",
    "\n",
    "#### 1. Load Test Predictions:\n",
    "- Import the test prediction results from each model for all species.\n",
    "\n",
    "#### 2. Ensure Consistency:\n",
    "- Verify that all datasets have consistent formatting, with aligned columns for true labels and predicted probabilities.\n",
    "\n",
    "### **Rationale:**\n",
    "Consistent data formatting is crucial for accurate performance evaluation and comparison across models."
   ]
  },
  {
   "cell_type": "markdown",
   "id": "58953cfb-e897-4942-8b25-4cf480821436",
   "metadata": {},
   "source": [
    "### 2.1 Loading GLM Files"
   ]
  },
  {
   "cell_type": "code",
   "execution_count": 3,
   "id": "c00674c3-5fc9-4d38-8cb8-96a319148042",
   "metadata": {},
   "outputs": [
    {
     "name": "stdout",
     "output_type": "stream",
     "text": [
      "Loaded Lasso model for Bufo bufo\n",
      "Loaded metrics for Bufo bufo - Lasso\n",
      "Loaded Ridge model for Bufo bufo\n",
      "Loaded metrics for Bufo bufo - Ridge\n",
      "Loaded Lasso model for Rana temporaria\n",
      "Loaded metrics for Rana temporaria - Lasso\n",
      "Loaded Ridge model for Rana temporaria\n",
      "Loaded metrics for Rana temporaria - Ridge\n",
      "Loaded Lasso model for Lissotriton helveticus\n",
      "Loaded metrics for Lissotriton helveticus - Lasso\n",
      "Loaded Ridge model for Lissotriton helveticus\n",
      "Loaded metrics for Lissotriton helveticus - Ridge\n",
      "✅ Final GLM models and metrics loaded successfully!\n"
     ]
    }
   ],
   "source": [
    "import os\n",
    "import joblib\n",
    "import pandas as pd\n",
    "\n",
    "# Define paths to final GLM models and metrics\n",
    "final_glm_dir = \"C:/GIS_Course/MScThesis-MaviSantarelli/results/Models/Final_GLM/\"\n",
    "model_dir = os.path.join(final_glm_dir, \"Models\")  # Path to final models\n",
    "\n",
    "# Species list\n",
    "species_list = [\"Bufo bufo\", \"Rana temporaria\", \"Lissotriton helveticus\"]\n",
    "glm_versions = [\"Lasso\", \"Ridge\"]  # Regularised models\n",
    "\n",
    "# Dictionary to store models and metrics\n",
    "glm_models = {}\n",
    "glm_metrics = {}\n",
    "\n",
    "# Load GLM models and metrics\n",
    "for species in species_list:\n",
    "    glm_models[species] = {}\n",
    "    glm_metrics[species] = {}\n",
    "\n",
    "    for glm_type in glm_versions:\n",
    "        model_path = os.path.join(model_dir, f\"{species}_GLM_{glm_type}_Threshold_0.3_Model.pkl\")\n",
    "        metrics_path = os.path.join(final_glm_dir, f\"{species}_Threshold_0.3_Metrics.txt\")\n",
    "        \n",
    "        if os.path.exists(model_path):\n",
    "            glm_models[species][glm_type] = joblib.load(model_path)\n",
    "            print(f\"Loaded {glm_type} model for {species}\")\n",
    "        else:\n",
    "            print(f\"⚠️ Warning: Model not found for {species} - {glm_type}\")\n",
    "\n",
    "        if os.path.exists(metrics_path):\n",
    "            with open(metrics_path, \"r\") as f:\n",
    "                glm_metrics[species][glm_type] = f.read()\n",
    "            print(f\"Loaded metrics for {species} - {glm_type}\")\n",
    "        else:\n",
    "            print(f\"⚠️ Warning: Metrics file not found for {species} - {glm_type}\")\n",
    "\n",
    "print(\"✅ Final GLM models and metrics loaded successfully!\")\n"
   ]
  },
  {
   "cell_type": "markdown",
   "id": "68c3d492-c283-4793-abc6-ea9f9226c27e",
   "metadata": {},
   "source": [
    "### 2.2 Loading GAM Files"
   ]
  },
  {
   "cell_type": "code",
   "execution_count": 6,
   "id": "621ce645-d44e-4e10-be5b-ac3dbf3dea84",
   "metadata": {},
   "outputs": [
    {
     "name": "stdout",
     "output_type": "stream",
     "text": [
      " Loaded GAM model for Bufo bufo\n",
      " Loaded GAM metrics for Bufo bufo\n",
      " Loaded GAM model for Rana temporaria\n",
      " Loaded GAM metrics for Rana temporaria\n",
      " Loaded GAM model for Lissotriton helveticus\n",
      " Loaded GAM metrics for Lissotriton helveticus\n",
      "\n",
      "✅ Final GAM models and metrics loaded successfully!\n"
     ]
    }
   ],
   "source": [
    "import os\n",
    "import joblib\n",
    "import pandas as pd\n",
    "\n",
    "# Define base directory for final GAM models and metrics\n",
    "gam_results_dir = \"C:/GIS_Course/MScThesis-MaviSantarelli/results/Models/Final_GAM\"\n",
    "\n",
    "# Define species list (keeping spaces instead of converting to underscores)\n",
    "species_list = [\"Bufo bufo\", \"Rana temporaria\", \"Lissotriton helveticus\"]\n",
    "\n",
    "# Dictionary to store loaded models and metrics\n",
    "gam_models = {}\n",
    "gam_metrics = {}\n",
    "\n",
    "# Load models and metrics\n",
    "for species in species_list:\n",
    "    # Use original filenames without changing spaces to underscores\n",
    "    model_path = os.path.join(gam_results_dir, f\"{species}_GAM_Model_CV.pkl\")\n",
    "    metrics_path = os.path.join(gam_results_dir, f\"{species}_GAM_Test_Metrics.txt\")\n",
    "\n",
    "    # Load the model\n",
    "    if os.path.exists(model_path):\n",
    "        gam_models[species] = joblib.load(model_path)\n",
    "        print(f\" Loaded GAM model for {species}\")\n",
    "    else:\n",
    "        print(f\"⚠️ GAM model file missing for {species}: {model_path}\")\n",
    "\n",
    "    # Load the metrics\n",
    "    if os.path.exists(metrics_path):\n",
    "        with open(metrics_path, \"r\") as f:\n",
    "            gam_metrics[species] = f.read()\n",
    "        print(f\" Loaded GAM metrics for {species}\")\n",
    "    else:\n",
    "        print(f\"⚠️ GAM metrics file missing for {species}: {metrics_path}\")\n",
    "\n",
    "print(\"\\n✅ Final GAM models and metrics loaded successfully!\")\n"
   ]
  },
  {
   "cell_type": "markdown",
   "id": "8c5d6bda-2dea-4500-8b29-8f6980b710be",
   "metadata": {},
   "source": [
    "### 2.3 Loading RF Files"
   ]
  },
  {
   "cell_type": "code",
   "execution_count": 7,
   "id": "d183286d-1c15-4487-8009-434ee87fac69",
   "metadata": {},
   "outputs": [
    {
     "name": "stdout",
     "output_type": "stream",
     "text": [
      "Loading Random Forest model and metrics for Bufo_bufo...\n",
      "Loaded model for Bufo_bufo\n",
      "Loaded metrics for Bufo_bufo\n",
      "Loaded test predictions for Bufo_bufo\n",
      "Loading Random Forest model and metrics for Rana_temporaria...\n",
      "Loaded model for Rana_temporaria\n",
      "Loaded metrics for Rana_temporaria\n",
      "Loaded test predictions for Rana_temporaria\n",
      "Loading Random Forest model and metrics for Lissotriton_helveticus...\n",
      "Loaded model for Lissotriton_helveticus\n",
      "Loaded metrics for Lissotriton_helveticus\n",
      "Loaded test predictions for Lissotriton_helveticus\n",
      "\n",
      "✅ Random Forest models and metrics loaded successfully!\n"
     ]
    }
   ],
   "source": [
    "import os\n",
    "import joblib\n",
    "import pandas as pd\n",
    "\n",
    "# Define base directory where the models are stored\n",
    "base_output_dir = \"C:/GIS_Course/MScThesis-MaviSantarelli/results/Models/RandomForest\"\n",
    "\n",
    "# List of species to load models for\n",
    "species_list = [\"Bufo_bufo\", \"Rana_temporaria\", \"Lissotriton_helveticus\"]\n",
    "\n",
    "# Dictionary to store loaded models and metrics\n",
    "rf_models = {}\n",
    "rf_metrics = {}\n",
    "rf_predictions = {}\n",
    "\n",
    "for species in species_list:\n",
    "    species_dir = os.path.join(base_output_dir, species)\n",
    "    print(f\"Loading Random Forest model and metrics for {species}...\")\n",
    "    \n",
    "    # Load the final trained model\n",
    "    model_path = os.path.join(species_dir, \"RandomForest_Model.pkl\")\n",
    "    if os.path.exists(model_path):\n",
    "        rf_models[species] = joblib.load(model_path)\n",
    "        print(f\"Loaded model for {species}\")\n",
    "    else:\n",
    "        print(f\"⚠️ Model file missing for {species}: {model_path}\")\n",
    "    \n",
    "    # Load metrics\n",
    "    metrics_path = os.path.join(species_dir, \"RandomForest_Metrics.txt\")\n",
    "    if os.path.exists(metrics_path):\n",
    "        with open(metrics_path, \"r\") as f:\n",
    "            rf_metrics[species] = f.read()\n",
    "        print(f\"Loaded metrics for {species}\")\n",
    "    else:\n",
    "        print(f\"⚠️ Metrics file missing for {species}: {metrics_path}\")\n",
    "    \n",
    "    # Load test predictions\n",
    "    predictions_path = os.path.join(species_dir, \"Test_Predictions.csv\")\n",
    "    if os.path.exists(predictions_path):\n",
    "        rf_predictions[species] = pd.read_csv(predictions_path)\n",
    "        print(f\"Loaded test predictions for {species}\")\n",
    "    else:\n",
    "        print(f\"⚠️ Test predictions file missing for {species}: {predictions_path}\")\n",
    "\n",
    "print(\"\\n✅ Random Forest models and metrics loaded successfully!\")\n"
   ]
  },
  {
   "cell_type": "markdown",
   "id": "ef29f2fc-ade1-4e8e-9c9c-5c33cd059b98",
   "metadata": {},
   "source": [
    "### 2.4 Loading XGBoost Files"
   ]
  },
  {
   "cell_type": "code",
   "execution_count": 8,
   "id": "5524e2d5-eae6-448b-aad8-d356b08f441f",
   "metadata": {},
   "outputs": [
    {
     "name": "stdout",
     "output_type": "stream",
     "text": [
      "Loading XGBoost model and metrics for Bufo_bufo...\n",
      "  Loaded model for Bufo_bufo\n",
      "  Loaded metrics for Bufo_bufo\n",
      "  Loaded test predictions for Bufo_bufo\n",
      "Loading XGBoost model and metrics for Rana_temporaria...\n",
      "  Loaded model for Rana_temporaria\n",
      "  Loaded metrics for Rana_temporaria\n",
      "  Loaded test predictions for Rana_temporaria\n",
      "Loading XGBoost model and metrics for Lissotriton_helveticus...\n",
      "  Loaded model for Lissotriton_helveticus\n",
      "  Loaded metrics for Lissotriton_helveticus\n",
      "  Loaded test predictions for Lissotriton_helveticus\n",
      "\n",
      "✅ XGBoost models and metrics loaded successfully!\n"
     ]
    }
   ],
   "source": [
    "import os\n",
    "import joblib\n",
    "import numpy as np\n",
    "import pandas as pd\n",
    "import matplotlib.pyplot as plt\n",
    "\n",
    "# Base directory for XGBoost models\n",
    "base_output_dir = \"C:/GIS_Course/MScThesis-MaviSantarelli/results/Models\"\n",
    "xgb_output_dir = os.path.join(base_output_dir, \"XGBoost\")\n",
    "\n",
    "# List of species\n",
    "species_list = [\"Bufo_bufo\", \"Rana_temporaria\", \"Lissotriton_helveticus\"]\n",
    "\n",
    "# Dictionary to store loaded models and metrics\n",
    "xgb_models = {}\n",
    "xgb_metrics = {}\n",
    "xgb_test_predictions = {}\n",
    "\n",
    "# Load models, metrics, and test predictions\n",
    "for species in species_list:\n",
    "    print(f\"Loading XGBoost model and metrics for {species}...\")\n",
    "\n",
    "    species_output_dir = os.path.join(xgb_output_dir, species)\n",
    "    \n",
    "    # Load final model\n",
    "    model_path = os.path.join(species_output_dir, \"XGBoost_Model.pkl\")\n",
    "    xgb_models[species] = joblib.load(model_path)\n",
    "    print(f\"  Loaded model for {species}\")\n",
    "\n",
    "    # Load metrics\n",
    "    metrics_path = os.path.join(species_output_dir, \"XGBoost_Metrics.txt\")\n",
    "    with open(metrics_path, \"r\") as f:\n",
    "        metrics = f.readlines()\n",
    "    xgb_metrics[species] = {line.split(\":\")[0].strip(): float(line.split(\":\")[1].strip()) for line in metrics}\n",
    "    print(f\"  Loaded metrics for {species}\")\n",
    "\n",
    "    # Load test predictions\n",
    "    test_predictions_path = os.path.join(species_output_dir, \"Aggregated_Test_Predictions.csv\")\n",
    "    xgb_test_predictions[species] = pd.read_csv(test_predictions_path)\n",
    "    print(f\"  Loaded test predictions for {species}\")\n",
    "\n",
    "print(\"\\n✅ XGBoost models and metrics loaded successfully!\")\n"
   ]
  },
  {
   "cell_type": "markdown",
   "id": "1939a7c4-89cf-4531-bc6d-6cddf975eabc",
   "metadata": {},
   "source": [
    "### 3.5 Loading Maxent Files  "
   ]
  },
  {
   "cell_type": "code",
   "execution_count": 11,
   "id": "fc9a0af5-123c-4fa2-9512-17c1b09da41a",
   "metadata": {},
   "outputs": [
    {
     "name": "stdout",
     "output_type": "stream",
     "text": [
      "✅ Found: C:\\GIS_Course\\MScThesis-MaviSantarelli\\results\\Models\\Maxent\\Maxent_Bufo_bufo_TestPredictions.csv\n",
      "✅ Found: C:\\GIS_Course\\MScThesis-MaviSantarelli\\results\\Models\\Maxent\\Maxent_Rana_temporaria_TestPredictions.csv\n",
      "✅ Found: C:\\GIS_Course\\MScThesis-MaviSantarelli\\results\\Models\\Maxent\\Maxent_Lissotriton_helveticus_TestPredictions.csv\n",
      "\n",
      "✅ MaxEnt test predictions loaded successfully!\n"
     ]
    }
   ],
   "source": [
    "import os\n",
    "import pandas as pd\n",
    "\n",
    "# Define the correct directory path\n",
    "base_output_dir = r\"C:\\GIS_Course\\MScThesis-MaviSantarelli\\results\\Models\\Maxent\"\n",
    "\n",
    "# Define file paths using os.path.join\n",
    "maxent_files = {\n",
    "    \"Bufo bufo\": {\n",
    "        \"test_predictions\": os.path.join(base_output_dir, \"Maxent_Bufo_bufo_TestPredictions.csv\"),\n",
    "        \"model\": os.path.join(base_output_dir, \"Maxent_Bufo_bufo.rds\"),\n",
    "    },\n",
    "    \"Rana temporaria\": {\n",
    "        \"test_predictions\": os.path.join(base_output_dir, \"Maxent_Rana_temporaria_TestPredictions.csv\"),\n",
    "        \"model\": os.path.join(base_output_dir, \"Maxent_Rana_temporaria.rds\"),\n",
    "    },\n",
    "    \"Lissotriton helveticus\": {\n",
    "        \"test_predictions\": os.path.join(base_output_dir, \"Maxent_Lissotriton_helveticus_TestPredictions.csv\"),\n",
    "        \"model\": os.path.join(base_output_dir, \"Maxent_Lissotriton_helveticus.rds\"),\n",
    "    },\n",
    "}\n",
    "\n",
    "# Check if files exist before loading\n",
    "for species, paths in maxent_files.items():\n",
    "    if os.path.exists(paths[\"test_predictions\"]):\n",
    "        print(f\"✅ Found: {paths['test_predictions']}\")\n",
    "    else:\n",
    "        print(f\"❌ Missing: {paths['test_predictions']}\")\n",
    "\n",
    "# Now try loading the files\n",
    "maxent_test_predictions = {}\n",
    "for species, paths in maxent_files.items():\n",
    "    maxent_test_predictions[species] = pd.read_csv(paths[\"test_predictions\"])\n",
    "\n",
    "print(\"\\n✅ MaxEnt test predictions loaded successfully!\")"
   ]
  },
  {
   "cell_type": "code",
   "execution_count": 12,
   "id": "b1aea8a9-cdd4-4671-997e-9fb6a80548f7",
   "metadata": {},
   "outputs": [
    {
     "name": "stdout",
     "output_type": "stream",
     "text": [
      "✅ MaxEnt model evaluation loaded successfully!\n"
     ]
    }
   ],
   "source": [
    "maxent_evaluation_path = os.path.normpath(r\"C:\\GIS_Course\\MScThesis-MaviSantarelli\\results\\Models\\Maxent\\Maxent_Model_Evaluation.csv\")\n",
    "maxent_evaluation_df = pd.read_csv(maxent_evaluation_path)\n",
    "print(\"✅ MaxEnt model evaluation loaded successfully!\")\n"
   ]
  },
  {
   "cell_type": "markdown",
   "id": "dcdb2005-6db7-4ae7-95e5-0434965cdef9",
   "metadata": {},
   "source": [
    "## 3. Model Performance Evaluation\n",
    "\n",
    "### **Metrics used in Evaluation**:\n",
    "\n",
    "- **Area Under the Receiver Operating Characteristic Curve (AUC-ROC)**: Measures the ability of the model to distinguish between classes.\n",
    "- **Confusion Matrix:** Provides a summary of prediction results, showing true positives, true negatives, false positives, and false negatives.\n",
    "- **Precision, Recall, and F1-Score:** Evaluate the accuracy of positive predictions, the ability to find all positive instances, and the balance between precision and recall, respectively.\n",
    "\n",
    "### **Rationale:**\n",
    "These metrics offer a comprehensive view of each model's performance, highlighting different aspects of predictive accuracy and error rates."
   ]
  },
  {
   "cell_type": "markdown",
   "id": "057fa367-10f2-4a39-8017-b20e0a90b7a5",
   "metadata": {},
   "source": [
    "## 4. Visualisation of Model Performance\n",
    "\n",
    "### **Steps:**\n",
    "#### 1. Plot ROC Curves:\n",
    "- Visualise the trade-off between true positive and false positive rates for each model.\n",
    "\n",
    "#### 2. Compare Performance Metrics:\n",
    "- Create bar plots or tables to compare precision, recall, and F1-scores across models.\n",
    "\n",
    "### **Rationale:**\n",
    "Visual representations facilitate intuitive comparisons and help identify models that perform well across various metrics."
   ]
  },
  {
   "cell_type": "markdown",
   "id": "316f7b37-8f8d-4fc9-8c24-7d4484ff7f5c",
   "metadata": {},
   "source": [
    "## 5. Ensemble Modelling\n",
    "\n",
    "### **Techniques to Explore:**\n",
    "\n",
    "- **Weighted Averaging:** Combine model predictions by assigning weights proportional to their performance metrics.\n",
    "- **Majority Voting:** For classification tasks, predict the class that receives the majority vote from individual models.\n",
    "\n",
    "### **Rationale:**\n",
    "Ensemble methods aim to harness the strengths of multiple models, often resulting in improved predictive performance and reduced variance (Meller et al., 2014). "
   ]
  },
  {
   "cell_type": "markdown",
   "id": "c697bb4d-97b0-4950-bf63-555a6d6a25b3",
   "metadata": {},
   "source": [
    "## 6. Evaluation of Ensemble Models\n",
    "\n",
    "### **Steps:**\n",
    "- **Compute Performance Metrics:** Assess the ensemble models using the same metrics as individual models (AUC-ROC, precision, recall, F1-score).\n",
    "- **Compare to Individual Models:** Determine if the ensemble models outperform individual models.\n",
    "\n",
    "### **Rationale:**\n",
    "Evaluating ensemble models against individual models helps in understanding the added value of ensembling techniques."
   ]
  },
  {
   "cell_type": "markdown",
   "id": "2399706d-5476-43f6-9908-2dd9035ccfa2",
   "metadata": {},
   "source": [
    "## 7. Conclusion and Next Steps\n"
   ]
  },
  {
   "cell_type": "markdown",
   "id": "ae00b7bc-2116-4412-ac17-bb14b144d247",
   "metadata": {},
   "source": [
    "## References\n",
    "\n",
    "Meller, L., Cabeza, M., Pironon, S., Barbet-Massin, M., Maiorano, L., Georges, D., & Thuiller, W. (2014). Ensemble distribution models in conservation prioritization: From consensus predictions to consensus reserve networks. *Diversity and Distributions*, 20(3), 309–321. https://doi.org/10.1111/ddi.12162"
   ]
  },
  {
   "cell_type": "code",
   "execution_count": null,
   "id": "1acf806f-9f4e-403d-b7d2-acef2ff80ad9",
   "metadata": {},
   "outputs": [],
   "source": []
  }
 ],
 "metadata": {
  "kernelspec": {
   "display_name": "Python (MscThesis)",
   "language": "python",
   "name": "mscthesis"
  },
  "language_info": {
   "codemirror_mode": {
    "name": "ipython",
    "version": 3
   },
   "file_extension": ".py",
   "mimetype": "text/x-python",
   "name": "python",
   "nbconvert_exporter": "python",
   "pygments_lexer": "ipython3",
   "version": "3.9.19"
  }
 },
 "nbformat": 4,
 "nbformat_minor": 5
}
