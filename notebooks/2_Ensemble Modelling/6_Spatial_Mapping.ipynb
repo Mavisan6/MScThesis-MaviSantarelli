{
 "cells": [
  {
   "cell_type": "markdown",
   "id": "08f77a85-70cc-4813-a5a6-ea12695ec7ea",
   "metadata": {},
   "source": [
    "# Spatial Mapping\n",
    "\n",
    "## Table of Contents\n",
    "\n",
    "1. [Introduction](#1.-Introduction)\n",
    "2. [Convert Model Predictions to Spatial Data](#2.-Convert-Model-Predictions-to-Spatial-Data)\n",
    "3. [Validate the Suitability Maps](#3.-Validate-the-Suitability-Maps)"
   ]
  },
  {
   "cell_type": "markdown",
   "id": "e2ea54eb-5696-4af2-9716-65e0d51397c6",
   "metadata": {},
   "source": [
    "## 1. Introduction\n",
    "\n",
    "The final stage of species distribution modelling involves translating model outputs into spatially explicit predictions for visualization and analysis in Geographic Information Systems (GIS). This step is crucial for identifying suitable habitats, informing conservation planning, and integrating results into decision-making frameworks.\n",
    "\n",
    "Species distribution models (SDMs) generate probability estimates of species presence based on environmental predictors. These probabilities must be converted into spatially explicit rasters or vector layers that align with the study area’s geographic coordinates. The transition from tabular predictions to spatial datasets ensures that results can be integrated with other environmental data, such as land cover, habitat connectivity, and conservation priorities.\n",
    "\n",
    "The goal is to predict species suitability across a continuous landscape using environmental predictors. This is typically achieved by applying trained models to these predictors to generate continuous suitability maps.\n",
    "\n",
    "### Interpolation vs. Model Application:\n",
    "\n",
    "1. **Model Application**: After training the models (e.g., Random Forest, XGBoost, MaxEnt) using occurrence data and environmental predictors, these trained models can be applied to the same set of predictors across the entire study area. This process generates continuous suitability values for each location, resulting in a comprehensive suitability map.\n",
    "\n",
    "2. **Interpolation:** Interpolation methods, such as kriging, estimate values at unsampled locations based on the spatial configuration of sampled points. While interpolation can be useful in certain contexts, it doesn't leverage the relationship between species occurrences and environmental predictors as effectively as direct model application."
   ]
  },
  {
   "cell_type": "markdown",
   "id": "b21c5f1c-978e-4fc6-bf7e-5505ef351a37",
   "metadata": {},
   "source": [
    "## 2. Create Suitability Maps\n",
    "\n",
    "To create continuous suitability maps we will:\n",
    "1. **Prepare Environmental Predictors**: Ensure all environmental predictor rasters are aligned (same resolution, extent, and coordinate system).\n",
    "2. **Apply Trained Models**: Use the trained ensemble model to predict suitability values across the entire study area by applying it to the predictor rasters.\n",
    "3. **Generate Suitability Maps**: The output will be continuous suitability maps indicating the predicted probability of species presence for each location.\n",
    "\n",
    "### **Load Final Suitability Predictions**"
   ]
  },
  {
   "cell_type": "code",
   "execution_count": 1,
   "id": "095b48ee-2a2a-44b3-af7d-c09314dccbf9",
   "metadata": {},
   "outputs": [
    {
     "name": "stdout",
     "output_type": "stream",
     "text": [
      "✅ Loaded predictions for Bufo bufo\n",
      "✅ Loaded predictions for Rana temporaria\n",
      "✅ Loaded predictions for Lissotriton helveticus\n"
     ]
    }
   ],
   "source": [
    "import os\n",
    "import pandas as pd\n",
    "import geopandas as gpd\n",
    "\n",
    "# Define paths\n",
    "prediction_dir = r\"C:\\GIS_Course\\MScThesis-MaviSantarelli\\results\\Models\\Final_Binary\"\n",
    "species_list = [\"Bufo bufo\", \"Rana temporaria\", \"Lissotriton helveticus\"]\n",
    "\n",
    "# Load prediction files\n",
    "predictions = {}\n",
    "for species in species_list:\n",
    "    file_path = os.path.join(prediction_dir, f\"{species}_Final_Binary_Predictions.csv\")\n",
    "    if os.path.exists(file_path):\n",
    "        predictions[species] = pd.read_csv(file_path)\n",
    "        print(f\"✅ Loaded predictions for {species}\")\n",
    "    else:\n",
    "        print(f\"⚠️ Missing predictions for {species}\")\n"
   ]
  },
  {
   "cell_type": "markdown",
   "id": "8206ecb9-693a-49db-b12c-8418690810e5",
   "metadata": {},
   "source": [
    "### **Stack Predictors into a Multi-Band Raster**\n",
    "\n",
    "### Check Raster Shapes Before Stacking"
   ]
  },
  {
   "cell_type": "code",
   "execution_count": 3,
   "id": "a2c14311-7fa9-4bc5-aad0-edda175b7a98",
   "metadata": {},
   "outputs": [
    {
     "name": "stdout",
     "output_type": "stream",
     "text": [
      "C:/GIS_Course/MScThesis-MaviSantarelli/data/Predictors/Input/Reversed/Building_Density_Reversed.tif: (5971, 6369), Resolution: (30.0, 30.0), CRS: EPSG:27700\n",
      "C:/GIS_Course/MScThesis-MaviSantarelli/data/Predictors/Input/Reversed/DistWater_Reversed.tif: (5971, 6369), Resolution: (30.0, 30.0), CRS: EPSG:27700\n",
      "C:/GIS_Course/MScThesis-MaviSantarelli/data/Predictors/Input/Reversed/NOx_Stand_Reversed.tif: (5971, 6369), Resolution: (30.0, 30.0), CRS: EPSG:27700\n",
      "C:/GIS_Course/MScThesis-MaviSantarelli/data/Predictors/Input/Reversed/RGS_Reversed.tif: (5971, 6369), Resolution: (30.0, 30.0), CRS: EPSG:27700\n",
      "C:/GIS_Course/MScThesis-MaviSantarelli/data/Predictors/Input/Reversed/Runoff_Coefficient_Standardised_Reversed.tif: (5970, 6369), Resolution: (30.0, 30.0), CRS: EPSG:27700\n",
      "C:/GIS_Course/MScThesis-MaviSantarelli/data/Predictors/Input/Reversed/Slope_Proj_Reversed.tif: (5971, 6369), Resolution: (30.0, 30.0), CRS: EPSG:27700\n",
      "C:/GIS_Course/MScThesis-MaviSantarelli/data/Predictors/Input/Reversed/SoilMoisture_32bit_Reversed.tif: (5972, 6370), Resolution: (30.0, 30.0), CRS: EPSG:27700\n",
      "C:/GIS_Course/MScThesis-MaviSantarelli/data/Predictors/Input/Reversed/Traffic_Reversed.tif: (5971, 6369), Resolution: (30.0, 30.0), CRS: EPSG:27700\n",
      "C:/GIS_Course/MScThesis-MaviSantarelli/data/Predictors/Input/Reversed/Wood_Resample_Reversed.tif: (5971, 6369), Resolution: (30.0, 30.0), CRS: EPSG:27700\n",
      "C:/GIS_Course/MScThesis-MaviSantarelli/data/Predictors/Input/Grass_Stand.tif: (5971, 6369), Resolution: (30.0, 30.0), CRS: EPSG:27700\n",
      "C:/GIS_Course/MScThesis-MaviSantarelli/data/Predictors/Input/NDVI_median.tif: (5971, 6369), Resolution: (30.0, 30.0), CRS: EPSG:27700\n",
      "C:/GIS_Course/MScThesis-MaviSantarelli/data/Predictors/Input/NDVI_StDev.tif: (5973, 6371), Resolution: (30.0, 30.0), CRS: EPSG:27700\n",
      "C:/GIS_Course/MScThesis-MaviSantarelli/data/Predictors/Input/VegHeight.tif: (5971, 6369), Resolution: (30.0, 30.0), CRS: EPSG:27700\n"
     ]
    }
   ],
   "source": [
    "import rasterio\n",
    "\n",
    "# Define predictor raster file paths\n",
    "predictor_files = [\n",
    "    \"C:/GIS_Course/MScThesis-MaviSantarelli/data/Predictors/Input/Reversed/Building_Density_Reversed.tif\",\n",
    "    \"C:/GIS_Course/MScThesis-MaviSantarelli/data/Predictors/Input/Reversed/DistWater_Reversed.tif\",\n",
    "    \"C:/GIS_Course/MScThesis-MaviSantarelli/data/Predictors/Input/Reversed/NOx_Stand_Reversed.tif\",\n",
    "    \"C:/GIS_Course/MScThesis-MaviSantarelli/data/Predictors/Input/Reversed/RGS_Reversed.tif\",\n",
    "    \"C:/GIS_Course/MScThesis-MaviSantarelli/data/Predictors/Input/Reversed/Runoff_Coefficient_Standardised_Reversed.tif\",\n",
    "    \"C:/GIS_Course/MScThesis-MaviSantarelli/data/Predictors/Input/Reversed/Slope_Proj_Reversed.tif\",\n",
    "    \"C:/GIS_Course/MScThesis-MaviSantarelli/data/Predictors/Input/Reversed/SoilMoisture_32bit_Reversed.tif\",\n",
    "    \"C:/GIS_Course/MScThesis-MaviSantarelli/data/Predictors/Input/Reversed/Traffic_Reversed.tif\",\n",
    "    \"C:/GIS_Course/MScThesis-MaviSantarelli/data/Predictors/Input/Reversed/Wood_Resample_Reversed.tif\",\n",
    "    \"C:/GIS_Course/MScThesis-MaviSantarelli/data/Predictors/Input/Grass_Stand.tif\",\n",
    "    \"C:/GIS_Course/MScThesis-MaviSantarelli/data/Predictors/Input/NDVI_median.tif\",\n",
    "    \"C:/GIS_Course/MScThesis-MaviSantarelli/data/Predictors/Input/NDVI_StDev.tif\",\n",
    "    \"C:/GIS_Course/MScThesis-MaviSantarelli/data/Predictors/Input/VegHeight.tif\"\n",
    "]\n",
    "\n",
    "# Check raster shapes\n",
    "for file in predictor_files:\n",
    "    with rasterio.open(file) as src:\n",
    "        print(f\"{file}: {src.shape}, Resolution: {src.res}, CRS: {src.crs}\")\n"
   ]
  },
  {
   "cell_type": "markdown",
   "id": "dbd6a844-4dd4-421c-8e23-dabd669c9dfc",
   "metadata": {},
   "source": [
    "### Reproject and Resample to Match a Reference Raster"
   ]
  },
  {
   "cell_type": "code",
   "execution_count": 4,
   "id": "374f1ab7-f318-450f-90b9-0543edbbbc9f",
   "metadata": {},
   "outputs": [
    {
     "name": "stdout",
     "output_type": "stream",
     "text": [
      "✅ C:/GIS_Course/MScThesis-MaviSantarelli/data/Predictors/Input/Reversed/Building_Density_Reversed.tif already matches reference raster.\n",
      "✅ C:/GIS_Course/MScThesis-MaviSantarelli/data/Predictors/Input/Reversed/DistWater_Reversed.tif already matches reference raster.\n",
      "✅ C:/GIS_Course/MScThesis-MaviSantarelli/data/Predictors/Input/Reversed/NOx_Stand_Reversed.tif already matches reference raster.\n",
      "✅ C:/GIS_Course/MScThesis-MaviSantarelli/data/Predictors/Input/Reversed/RGS_Reversed.tif already matches reference raster.\n",
      "🔄 Resampling C:/GIS_Course/MScThesis-MaviSantarelli/data/Predictors/Input/Reversed/Runoff_Coefficient_Standardised_Reversed.tif...\n",
      "✅ Resampled and saved: C:/GIS_Course/MScThesis-MaviSantarelli/data/Predictors/Resampled\\Runoff_Coefficient_Standardised_Reversed.tif\n",
      "✅ C:/GIS_Course/MScThesis-MaviSantarelli/data/Predictors/Input/Reversed/Slope_Proj_Reversed.tif already matches reference raster.\n",
      "🔄 Resampling C:/GIS_Course/MScThesis-MaviSantarelli/data/Predictors/Input/Reversed/SoilMoisture_32bit_Reversed.tif...\n",
      "✅ Resampled and saved: C:/GIS_Course/MScThesis-MaviSantarelli/data/Predictors/Resampled\\SoilMoisture_32bit_Reversed.tif\n",
      "✅ C:/GIS_Course/MScThesis-MaviSantarelli/data/Predictors/Input/Reversed/Traffic_Reversed.tif already matches reference raster.\n",
      "✅ C:/GIS_Course/MScThesis-MaviSantarelli/data/Predictors/Input/Reversed/Wood_Resample_Reversed.tif already matches reference raster.\n",
      "✅ C:/GIS_Course/MScThesis-MaviSantarelli/data/Predictors/Input/Grass_Stand.tif already matches reference raster.\n",
      "✅ C:/GIS_Course/MScThesis-MaviSantarelli/data/Predictors/Input/NDVI_median.tif already matches reference raster.\n",
      "🔄 Resampling C:/GIS_Course/MScThesis-MaviSantarelli/data/Predictors/Input/NDVI_StDev.tif...\n",
      "✅ Resampled and saved: C:/GIS_Course/MScThesis-MaviSantarelli/data/Predictors/Resampled\\NDVI_StDev.tif\n",
      "✅ C:/GIS_Course/MScThesis-MaviSantarelli/data/Predictors/Input/VegHeight.tif already matches reference raster.\n",
      "\n",
      "🚀 Resampling complete! Use these resampled rasters for stacking.\n"
     ]
    }
   ],
   "source": [
    "import rasterio\n",
    "from rasterio.warp import calculate_default_transform, reproject, Resampling\n",
    "import os\n",
    "\n",
    "# Choose a reference raster (first predictor)\n",
    "reference_raster = predictor_files[0]\n",
    "\n",
    "# Define output directory for resampled rasters\n",
    "output_dir = \"C:/GIS_Course/MScThesis-MaviSantarelli/data/Predictors/Resampled\"\n",
    "os.makedirs(output_dir, exist_ok=True)\n",
    "\n",
    "# Open reference raster\n",
    "with rasterio.open(reference_raster) as ref_src:\n",
    "    ref_transform = ref_src.transform\n",
    "    ref_width = ref_src.width\n",
    "    ref_height = ref_src.height\n",
    "    ref_crs = ref_src.crs\n",
    "\n",
    "# Resample and reproject other rasters to match reference\n",
    "for file in predictor_files:\n",
    "    output_file = os.path.join(output_dir, os.path.basename(file))\n",
    "\n",
    "    with rasterio.open(file) as src:\n",
    "        if (src.shape != (ref_height, ref_width)) or (src.crs != ref_crs):\n",
    "            print(f\"🔄 Resampling {file}...\")\n",
    "\n",
    "            # Calculate new transform and dimensions\n",
    "            transform, width, height = calculate_default_transform(\n",
    "                src.crs, ref_crs, src.width, src.height, *src.bounds\n",
    "            )\n",
    "\n",
    "            # Update metadata\n",
    "            new_meta = src.meta.copy()\n",
    "            new_meta.update({\n",
    "                \"crs\": ref_crs,\n",
    "                \"transform\": transform,\n",
    "                \"width\": ref_width,\n",
    "                \"height\": ref_height\n",
    "            })\n",
    "\n",
    "            # Create resampled raster\n",
    "            with rasterio.open(output_file, \"w\", **new_meta) as dst:\n",
    "                for i in range(1, src.count + 1):\n",
    "                    reproject(\n",
    "                        source=rasterio.band(src, i),\n",
    "                        destination=rasterio.band(dst, i),\n",
    "                        src_transform=src.transform,\n",
    "                        src_crs=src.crs,\n",
    "                        dst_transform=transform,\n",
    "                        dst_crs=ref_crs,\n",
    "                        resampling=Resampling.bilinear  # Use bilinear resampling\n",
    "                    )\n",
    "\n",
    "            print(f\"✅ Resampled and saved: {output_file}\")\n",
    "        else:\n",
    "            print(f\"✅ {file} already matches reference raster.\")\n",
    "\n",
    "print(\"\\n🚀 Resampling complete! Use these resampled rasters for stacking.\")\n"
   ]
  },
  {
   "cell_type": "markdown",
   "id": "caeeb2e2-61e4-4b65-88b5-3b9ca18f6dec",
   "metadata": {},
   "source": [
    "### Create a List of the Correct File Paths"
   ]
  },
  {
   "cell_type": "code",
   "execution_count": 6,
   "id": "c93a709e-8f5d-45b9-ae70-e8e05fb6f79c",
   "metadata": {},
   "outputs": [
    {
     "name": "stdout",
     "output_type": "stream",
     "text": [
      "✅ Using: C:/GIS_Course/MScThesis-MaviSantarelli/data/Predictors/Input/Reversed/Building_Density_Reversed.tif\n",
      "✅ Using: C:/GIS_Course/MScThesis-MaviSantarelli/data/Predictors/Input/Reversed/DistWater_Reversed.tif\n",
      "✅ Using: C:/GIS_Course/MScThesis-MaviSantarelli/data/Predictors/Input/Reversed/NOx_Stand_Reversed.tif\n",
      "✅ Using: C:/GIS_Course/MScThesis-MaviSantarelli/data/Predictors/Input/Reversed/RGS_Reversed.tif\n",
      "✅ Using: C:/GIS_Course/MScThesis-MaviSantarelli/data/Predictors/Resampled\\Runoff_Coefficient_Standardised_Reversed.tif\n",
      "✅ Using: C:/GIS_Course/MScThesis-MaviSantarelli/data/Predictors/Input/Reversed/Slope_Proj_Reversed.tif\n",
      "✅ Using: C:/GIS_Course/MScThesis-MaviSantarelli/data/Predictors/Resampled\\SoilMoisture_32bit_Reversed.tif\n",
      "✅ Using: C:/GIS_Course/MScThesis-MaviSantarelli/data/Predictors/Input/Reversed/Traffic_Reversed.tif\n",
      "✅ Using: C:/GIS_Course/MScThesis-MaviSantarelli/data/Predictors/Input/Reversed/Wood_Resample_Reversed.tif\n",
      "✅ Using: C:/GIS_Course/MScThesis-MaviSantarelli/data/Predictors/Input/Grass_Stand.tif\n",
      "✅ Using: C:/GIS_Course/MScThesis-MaviSantarelli/data/Predictors/Input/NDVI_median.tif\n",
      "✅ Using: C:/GIS_Course/MScThesis-MaviSantarelli/data/Predictors/Resampled\\NDVI_StDev.tif\n",
      "✅ Using: C:/GIS_Course/MScThesis-MaviSantarelli/data/Predictors/Input/VegHeight.tif\n"
     ]
    }
   ],
   "source": [
    "import os\n",
    "\n",
    "# Define original predictor file paths\n",
    "original_predictor_files = [\n",
    "    \"C:/GIS_Course/MScThesis-MaviSantarelli/data/Predictors/Input/Reversed/Building_Density_Reversed.tif\",\n",
    "    \"C:/GIS_Course/MScThesis-MaviSantarelli/data/Predictors/Input/Reversed/DistWater_Reversed.tif\",\n",
    "    \"C:/GIS_Course/MScThesis-MaviSantarelli/data/Predictors/Input/Reversed/NOx_Stand_Reversed.tif\",\n",
    "    \"C:/GIS_Course/MScThesis-MaviSantarelli/data/Predictors/Input/Reversed/RGS_Reversed.tif\",\n",
    "    \"C:/GIS_Course/MScThesis-MaviSantarelli/data/Predictors/Input/Reversed/Runoff_Coefficient_Standardised_Reversed.tif\",\n",
    "    \"C:/GIS_Course/MScThesis-MaviSantarelli/data/Predictors/Input/Reversed/Slope_Proj_Reversed.tif\",\n",
    "    \"C:/GIS_Course/MScThesis-MaviSantarelli/data/Predictors/Input/Reversed/SoilMoisture_32bit_Reversed.tif\",\n",
    "    \"C:/GIS_Course/MScThesis-MaviSantarelli/data/Predictors/Input/Reversed/Traffic_Reversed.tif\",\n",
    "    \"C:/GIS_Course/MScThesis-MaviSantarelli/data/Predictors/Input/Reversed/Wood_Resample_Reversed.tif\",\n",
    "    \"C:/GIS_Course/MScThesis-MaviSantarelli/data/Predictors/Input/Grass_Stand.tif\",\n",
    "    \"C:/GIS_Course/MScThesis-MaviSantarelli/data/Predictors/Input/NDVI_median.tif\",\n",
    "    \"C:/GIS_Course/MScThesis-MaviSantarelli/data/Predictors/Input/NDVI_StDev.tif\",\n",
    "    \"C:/GIS_Course/MScThesis-MaviSantarelli/data/Predictors/Input/VegHeight.tif\"\n",
    "]\n",
    "\n",
    "# Define resampled directory\n",
    "resampled_dir = \"C:/GIS_Course/MScThesis-MaviSantarelli/data/Predictors/Resampled\"\n",
    "\n",
    "# Generate final paths: use resampled files if they exist, otherwise use original\n",
    "final_predictor_files = []\n",
    "for file in original_predictor_files:\n",
    "    resampled_path = os.path.join(resampled_dir, os.path.basename(file))\n",
    "    \n",
    "    if os.path.exists(resampled_path):  # Use resampled version if available\n",
    "        final_predictor_files.append(resampled_path)\n",
    "    else:  # Use original file\n",
    "        final_predictor_files.append(file)\n",
    "\n",
    "# Print final list to check\n",
    "for file in final_predictor_files:\n",
    "    print(f\"✅ Using: {file}\")\n"
   ]
  },
  {
   "cell_type": "markdown",
   "id": "6f1162d1-bfcf-49ff-ab72-7d75c0ffcc8a",
   "metadata": {},
   "source": [
    "### Stack Resampled Rasters"
   ]
  },
  {
   "cell_type": "code",
   "execution_count": 11,
   "id": "0ef72ca2-956c-4c6a-ad28-300456d10b84",
   "metadata": {},
   "outputs": [
    {
     "name": "stdout",
     "output_type": "stream",
     "text": [
      "✅ Stacked raster shape: (13, 5971, 6369)\n",
      "✅ Stacked raster saved at: C:\\GIS_Course\\MScThesis-MaviSantarelli\\data\\Predictors\\Stacked_Predictors.tif\n"
     ]
    }
   ],
   "source": [
    "import rasterio\n",
    "import numpy as np\n",
    "\n",
    "# Read and stack all predictors\n",
    "stacked_data = []\n",
    "meta = None\n",
    "\n",
    "for i, file in enumerate(final_predictor_files):\n",
    "    with rasterio.open(file) as src:\n",
    "        if meta is None:\n",
    "            meta = src.meta.copy()  # Save metadata from first raster\n",
    "        data = src.read(1)  # Read the first band\n",
    "        stacked_data.append(data)\n",
    "\n",
    "# Convert to numpy array\n",
    "stacked_array = np.stack(stacked_data, axis=0)\n",
    "\n",
    "# Check stacked raster shape\n",
    "print(f\"✅ Stacked raster shape: {stacked_array.shape}\")\n",
    "\n",
    "# Save the stacked raster\n",
    "meta.update(count=len(stacked_data), dtype=rasterio.float32)\n",
    "\n",
    "with rasterio.open(stacked_raster_path, \"w\", **meta) as dst:\n",
    "    dst.write(stacked_array.astype(rasterio.float32))\n",
    "\n",
    "print(f\"✅ Stacked raster saved at: {stacked_raster_path}\")\n"
   ]
  },
  {
   "cell_type": "markdown",
   "id": "b9c78b08-2250-45d5-9501-c6d6ce9163e1",
   "metadata": {},
   "source": [
    "### **Convert Raster to Model Input Format**"
   ]
  },
  {
   "cell_type": "code",
   "execution_count": 8,
   "id": "dc449bc3-00e7-4a99-9b12-80293260558b",
   "metadata": {},
   "outputs": [
    {
     "name": "stdout",
     "output_type": "stream",
     "text": [
      "✅ Predictor DataFrame Shape: (38029299, 13)\n",
      "🔍 Missing Values:\n",
      "Predictor_1     0\n",
      "Predictor_2     0\n",
      "Predictor_3     0\n",
      "Predictor_4     0\n",
      "Predictor_5     0\n",
      "Predictor_6     0\n",
      "Predictor_7     0\n",
      "Predictor_8     0\n",
      "Predictor_9     0\n",
      "Predictor_10    0\n",
      "Predictor_11    0\n",
      "Predictor_12    0\n",
      "Predictor_13    0\n",
      "dtype: int64\n",
      "✅ Cleaned Predictor DataFrame Shape: (38029299, 13)\n"
     ]
    }
   ],
   "source": [
    "import pandas as pd\n",
    "\n",
    "# Reshape raster stack into a 2D table (num_pixels, num_predictors)\n",
    "num_bands, height, width = stacked_array.shape\n",
    "reshaped_array = stacked_array.reshape(num_bands, -1).T  # Transpose to (num_pixels, num_predictors)\n",
    "\n",
    "# Convert to DataFrame\n",
    "predictor_df = pd.DataFrame(reshaped_array, columns=[f\"Predictor_{i+1}\" for i in range(num_bands)])\n",
    "\n",
    "# Check for missing values\n",
    "print(f\"✅ Predictor DataFrame Shape: {predictor_df.shape}\")\n",
    "print(f\"🔍 Missing Values:\\n{predictor_df.isnull().sum()}\")\n",
    "\n",
    "# Drop rows with NaN values (if any)\n",
    "predictor_df = predictor_df.dropna().reset_index(drop=True)\n",
    "print(f\"✅ Cleaned Predictor DataFrame Shape: {predictor_df.shape}\")\n"
   ]
  },
  {
   "cell_type": "markdown",
   "id": "4c2787d6-72e2-4dd3-9bc4-de00fcb9db74",
   "metadata": {},
   "source": [
    "### **Apply Ensemble Model to Generate Suitability Scores**"
   ]
  },
  {
   "cell_type": "code",
   "execution_count": 37,
   "id": "6adbdbdd-a824-4663-9e90-2825a496d5a7",
   "metadata": {},
   "outputs": [],
   "source": [
    "class WeightedEnsembleModel:\n",
    "    \"\"\"\n",
    "    Weighted ensemble model for species distribution predictions.\n",
    "    Uses weighted averaging based on model performance metrics.\n",
    "    \"\"\"\n",
    "    def __init__(self, weights):\n",
    "        self.weights = weights  # Store weights for each model (RF, XGBoost, MaxEnt)\n",
    "\n",
    "    def predict(self, X):\n",
    "        \"\"\"\n",
    "        Compute weighted ensemble predictions.\n",
    "        :param X: DataFrame containing model probabilities (RF, XGBoost, MaxEnt).\n",
    "        :return: Weighted probability scores.\n",
    "        \"\"\"\n",
    "        weighted_pred = np.zeros(len(X))\n",
    "        for model in self.weights.keys():\n",
    "            if model in X.columns:\n",
    "                weighted_pred += X[model] * self.weights[model]\n",
    "            else:\n",
    "                print(f\"⚠️ Warning: {model} not found in input data.\")\n",
    "        return weighted_pred"
   ]
  },
  {
   "cell_type": "code",
   "execution_count": 42,
   "id": "bd81f479-1ab8-4926-a6b1-888e9b37a703",
   "metadata": {},
   "outputs": [
    {
     "name": "stdout",
     "output_type": "stream",
     "text": [
      "🔍 Generating suitability map for Bufo bufo...\n",
      "⚠️ Warning: RF not found in input data.\n",
      "⚠️ Warning: XGBoost not found in input data.\n",
      "⚠️ Warning: MaxEnt not found in input data.\n",
      "✅ Suitability map saved: C:\\GIS_Course\\MScThesis-MaviSantarelli\\results\\Suitability_Maps\\Bufo bufo_Suitability_Map.tif\n",
      "🔍 Generating suitability map for Rana temporaria...\n",
      "⚠️ Warning: RF not found in input data.\n",
      "⚠️ Warning: XGBoost not found in input data.\n",
      "⚠️ Warning: MaxEnt not found in input data.\n",
      "✅ Suitability map saved: C:\\GIS_Course\\MScThesis-MaviSantarelli\\results\\Suitability_Maps\\Rana temporaria_Suitability_Map.tif\n",
      "🔍 Generating suitability map for Lissotriton helveticus...\n",
      "⚠️ Warning: RF not found in input data.\n",
      "⚠️ Warning: XGBoost not found in input data.\n",
      "⚠️ Warning: MaxEnt not found in input data.\n",
      "✅ Suitability map saved: C:\\GIS_Course\\MScThesis-MaviSantarelli\\results\\Suitability_Maps\\Lissotriton helveticus_Suitability_Map.tif\n",
      "\n",
      "🚀 Suitability maps generated! Ready for threshold selection and connectivity analysis.\n"
     ]
    }
   ],
   "source": [
    "import os\n",
    "import rasterio\n",
    "import numpy as np\n",
    "import joblib\n",
    "import pandas as pd\n",
    "\n",
    "# Define file paths\n",
    "stacked_raster_path = r\"C:\\GIS_Course\\MScThesis-MaviSantarelli\\data\\Predictors\\Stacked_Predictors.tif\"\n",
    "model_dir = r\"C:\\GIS_Course\\MScThesis-MaviSantarelli\\results\\Models\\Weighted_Ensemble\"\n",
    "output_dir = r\"C:\\GIS_Course\\MScThesis-MaviSantarelli\\results\\Suitability_Maps\"\n",
    "os.makedirs(output_dir, exist_ok=True)\n",
    "\n",
    "# Define species list\n",
    "species_list = [\"Bufo bufo\", \"Rana temporaria\", \"Lissotriton helveticus\"]\n",
    "\n",
    "# Load stacked raster\n",
    "with rasterio.open(stacked_raster_path) as src:\n",
    "    stacked_data = src.read()  # Shape: (num_predictors, height, width)\n",
    "    meta = src.meta.copy()\n",
    "    height, width = src.shape\n",
    "    num_pixels = height * width  # Total number of pixels\n",
    "\n",
    "    # Reshape raster data to match ML model input\n",
    "    num_predictors = stacked_data.shape[0]  # Number of predictors\n",
    "    flat_data = stacked_data.reshape(num_predictors, -1).T  # Shape: (num_pixels, num_predictors)\n",
    "\n",
    "    # Convert to DataFrame\n",
    "    predictor_df = pd.DataFrame(flat_data, columns=[f\"Predictor_{i}\" for i in range(num_predictors)])\n",
    "\n",
    "# Iterate over species\n",
    "for species in species_list:\n",
    "    print(f\"🔍 Generating suitability map for {species}...\")\n",
    "\n",
    "    # Load trained ensemble model\n",
    "    model_path = os.path.join(model_dir, f\"{species}_Final_Ensemble_Model.pkl\")\n",
    "    \n",
    "    if not os.path.exists(model_path):\n",
    "        print(f\"⚠️ Missing model for {species}. Skipping.\")\n",
    "        continue\n",
    "\n",
    "    ensemble_model = joblib.load(model_path)  # Load saved model object\n",
    "\n",
    "    # Ensure the model has a predict function\n",
    "    if not hasattr(ensemble_model, \"predict\"):\n",
    "        print(f\"⚠️ Loaded model for {species} does not have a predict function. Skipping.\")\n",
    "        continue\n",
    "\n",
    "    # Apply ensemble model to generate suitability scores\n",
    "    suitability_scores = ensemble_model.predict(predictor_df)\n",
    "\n",
    "    # Ensure suitability scores match expected raster shape\n",
    "    if suitability_scores.shape[0] != num_pixels:\n",
    "        print(f\"⚠️ Mismatch: Prediction data has {suitability_scores.shape[0]} rows, expected {num_pixels}. Skipping {species}.\")\n",
    "        continue\n",
    "\n",
    "    # Reshape back to raster dimensions\n",
    "    suitability_map = suitability_scores.reshape(height, width)\n",
    "\n",
    "    # Save suitability map\n",
    "    meta.update(dtype=rasterio.float32, count=1)  # Update metadata\n",
    "    output_file = os.path.join(output_dir, f\"{species}_Suitability_Map.tif\")\n",
    "\n",
    "    with rasterio.open(output_file, \"w\", **meta) as dst:\n",
    "        dst.write(suitability_map.astype(np.float32), 1)\n",
    "\n",
    "    print(f\"✅ Suitability map saved: {output_file}\")\n",
    "\n",
    "print(\"\\n🚀 Suitability maps generated! Ready for threshold selection and connectivity analysis.\")\n"
   ]
  },
  {
   "cell_type": "markdown",
   "id": "3315f09c-b87e-4e13-b589-1fddb0bc30cb",
   "metadata": {},
   "source": [
    "## 3. Validate the Suitability Maps"
   ]
  },
  {
   "cell_type": "markdown",
   "id": "60585a3a-e0e8-4dcd-a54f-ae7d5caecc92",
   "metadata": {},
   "source": [
    "### **Load & Check Suitability Maps**"
   ]
  },
  {
   "cell_type": "code",
   "execution_count": 22,
   "id": "a4372f13-6e97-44f9-ad0d-1021159fbb67",
   "metadata": {},
   "outputs": [
    {
     "data": {
      "image/png": "[encoded data removed]",
      "text/plain": [
       "<Figure size 1200x1000 with 9 Axes>"
      ]
     },
     "metadata": {},
     "output_type": "display_data"
    }
   ],
   "source": [
    "import rasterio\n",
    "import matplotlib.pyplot as plt\n",
    "import numpy as np\n",
    "import os\n",
    "\n",
    "# Define paths to suitability maps\n",
    "suitability_dir = r\"C:\\GIS_Course\\MScThesis-MaviSantarelli\\results\\Suitability_Maps\"\n",
    "species_list = [\"Bufo bufo\", \"Rana temporaria\", \"Lissotriton helveticus\"]\n",
    "\n",
    "# Create subplots\n",
    "fig, axes = plt.subplots(nrows=len(species_list), ncols=2, figsize=(12, 10))\n",
    "\n",
    "# Iterate through each species\n",
    "for i, species in enumerate(species_list):\n",
    "    file_path = os.path.join(suitability_dir, f\"{species}_Suitability_Map.tif\")\n",
    "\n",
    "    if not os.path.exists(file_path):\n",
    "        print(f\"⚠️ Missing suitability map for {species}. Skipping.\")\n",
    "        continue\n",
    "\n",
    "    # Load raster\n",
    "    with rasterio.open(file_path) as src:\n",
    "        suitability_data = src.read(1)  # Read first band\n",
    "        meta = src.meta.copy()\n",
    "\n",
    "    # Plot raster map\n",
    "    ax1 = axes[i, 0]\n",
    "    img = ax1.imshow(suitability_data, cmap=\"viridis\", vmin=0, vmax=1)\n",
    "    ax1.set_title(f\"Suitability Map: {species}\")\n",
    "    ax1.axis(\"off\")\n",
    "    fig.colorbar(img, ax=ax1, fraction=0.046, pad=0.04)\n",
    "\n",
    "    # Plot histogram\n",
    "    ax2 = axes[i, 1]\n",
    "    ax2.hist(suitability_data.ravel(), bins=50, color='blue', alpha=0.7)\n",
    "    ax2.set_title(f\"Histogram: {species}\")\n",
    "    ax2.set_xlabel(\"Suitability Score\")\n",
    "    ax2.set_ylabel(\"Frequency\")\n",
    "\n",
    "plt.tight_layout()\n",
    "plt.show()\n"
   ]
  },
  {
   "cell_type": "code",
   "execution_count": 25,
   "id": "7deebe77-f425-4c18-8c74-98315ea848ed",
   "metadata": {},
   "outputs": [
    {
     "name": "stdout",
     "output_type": "stream",
     "text": [
      "🔍 Loaded model type: <class '__main__.WeightedEnsembleModel'>\n",
      "🔍 Model attributes: ['__class__', '__delattr__', '__dict__', '__dir__', '__doc__', '__eq__', '__format__', '__ge__', '__getattribute__', '__gt__', '__hash__', '__init__', '__init_subclass__', '__le__', '__lt__', '__module__', '__ne__', '__new__', '__reduce__', '__reduce_ex__', '__repr__', '__setattr__', '__sizeof__', '__str__', '__subclasshook__', '__weakref__', 'predict', 'weights']\n"
     ]
    }
   ],
   "source": [
    "import joblib\n",
    "import os\n",
    "\n",
    "# Define paths\n",
    "model_dir = r\"C:\\GIS_Course\\MScThesis-MaviSantarelli\\results\\Models\\Weighted_Ensemble\"\n",
    "species = \"Bufo bufo\"\n",
    "model_path = os.path.join(model_dir, f\"{species}_Final_Ensemble_Model.pkl\")\n",
    "\n",
    "# Load the saved model\n",
    "ensemble_model = joblib.load(model_path)\n",
    "\n",
    "# Print object type and attributes\n",
    "print(f\"🔍 Loaded model type: {type(ensemble_model)}\")\n",
    "print(f\"🔍 Model attributes: {dir(ensemble_model)}\")\n"
   ]
  },
  {
   "cell_type": "code",
   "execution_count": 32,
   "id": "5cb5523d-20ce-42de-bcb5-b0864f1a1974",
   "metadata": {},
   "outputs": [
    {
     "name": "stdout",
     "output_type": "stream",
     "text": [
      "🔍 Model weights: {'RF': 0.3829697098072442, 'XGBoost': 0.3484431264562593, 'MaxEnt': 0.26858716373649655}\n",
      "🔍 Predictor Data Sample:\n",
      "    Predictor_0  Predictor_1  Predictor_2  Predictor_3  Predictor_4  \\\n",
      "0     0.864656     0.639893     0.024413     0.349370     0.359375   \n",
      "1     0.270960     0.267800     0.860191     0.115849     0.730797   \n",
      "2     0.464631     0.990262     0.120338     0.284701     0.227331   \n",
      "3     0.697606     0.997986     0.157122     0.528283     0.590665   \n",
      "4     0.421264     0.074499     0.949500     0.758505     0.638966   \n",
      "\n",
      "   Predictor_5  Predictor_6  Predictor_7  Predictor_8  Predictor_9  \\\n",
      "0     0.843827     0.281043     0.250770     0.950815     0.731428   \n",
      "1     0.470211     0.527944     0.983323     0.101311     0.235311   \n",
      "2     0.548647     0.460123     0.623756     0.503413     0.818226   \n",
      "3     0.719879     0.249594     0.045347     0.992782     0.387276   \n",
      "4     0.235861     0.812391     0.065192     0.591547     0.776550   \n",
      "\n",
      "   Predictor_10  Predictor_11  Predictor_12  \n",
      "0      0.286162      0.184533      0.463436  \n",
      "1      0.507969      0.188380      0.655368  \n",
      "2      0.923892      0.737689      0.273717  \n",
      "3      0.248973      0.910191      0.845046  \n",
      "4      0.334313      0.779385      0.923719  \n",
      "🔍 Predictor Data Summary:\n",
      "        Predictor_0  Predictor_1  Predictor_2  Predictor_3  Predictor_4  \\\n",
      "count   100.000000   100.000000   100.000000   100.000000   100.000000   \n",
      "mean      0.478138     0.472006     0.455484     0.574313     0.493732   \n",
      "std       0.282092     0.267104     0.297073     0.298673     0.273427   \n",
      "min       0.006932     0.002043     0.016192     0.004185     0.003989   \n",
      "25%       0.244701     0.250306     0.155094     0.338580     0.279479   \n",
      "50%       0.454493     0.476026     0.479306     0.620976     0.512761   \n",
      "75%       0.727830     0.678440     0.670184     0.822435     0.697046   \n",
      "max       0.980279     0.997986     0.995939     0.989600     0.994168   \n",
      "\n",
      "       Predictor_5  Predictor_6  Predictor_7  Predictor_8  Predictor_9  \\\n",
      "count   100.000000   100.000000   100.000000   100.000000   100.000000   \n",
      "mean      0.510014     0.515071     0.493089     0.503911     0.476048   \n",
      "std       0.288376     0.289611     0.291989     0.284162     0.293504   \n",
      "min       0.008027     0.005053     0.011934     0.002471     0.003989   \n",
      "25%       0.254875     0.243438     0.237999     0.281659     0.208479   \n",
      "50%       0.516776     0.540690     0.479629     0.493199     0.480987   \n",
      "75%       0.745154     0.753348     0.723392     0.731520     0.758039   \n",
      "max       0.977367     0.998312     0.983323     0.999551     0.988899   \n",
      "\n",
      "       Predictor_10  Predictor_11  Predictor_12  \n",
      "count    100.000000    100.000000    100.000000  \n",
      "mean       0.490438      0.509667      0.500047  \n",
      "std        0.285933      0.295479      0.277277  \n",
      "min        0.008761      0.009992      0.001664  \n",
      "25%        0.268334      0.255868      0.271036  \n",
      "50%        0.467622      0.518734      0.484483  \n",
      "75%        0.713345      0.784031      0.761394  \n",
      "max        0.998620      0.984348      0.991279  \n",
      "Predictions for Bufo bufo:\n",
      "Predictions Sample: [0. 0. 0. 0. 0. 0. 0. 0. 0. 0. 0. 0. 0. 0. 0. 0. 0. 0. 0. 0.]\n",
      "Min Prediction: 0.0 Max Prediction: 0.0\n"
     ]
    }
   ],
   "source": [
    "import joblib\n",
    "import numpy as np\n",
    "import pandas as pd\n",
    "import os\n",
    "\n",
    "# Define paths\n",
    "model_dir = r\"C:\\GIS_Course\\MScThesis-MaviSantarelli\\results\\Models\\Weighted_Ensemble\"\n",
    "species = \"Bufo bufo\"\n",
    "model_path = os.path.join(model_dir, f\"{species}_Final_Ensemble_Model.pkl\")\n",
    "\n",
    "print(\"🔍 Model weights:\", ensemble_model.weights)\n",
    "\n",
    "print(\"🔍 Predictor Data Sample:\\n\", predictor_df.head())\n",
    "print(\"🔍 Predictor Data Summary:\\n\", predictor_df.describe())\n",
    "predictions = ensemble_model.predict(predictor_df)\n",
    "\n",
    "\n",
    "if not os.path.exists(model_path):\n",
    "    print(f\"⚠️ Model for {species} is missing.\")\n",
    "else:\n",
    "    # Load the saved ensemble model\n",
    "    ensemble_model = joblib.load(model_path)\n",
    "\n",
    "    # Generate test input (100 samples, 13 predictors)\n",
    "    num_predictors = 13  \n",
    "    test_data = np.random.rand(100, num_predictors)\n",
    "\n",
    "    # Convert to DataFrame\n",
    "    predictor_df = pd.DataFrame(test_data, columns=[f\"Predictor_{i}\" for i in range(num_predictors)])\n",
    "\n",
    "    # Apply the function directly (since it is not a scikit-learn model)\n",
    "    # Apply the ensemble model correctly\n",
    "    predictions = ensemble_model.predict(predictor_df)  # ✅ Use .predict()\n",
    "\n",
    "\n",
    "    print(f\"Predictions for {species}:\")\n",
    "   # Print a few predictions to see if they are all zeros\n",
    "    print(\"Predictions Sample:\", predictions[:20])\n",
    "    print(\"Min Prediction:\", predictions.min(), \"Max Prediction:\", predictions.max())\n",
    "\n"
   ]
  },
  {
   "cell_type": "code",
   "execution_count": 33,
   "id": "534f8422-62cf-478b-bdf3-f1afc4067f11",
   "metadata": {},
   "outputs": [
    {
     "name": "stdout",
     "output_type": "stream",
     "text": [
      "🔍 Model predict function:\n",
      " <bound method WeightedEnsembleModel.predict of <__main__.WeightedEnsembleModel object at 0x00000206AE606C70>>\n"
     ]
    }
   ],
   "source": [
    "print(\"🔍 Model predict function:\\n\", ensemble_model.predict)"
   ]
  },
  {
   "cell_type": "code",
   "execution_count": 34,
   "id": "b6875aa3-e368-4b19-af7c-4fc41cd74141",
   "metadata": {},
   "outputs": [
    {
     "name": "stdout",
     "output_type": "stream",
     "text": [
      "🔍 Model Weights: {'RF': 0.3829697098072442, 'XGBoost': 0.3484431264562593, 'MaxEnt': 0.26858716373649655}\n",
      "🔍 Sample Input Data:\n",
      "    Predictor_0  Predictor_1  Predictor_2  Predictor_3  Predictor_4  \\\n",
      "0     0.812445     0.264777     0.941662     0.623194     0.042579   \n",
      "1     0.889225     0.753153     0.702271     0.499608     0.298043   \n",
      "2     0.763120     0.736726     0.502541     0.507843     0.106506   \n",
      "3     0.252928     0.395915     0.940399     0.374087     0.030066   \n",
      "4     0.060719     0.898183     0.610812     0.151033     0.287372   \n",
      "\n",
      "   Predictor_5  Predictor_6  Predictor_7  Predictor_8  Predictor_9  \\\n",
      "0     0.456672     0.998851     0.745429     0.938119     0.172289   \n",
      "1     0.195003     0.196896     0.034930     0.224284     0.997213   \n",
      "2     0.647913     0.850735     0.251678     0.654066     0.893786   \n",
      "3     0.095015     0.267725     0.357034     0.186058     0.317065   \n",
      "4     0.717744     0.645331     0.177273     0.298432     0.162398   \n",
      "\n",
      "   Predictor_10  Predictor_11  Predictor_12  \n",
      "0      0.984606      0.977341      0.255392  \n",
      "1      0.309124      0.032790      0.112850  \n",
      "2      0.264023      0.294702      0.718728  \n",
      "3      0.499582      0.784308      0.514181  \n",
      "4      0.502174      0.625770      0.184102  \n",
      "🔍 Sample Predictions: [0. 0. 0. 0. 0.]\n",
      "🔍 Min Prediction: 0.0 Max Prediction: 0.0\n"
     ]
    }
   ],
   "source": [
    "print(\"🔍 Model Weights:\", ensemble_model.weights)\n",
    "\n",
    "test_sample = predictor_df.head(5)  # Take 5 sample rows\n",
    "print(\"🔍 Sample Input Data:\\n\", test_sample)\n",
    "\n",
    "# Try predicting a small batch and print the output\n",
    "predictions = ensemble_model.predict(test_sample)\n",
    "print(\"🔍 Sample Predictions:\", predictions)\n",
    "print(\"🔍 Min Prediction:\", np.min(predictions), \"Max Prediction:\", np.max(predictions))\n"
   ]
  },
  {
   "cell_type": "code",
   "execution_count": null,
   "id": "4be0920b-d82d-4b60-b407-894783d82d19",
   "metadata": {},
   "outputs": [],
   "source": []
  }
 ],
 "metadata": {
  "kernelspec": {
   "display_name": "Python (MscThesis)",
   "language": "python",
   "name": "mscthesis"
  },
  "language_info": {
   "codemirror_mode": {
    "name": "ipython",
    "version": 3
   },
   "file_extension": ".py",
   "mimetype": "text/x-python",
   "name": "python",
   "nbconvert_exporter": "python",
   "pygments_lexer": "ipython3",
   "version": "3.9.19"
  }
 },
 "nbformat": 4,
 "nbformat_minor": 5
}
