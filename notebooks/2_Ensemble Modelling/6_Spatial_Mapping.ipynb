{
 "cells": [
  {
   "cell_type": "markdown",
   "id": "08f77a85-70cc-4813-a5a6-ea12695ec7ea",
   "metadata": {},
   "source": [
    "# Spatial Mapping\n",
    "\n",
    "## Table of Contents\n",
    "\n",
    "1. [Introduction](#1.-Introduction)\n",
    "2. [Convert Model Predictions to Spatial Data](#2.-Convert-Model-Predictions-to-Spatial-Data)"
   ]
  },
  {
   "cell_type": "markdown",
   "id": "e2ea54eb-5696-4af2-9716-65e0d51397c6",
   "metadata": {},
   "source": [
    "## 1. Introduction\n",
    "\n",
    "The final stage of species distribution modelling involves translating model outputs into spatially explicit predictions for visualization and analysis in Geographic Information Systems (GIS). This step is crucial for identifying suitable habitats, informing conservation planning, and integrating results into decision-making frameworks.\n",
    "\n",
    "Species distribution models (SDMs) generate probability estimates of species presence based on environmental predictors. These probabilities must be converted into spatially explicit rasters or vector layers that align with the study area’s geographic coordinates. The transition from tabular predictions to spatial datasets ensures that results can be integrated with other environmental data, such as land cover, habitat connectivity, and conservation priorities.\n",
    "\n",
    "The goal is to predict species suitability across a continuous landscape using environmental predictors. This is typically achieved by applying trained models to these predictors to generate continuous suitability maps.\n",
    "\n",
    "### Interpolation vs. Model Application:\n",
    "\n",
    "1. **Model Application**: After training the models (e.g., Random Forest, XGBoost, MaxEnt) using occurrence data and environmental predictors, these trained models can be applied to the same set of predictors across the entire study area. This process generates continuous suitability values for each location, resulting in a comprehensive suitability map.\n",
    "\n",
    "2. **Interpolation:** Interpolation methods, such as kriging, estimate values at unsampled locations based on the spatial configuration of sampled points. While interpolation can be useful in certain contexts, it doesn't leverage the relationship between species occurrences and environmental predictors as effectively as direct model application."
   ]
  },
  {
   "cell_type": "markdown",
   "id": "b21c5f1c-978e-4fc6-bf7e-5505ef351a37",
   "metadata": {},
   "source": [
    "## 2. Create Suitability Maps\n",
    "\n",
    "To create continuous suitability maps we will:\n",
    "1. **Prepare Environmental Predictors**: Ensure all environmental predictor rasters are aligned (same resolution, extent, and coordinate system).\n",
    "2. **Apply Trained Models**: Use the trained ensemble model to predict suitability values across the entire study area by applying it to the predictor rasters.\n",
    "3. **Generate Suitability Maps**: The output will be continuous suitability maps indicating the predicted probability of species presence for each location.\n",
    "\n",
    "### **Load Final Suitability Predictions**"
   ]
  },
  {
   "cell_type": "code",
   "execution_count": 1,
   "id": "095b48ee-2a2a-44b3-af7d-c09314dccbf9",
   "metadata": {},
   "outputs": [
    {
     "name": "stdout",
     "output_type": "stream",
     "text": [
      "✅ Loaded predictions for Bufo bufo\n",
      "✅ Loaded predictions for Rana temporaria\n",
      "✅ Loaded predictions for Lissotriton helveticus\n"
     ]
    }
   ],
   "source": [
    "import os\n",
    "import pandas as pd\n",
    "import geopandas as gpd\n",
    "\n",
    "# Define paths\n",
    "prediction_dir = r\"C:\\GIS_Course\\MScThesis-MaviSantarelli\\results\\Models\\Final_Binary\"\n",
    "species_list = [\"Bufo bufo\", \"Rana temporaria\", \"Lissotriton helveticus\"]\n",
    "\n",
    "# Load prediction files\n",
    "predictions = {}\n",
    "for species in species_list:\n",
    "    file_path = os.path.join(prediction_dir, f\"{species}_Final_Binary_Predictions.csv\")\n",
    "    if os.path.exists(file_path):\n",
    "        predictions[species] = pd.read_csv(file_path)\n",
    "        print(f\"✅ Loaded predictions for {species}\")\n",
    "    else:\n",
    "        print(f\"⚠️ Missing predictions for {species}\")\n"
   ]
  },
  {
   "cell_type": "markdown",
   "id": "8206ecb9-693a-49db-b12c-8418690810e5",
   "metadata": {},
   "source": [
    "### **Stack Predictors into a Multi-Band Raster**\n",
    "\n",
    "### Check Raster Shapes Before Stacking"
   ]
  },
  {
   "cell_type": "code",
   "execution_count": 3,
   "id": "a2c14311-7fa9-4bc5-aad0-edda175b7a98",
   "metadata": {},
   "outputs": [
    {
     "name": "stdout",
     "output_type": "stream",
     "text": [
      "C:/GIS_Course/MScThesis-MaviSantarelli/data/Predictors/Input/Reversed/Building_Density_Reversed.tif: (5971, 6369), Resolution: (30.0, 30.0), CRS: EPSG:27700\n",
      "C:/GIS_Course/MScThesis-MaviSantarelli/data/Predictors/Input/Reversed/DistWater_Reversed.tif: (5971, 6369), Resolution: (30.0, 30.0), CRS: EPSG:27700\n",
      "C:/GIS_Course/MScThesis-MaviSantarelli/data/Predictors/Input/Reversed/NOx_Stand_Reversed.tif: (5971, 6369), Resolution: (30.0, 30.0), CRS: EPSG:27700\n",
      "C:/GIS_Course/MScThesis-MaviSantarelli/data/Predictors/Input/Reversed/RGS_Reversed.tif: (5971, 6369), Resolution: (30.0, 30.0), CRS: EPSG:27700\n",
      "C:/GIS_Course/MScThesis-MaviSantarelli/data/Predictors/Input/Reversed/Runoff_Coefficient_Standardised_Reversed.tif: (5970, 6369), Resolution: (30.0, 30.0), CRS: EPSG:27700\n",
      "C:/GIS_Course/MScThesis-MaviSantarelli/data/Predictors/Input/Reversed/Slope_Proj_Reversed.tif: (5971, 6369), Resolution: (30.0, 30.0), CRS: EPSG:27700\n",
      "C:/GIS_Course/MScThesis-MaviSantarelli/data/Predictors/Input/Reversed/SoilMoisture_32bit_Reversed.tif: (5972, 6370), Resolution: (30.0, 30.0), CRS: EPSG:27700\n",
      "C:/GIS_Course/MScThesis-MaviSantarelli/data/Predictors/Input/Reversed/Traffic_Reversed.tif: (5971, 6369), Resolution: (30.0, 30.0), CRS: EPSG:27700\n",
      "C:/GIS_Course/MScThesis-MaviSantarelli/data/Predictors/Input/Reversed/Wood_Resample_Reversed.tif: (5971, 6369), Resolution: (30.0, 30.0), CRS: EPSG:27700\n",
      "C:/GIS_Course/MScThesis-MaviSantarelli/data/Predictors/Input/Grass_Stand.tif: (5971, 6369), Resolution: (30.0, 30.0), CRS: EPSG:27700\n",
      "C:/GIS_Course/MScThesis-MaviSantarelli/data/Predictors/Input/NDVI_median.tif: (5971, 6369), Resolution: (30.0, 30.0), CRS: EPSG:27700\n",
      "C:/GIS_Course/MScThesis-MaviSantarelli/data/Predictors/Input/NDVI_StDev.tif: (5973, 6371), Resolution: (30.0, 30.0), CRS: EPSG:27700\n",
      "C:/GIS_Course/MScThesis-MaviSantarelli/data/Predictors/Input/VegHeight.tif: (5971, 6369), Resolution: (30.0, 30.0), CRS: EPSG:27700\n"
     ]
    }
   ],
   "source": [
    "import rasterio\n",
    "\n",
    "# Define predictor raster file paths\n",
    "predictor_files = [\n",
    "    \"C:/GIS_Course/MScThesis-MaviSantarelli/data/Predictors/Input/Reversed/Building_Density_Reversed.tif\",\n",
    "    \"C:/GIS_Course/MScThesis-MaviSantarelli/data/Predictors/Input/Reversed/DistWater_Reversed.tif\",\n",
    "    \"C:/GIS_Course/MScThesis-MaviSantarelli/data/Predictors/Input/Reversed/NOx_Stand_Reversed.tif\",\n",
    "    \"C:/GIS_Course/MScThesis-MaviSantarelli/data/Predictors/Input/Reversed/RGS_Reversed.tif\",\n",
    "    \"C:/GIS_Course/MScThesis-MaviSantarelli/data/Predictors/Input/Reversed/Runoff_Coefficient_Standardised_Reversed.tif\",\n",
    "    \"C:/GIS_Course/MScThesis-MaviSantarelli/data/Predictors/Input/Reversed/Slope_Proj_Reversed.tif\",\n",
    "    \"C:/GIS_Course/MScThesis-MaviSantarelli/data/Predictors/Input/Reversed/SoilMoisture_32bit_Reversed.tif\",\n",
    "    \"C:/GIS_Course/MScThesis-MaviSantarelli/data/Predictors/Input/Reversed/Traffic_Reversed.tif\",\n",
    "    \"C:/GIS_Course/MScThesis-MaviSantarelli/data/Predictors/Input/Reversed/Wood_Resample_Reversed.tif\",\n",
    "    \"C:/GIS_Course/MScThesis-MaviSantarelli/data/Predictors/Input/Grass_Stand.tif\",\n",
    "    \"C:/GIS_Course/MScThesis-MaviSantarelli/data/Predictors/Input/NDVI_median.tif\",\n",
    "    \"C:/GIS_Course/MScThesis-MaviSantarelli/data/Predictors/Input/NDVI_StDev.tif\",\n",
    "    \"C:/GIS_Course/MScThesis-MaviSantarelli/data/Predictors/Input/VegHeight.tif\"\n",
    "]\n",
    "\n",
    "# Check raster shapes\n",
    "for file in predictor_files:\n",
    "    with rasterio.open(file) as src:\n",
    "        print(f\"{file}: {src.shape}, Resolution: {src.res}, CRS: {src.crs}\")\n"
   ]
  },
  {
   "cell_type": "markdown",
   "id": "dbd6a844-4dd4-421c-8e23-dabd669c9dfc",
   "metadata": {},
   "source": [
    "### Reproject and Resample to Match a Reference Raster"
   ]
  },
  {
   "cell_type": "code",
   "execution_count": 4,
   "id": "374f1ab7-f318-450f-90b9-0543edbbbc9f",
   "metadata": {},
   "outputs": [
    {
     "name": "stdout",
     "output_type": "stream",
     "text": [
      "✅ C:/GIS_Course/MScThesis-MaviSantarelli/data/Predictors/Input/Reversed/Building_Density_Reversed.tif already matches reference raster.\n",
      "✅ C:/GIS_Course/MScThesis-MaviSantarelli/data/Predictors/Input/Reversed/DistWater_Reversed.tif already matches reference raster.\n",
      "✅ C:/GIS_Course/MScThesis-MaviSantarelli/data/Predictors/Input/Reversed/NOx_Stand_Reversed.tif already matches reference raster.\n",
      "✅ C:/GIS_Course/MScThesis-MaviSantarelli/data/Predictors/Input/Reversed/RGS_Reversed.tif already matches reference raster.\n",
      "🔄 Resampling C:/GIS_Course/MScThesis-MaviSantarelli/data/Predictors/Input/Reversed/Runoff_Coefficient_Standardised_Reversed.tif...\n",
      "✅ Resampled and saved: C:/GIS_Course/MScThesis-MaviSantarelli/data/Predictors/Resampled\\Runoff_Coefficient_Standardised_Reversed.tif\n",
      "✅ C:/GIS_Course/MScThesis-MaviSantarelli/data/Predictors/Input/Reversed/Slope_Proj_Reversed.tif already matches reference raster.\n",
      "🔄 Resampling C:/GIS_Course/MScThesis-MaviSantarelli/data/Predictors/Input/Reversed/SoilMoisture_32bit_Reversed.tif...\n",
      "✅ Resampled and saved: C:/GIS_Course/MScThesis-MaviSantarelli/data/Predictors/Resampled\\SoilMoisture_32bit_Reversed.tif\n",
      "✅ C:/GIS_Course/MScThesis-MaviSantarelli/data/Predictors/Input/Reversed/Traffic_Reversed.tif already matches reference raster.\n",
      "✅ C:/GIS_Course/MScThesis-MaviSantarelli/data/Predictors/Input/Reversed/Wood_Resample_Reversed.tif already matches reference raster.\n",
      "✅ C:/GIS_Course/MScThesis-MaviSantarelli/data/Predictors/Input/Grass_Stand.tif already matches reference raster.\n",
      "✅ C:/GIS_Course/MScThesis-MaviSantarelli/data/Predictors/Input/NDVI_median.tif already matches reference raster.\n",
      "🔄 Resampling C:/GIS_Course/MScThesis-MaviSantarelli/data/Predictors/Input/NDVI_StDev.tif...\n",
      "✅ Resampled and saved: C:/GIS_Course/MScThesis-MaviSantarelli/data/Predictors/Resampled\\NDVI_StDev.tif\n",
      "✅ C:/GIS_Course/MScThesis-MaviSantarelli/data/Predictors/Input/VegHeight.tif already matches reference raster.\n",
      "\n",
      "🚀 Resampling complete! Use these resampled rasters for stacking.\n"
     ]
    }
   ],
   "source": [
    "import rasterio\n",
    "from rasterio.warp import calculate_default_transform, reproject, Resampling\n",
    "import os\n",
    "\n",
    "# Choose a reference raster (first predictor)\n",
    "reference_raster = predictor_files[0]\n",
    "\n",
    "# Define output directory for resampled rasters\n",
    "output_dir = \"C:/GIS_Course/MScThesis-MaviSantarelli/data/Predictors/Resampled\"\n",
    "os.makedirs(output_dir, exist_ok=True)\n",
    "\n",
    "# Open reference raster\n",
    "with rasterio.open(reference_raster) as ref_src:\n",
    "    ref_transform = ref_src.transform\n",
    "    ref_width = ref_src.width\n",
    "    ref_height = ref_src.height\n",
    "    ref_crs = ref_src.crs\n",
    "\n",
    "# Resample and reproject other rasters to match reference\n",
    "for file in predictor_files:\n",
    "    output_file = os.path.join(output_dir, os.path.basename(file))\n",
    "\n",
    "    with rasterio.open(file) as src:\n",
    "        if (src.shape != (ref_height, ref_width)) or (src.crs != ref_crs):\n",
    "            print(f\"🔄 Resampling {file}...\")\n",
    "\n",
    "            # Calculate new transform and dimensions\n",
    "            transform, width, height = calculate_default_transform(\n",
    "                src.crs, ref_crs, src.width, src.height, *src.bounds\n",
    "            )\n",
    "\n",
    "            # Update metadata\n",
    "            new_meta = src.meta.copy()\n",
    "            new_meta.update({\n",
    "                \"crs\": ref_crs,\n",
    "                \"transform\": transform,\n",
    "                \"width\": ref_width,\n",
    "                \"height\": ref_height\n",
    "            })\n",
    "\n",
    "            # Create resampled raster\n",
    "            with rasterio.open(output_file, \"w\", **new_meta) as dst:\n",
    "                for i in range(1, src.count + 1):\n",
    "                    reproject(\n",
    "                        source=rasterio.band(src, i),\n",
    "                        destination=rasterio.band(dst, i),\n",
    "                        src_transform=src.transform,\n",
    "                        src_crs=src.crs,\n",
    "                        dst_transform=transform,\n",
    "                        dst_crs=ref_crs,\n",
    "                        resampling=Resampling.bilinear  # Use bilinear resampling\n",
    "                    )\n",
    "\n",
    "            print(f\"✅ Resampled and saved: {output_file}\")\n",
    "        else:\n",
    "            print(f\"✅ {file} already matches reference raster.\")\n",
    "\n",
    "print(\"\\n🚀 Resampling complete! Use these resampled rasters for stacking.\")\n"
   ]
  },
  {
   "cell_type": "markdown",
   "id": "caeeb2e2-61e4-4b65-88b5-3b9ca18f6dec",
   "metadata": {},
   "source": [
    "### Create a List of the Correct File Paths"
   ]
  },
  {
   "cell_type": "code",
   "execution_count": 6,
   "id": "c93a709e-8f5d-45b9-ae70-e8e05fb6f79c",
   "metadata": {},
   "outputs": [
    {
     "name": "stdout",
     "output_type": "stream",
     "text": [
      "✅ Using: C:/GIS_Course/MScThesis-MaviSantarelli/data/Predictors/Input/Reversed/Building_Density_Reversed.tif\n",
      "✅ Using: C:/GIS_Course/MScThesis-MaviSantarelli/data/Predictors/Input/Reversed/DistWater_Reversed.tif\n",
      "✅ Using: C:/GIS_Course/MScThesis-MaviSantarelli/data/Predictors/Input/Reversed/NOx_Stand_Reversed.tif\n",
      "✅ Using: C:/GIS_Course/MScThesis-MaviSantarelli/data/Predictors/Input/Reversed/RGS_Reversed.tif\n",
      "✅ Using: C:/GIS_Course/MScThesis-MaviSantarelli/data/Predictors/Resampled\\Runoff_Coefficient_Standardised_Reversed.tif\n",
      "✅ Using: C:/GIS_Course/MScThesis-MaviSantarelli/data/Predictors/Input/Reversed/Slope_Proj_Reversed.tif\n",
      "✅ Using: C:/GIS_Course/MScThesis-MaviSantarelli/data/Predictors/Resampled\\SoilMoisture_32bit_Reversed.tif\n",
      "✅ Using: C:/GIS_Course/MScThesis-MaviSantarelli/data/Predictors/Input/Reversed/Traffic_Reversed.tif\n",
      "✅ Using: C:/GIS_Course/MScThesis-MaviSantarelli/data/Predictors/Input/Reversed/Wood_Resample_Reversed.tif\n",
      "✅ Using: C:/GIS_Course/MScThesis-MaviSantarelli/data/Predictors/Input/Grass_Stand.tif\n",
      "✅ Using: C:/GIS_Course/MScThesis-MaviSantarelli/data/Predictors/Input/NDVI_median.tif\n",
      "✅ Using: C:/GIS_Course/MScThesis-MaviSantarelli/data/Predictors/Resampled\\NDVI_StDev.tif\n",
      "✅ Using: C:/GIS_Course/MScThesis-MaviSantarelli/data/Predictors/Input/VegHeight.tif\n"
     ]
    }
   ],
   "source": [
    "import os\n",
    "\n",
    "# Define original predictor file paths\n",
    "original_predictor_files = [\n",
    "    \"C:/GIS_Course/MScThesis-MaviSantarelli/data/Predictors/Input/Reversed/Building_Density_Reversed.tif\",\n",
    "    \"C:/GIS_Course/MScThesis-MaviSantarelli/data/Predictors/Input/Reversed/DistWater_Reversed.tif\",\n",
    "    \"C:/GIS_Course/MScThesis-MaviSantarelli/data/Predictors/Input/Reversed/NOx_Stand_Reversed.tif\",\n",
    "    \"C:/GIS_Course/MScThesis-MaviSantarelli/data/Predictors/Input/Reversed/RGS_Reversed.tif\",\n",
    "    \"C:/GIS_Course/MScThesis-MaviSantarelli/data/Predictors/Input/Reversed/Runoff_Coefficient_Standardised_Reversed.tif\",\n",
    "    \"C:/GIS_Course/MScThesis-MaviSantarelli/data/Predictors/Input/Reversed/Slope_Proj_Reversed.tif\",\n",
    "    \"C:/GIS_Course/MScThesis-MaviSantarelli/data/Predictors/Input/Reversed/SoilMoisture_32bit_Reversed.tif\",\n",
    "    \"C:/GIS_Course/MScThesis-MaviSantarelli/data/Predictors/Input/Reversed/Traffic_Reversed.tif\",\n",
    "    \"C:/GIS_Course/MScThesis-MaviSantarelli/data/Predictors/Input/Reversed/Wood_Resample_Reversed.tif\",\n",
    "    \"C:/GIS_Course/MScThesis-MaviSantarelli/data/Predictors/Input/Grass_Stand.tif\",\n",
    "    \"C:/GIS_Course/MScThesis-MaviSantarelli/data/Predictors/Input/NDVI_median.tif\",\n",
    "    \"C:/GIS_Course/MScThesis-MaviSantarelli/data/Predictors/Input/NDVI_StDev.tif\",\n",
    "    \"C:/GIS_Course/MScThesis-MaviSantarelli/data/Predictors/Input/VegHeight.tif\"\n",
    "]\n",
    "\n",
    "# Define resampled directory\n",
    "resampled_dir = \"C:/GIS_Course/MScThesis-MaviSantarelli/data/Predictors/Resampled\"\n",
    "\n",
    "# Generate final paths: use resampled files if they exist, otherwise use original\n",
    "final_predictor_files = []\n",
    "for file in original_predictor_files:\n",
    "    resampled_path = os.path.join(resampled_dir, os.path.basename(file))\n",
    "    \n",
    "    if os.path.exists(resampled_path):  # Use resampled version if available\n",
    "        final_predictor_files.append(resampled_path)\n",
    "    else:  # Use original file\n",
    "        final_predictor_files.append(file)\n",
    "\n",
    "# Print final list to check\n",
    "for file in final_predictor_files:\n",
    "    print(f\"✅ Using: {file}\")\n"
   ]
  },
  {
   "cell_type": "markdown",
   "id": "6f1162d1-bfcf-49ff-ab72-7d75c0ffcc8a",
   "metadata": {},
   "source": [
    "### Stack Resampled Rasters"
   ]
  },
  {
   "cell_type": "code",
   "execution_count": 7,
   "id": "0ef72ca2-956c-4c6a-ad28-300456d10b84",
   "metadata": {},
   "outputs": [
    {
     "name": "stdout",
     "output_type": "stream",
     "text": [
      "✅ Stacked raster shape: (13, 5971, 6369)\n"
     ]
    }
   ],
   "source": [
    "import rasterio\n",
    "import numpy as np\n",
    "\n",
    "# Read and stack all predictors\n",
    "stacked_data = []\n",
    "meta = None\n",
    "\n",
    "for i, file in enumerate(final_predictor_files):\n",
    "    with rasterio.open(file) as src:\n",
    "        if meta is None:\n",
    "            meta = src.meta.copy()  # Save metadata from first raster\n",
    "        data = src.read(1)  # Read the first band\n",
    "        stacked_data.append(data)\n",
    "\n",
    "# Convert to numpy array\n",
    "stacked_array = np.stack(stacked_data, axis=0)\n",
    "\n",
    "# Check stacked raster shape\n",
    "print(f\"✅ Stacked raster shape: {stacked_array.shape}\")\n"
   ]
  },
  {
   "cell_type": "markdown",
   "id": "b9c78b08-2250-45d5-9501-c6d6ce9163e1",
   "metadata": {},
   "source": [
    "### **Convert Raster to Model Input Format**"
   ]
  },
  {
   "cell_type": "code",
   "execution_count": 8,
   "id": "dc449bc3-00e7-4a99-9b12-80293260558b",
   "metadata": {},
   "outputs": [
    {
     "name": "stdout",
     "output_type": "stream",
     "text": [
      "✅ Predictor DataFrame Shape: (38029299, 13)\n",
      "🔍 Missing Values:\n",
      "Predictor_1     0\n",
      "Predictor_2     0\n",
      "Predictor_3     0\n",
      "Predictor_4     0\n",
      "Predictor_5     0\n",
      "Predictor_6     0\n",
      "Predictor_7     0\n",
      "Predictor_8     0\n",
      "Predictor_9     0\n",
      "Predictor_10    0\n",
      "Predictor_11    0\n",
      "Predictor_12    0\n",
      "Predictor_13    0\n",
      "dtype: int64\n",
      "✅ Cleaned Predictor DataFrame Shape: (38029299, 13)\n"
     ]
    }
   ],
   "source": [
    "import pandas as pd\n",
    "\n",
    "# Reshape raster stack into a 2D table (num_pixels, num_predictors)\n",
    "num_bands, height, width = stacked_array.shape\n",
    "reshaped_array = stacked_array.reshape(num_bands, -1).T  # Transpose to (num_pixels, num_predictors)\n",
    "\n",
    "# Convert to DataFrame\n",
    "predictor_df = pd.DataFrame(reshaped_array, columns=[f\"Predictor_{i+1}\" for i in range(num_bands)])\n",
    "\n",
    "# Check for missing values\n",
    "print(f\"✅ Predictor DataFrame Shape: {predictor_df.shape}\")\n",
    "print(f\"🔍 Missing Values:\\n{predictor_df.isnull().sum()}\")\n",
    "\n",
    "# Drop rows with NaN values (if any)\n",
    "predictor_df = predictor_df.dropna().reset_index(drop=True)\n",
    "print(f\"✅ Cleaned Predictor DataFrame Shape: {predictor_df.shape}\")\n"
   ]
  },
  {
   "cell_type": "markdown",
   "id": "4c2787d6-72e2-4dd3-9bc4-de00fcb9db74",
   "metadata": {},
   "source": [
    "### **Apply Ensemble Model to Generate Suitability Scores**"
   ]
  },
  {
   "cell_type": "code",
   "execution_count": 10,
   "id": "bd81f479-1ab8-4926-a6b1-888e9b37a703",
   "metadata": {},
   "outputs": [
    {
     "ename": "RasterioIOError",
     "evalue": "C:/GIS_Course/MScThesis-MaviSantarelli/data/Predictors/Stacked_Predictors.tif: No such file or directory",
     "output_type": "error",
     "traceback": [
      "\u001b[1;31m---------------------------------------------------------------------------\u001b[0m",
      "\u001b[1;31mCPLE_OpenFailedError\u001b[0m                      Traceback (most recent call last)",
      "File \u001b[1;32mrasterio\\\\_base.pyx:310\u001b[0m, in \u001b[0;36mrasterio._base.DatasetBase.__init__\u001b[1;34m()\u001b[0m\n",
      "File \u001b[1;32mrasterio\\\\_base.pyx:221\u001b[0m, in \u001b[0;36mrasterio._base.open_dataset\u001b[1;34m()\u001b[0m\n",
      "File \u001b[1;32mrasterio\\\\_err.pyx:221\u001b[0m, in \u001b[0;36mrasterio._err.exc_wrap_pointer\u001b[1;34m()\u001b[0m\n",
      "\u001b[1;31mCPLE_OpenFailedError\u001b[0m: C:/GIS_Course/MScThesis-MaviSantarelli/data/Predictors/Stacked_Predictors.tif: No such file or directory",
      "\nDuring handling of the above exception, another exception occurred:\n",
      "\u001b[1;31mRasterioIOError\u001b[0m                           Traceback (most recent call last)",
      "Cell \u001b[1;32mIn[10], line 14\u001b[0m\n\u001b[0;32m     11\u001b[0m os\u001b[38;5;241m.\u001b[39mmakedirs(output_dir, exist_ok\u001b[38;5;241m=\u001b[39m\u001b[38;5;28;01mTrue\u001b[39;00m)\n\u001b[0;32m     13\u001b[0m \u001b[38;5;66;03m# Load stacked raster\u001b[39;00m\n\u001b[1;32m---> 14\u001b[0m \u001b[38;5;28;01mwith\u001b[39;00m \u001b[43mrasterio\u001b[49m\u001b[38;5;241;43m.\u001b[39;49m\u001b[43mopen\u001b[49m\u001b[43m(\u001b[49m\u001b[43mstacked_raster_path\u001b[49m\u001b[43m)\u001b[49m \u001b[38;5;28;01mas\u001b[39;00m src:\n\u001b[0;32m     15\u001b[0m     stacked_data \u001b[38;5;241m=\u001b[39m src\u001b[38;5;241m.\u001b[39mread()  \u001b[38;5;66;03m# Shape: (num_predictors, height, width)\u001b[39;00m\n\u001b[0;32m     16\u001b[0m     meta \u001b[38;5;241m=\u001b[39m src\u001b[38;5;241m.\u001b[39mmeta\u001b[38;5;241m.\u001b[39mcopy()\n",
      "File \u001b[1;32m~\\anaconda3\\envs\\MscThesis\\lib\\site-packages\\rasterio\\env.py:451\u001b[0m, in \u001b[0;36mensure_env_with_credentials.<locals>.wrapper\u001b[1;34m(*args, **kwds)\u001b[0m\n\u001b[0;32m    448\u001b[0m     session \u001b[38;5;241m=\u001b[39m DummySession()\n\u001b[0;32m    450\u001b[0m \u001b[38;5;28;01mwith\u001b[39;00m env_ctor(session\u001b[38;5;241m=\u001b[39msession):\n\u001b[1;32m--> 451\u001b[0m     \u001b[38;5;28;01mreturn\u001b[39;00m f(\u001b[38;5;241m*\u001b[39margs, \u001b[38;5;241m*\u001b[39m\u001b[38;5;241m*\u001b[39mkwds)\n",
      "File \u001b[1;32m~\\anaconda3\\envs\\MscThesis\\lib\\site-packages\\rasterio\\__init__.py:304\u001b[0m, in \u001b[0;36mopen\u001b[1;34m(fp, mode, driver, width, height, count, crs, transform, dtype, nodata, sharing, **kwargs)\u001b[0m\n\u001b[0;32m    301\u001b[0m path \u001b[38;5;241m=\u001b[39m _parse_path(raw_dataset_path)\n\u001b[0;32m    303\u001b[0m \u001b[38;5;28;01mif\u001b[39;00m mode \u001b[38;5;241m==\u001b[39m \u001b[38;5;124m\"\u001b[39m\u001b[38;5;124mr\u001b[39m\u001b[38;5;124m\"\u001b[39m:\n\u001b[1;32m--> 304\u001b[0m     dataset \u001b[38;5;241m=\u001b[39m DatasetReader(path, driver\u001b[38;5;241m=\u001b[39mdriver, sharing\u001b[38;5;241m=\u001b[39msharing, \u001b[38;5;241m*\u001b[39m\u001b[38;5;241m*\u001b[39mkwargs)\n\u001b[0;32m    305\u001b[0m \u001b[38;5;28;01melif\u001b[39;00m mode \u001b[38;5;241m==\u001b[39m \u001b[38;5;124m\"\u001b[39m\u001b[38;5;124mr+\u001b[39m\u001b[38;5;124m\"\u001b[39m:\n\u001b[0;32m    306\u001b[0m     dataset \u001b[38;5;241m=\u001b[39m get_writer_for_path(path, driver\u001b[38;5;241m=\u001b[39mdriver)(\n\u001b[0;32m    307\u001b[0m         path, mode, driver\u001b[38;5;241m=\u001b[39mdriver, sharing\u001b[38;5;241m=\u001b[39msharing, \u001b[38;5;241m*\u001b[39m\u001b[38;5;241m*\u001b[39mkwargs\n\u001b[0;32m    308\u001b[0m     )\n",
      "File \u001b[1;32mrasterio\\\\_base.pyx:312\u001b[0m, in \u001b[0;36mrasterio._base.DatasetBase.__init__\u001b[1;34m()\u001b[0m\n",
      "\u001b[1;31mRasterioIOError\u001b[0m: C:/GIS_Course/MScThesis-MaviSantarelli/data/Predictors/Stacked_Predictors.tif: No such file or directory"
     ]
    }
   ],
   "source": [
    "import rasterio\n",
    "import numpy as np\n",
    "import joblib\n",
    "import os\n",
    "import pandas as pd\n",
    "\n",
    "# Define file paths\n",
    "stacked_raster_path = r\"C:\\GIS_Course\\MScThesis-MaviSantarelli\\data\\Predictors\\Stacked_Predictors.tif\"\n",
    "model_dir = r\"C:\\GIS_Course\\MScThesis-MaviSantarelli\\results\\Models\\Final_Ensemble_Model\"\n",
    "output_dir = r\"C:\\GIS_Course\\MScThesis-MaviSantarelli\\results\\Suitability_Maps\"\n",
    "os.makedirs(output_dir, exist_ok=True)\n",
    "\n",
    "# Load stacked raster\n",
    "with rasterio.open(stacked_raster_path) as src:\n",
    "    stacked_data = src.read()  # Shape: (num_predictors, height, width)\n",
    "    meta = src.meta.copy()\n",
    "\n",
    "# Iterate over species\n",
    "for species in species_list:\n",
    "    print(f\"🔍 Generating suitability map for {species}...\")\n",
    "\n",
    "    # Load trained ensemble model\n",
    "    model_path = os.path.join(model_dir, f\"{species}_Final_Ensemble_Model.pkl\")\n",
    "    if not os.path.exists(model_path):\n",
    "        print(f\"⚠️ Missing model for {species}. Skipping.\")\n",
    "        continue\n",
    "\n",
    "    ensemble_prediction = joblib.load(model_path)  # Load saved function\n",
    "\n",
    "    # Reshape raster data to (num_pixels, num_predictors)\n",
    "    num_predictors, height, width = stacked_data.shape\n",
    "    flat_data = stacked_data.reshape(num_predictors, -1).T  # Shape: (num_pixels, num_predictors)\n",
    "\n",
    "    # Convert raster to DataFrame for prediction\n",
    "    predictor_df = pd.DataFrame(flat_data, columns=[f\"Predictor_{i}\" for i in range(num_predictors)])\n",
    "\n",
    "    # Apply ensemble model\n",
    "    suitability_scores = ensemble_prediction(predictor_df)\n",
    "\n",
    "    # Reshape back to raster dimensions\n",
    "    suitability_map = suitability_scores.reshape(height, width)\n",
    "\n",
    "    # Save suitability map\n",
    "    meta.update(dtype=rasterio.float32, count=1)  # Update metadata\n",
    "    output_file = os.path.join(output_dir, f\"{species}_Suitability_Map.tif\")\n",
    "\n",
    "    with rasterio.open(output_file, \"w\", **meta) as dst:\n",
    "        dst.write(suitability_map.astype(np.float32), 1)\n",
    "\n",
    "    print(f\"✅ Suitability map saved: {output_file}\")\n",
    "\n",
    "print(\"\\n🚀 Suitability maps generated! Ready for visualization and connectivity analysis.\")\n"
   ]
  },
  {
   "cell_type": "code",
   "execution_count": null,
   "id": "71066b88-14b6-42c8-b071-4bd60f3a2b60",
   "metadata": {},
   "outputs": [],
   "source": []
  }
 ],
 "metadata": {
  "kernelspec": {
   "display_name": "Python (MscThesis)",
   "language": "python",
   "name": "mscthesis"
  },
  "language_info": {
   "codemirror_mode": {
    "name": "ipython",
    "version": 3
   },
   "file_extension": ".py",
   "mimetype": "text/x-python",
   "name": "python",
   "nbconvert_exporter": "python",
   "pygments_lexer": "ipython3",
   "version": "3.9.19"
  }
 },
 "nbformat": 4,
 "nbformat_minor": 5
}
